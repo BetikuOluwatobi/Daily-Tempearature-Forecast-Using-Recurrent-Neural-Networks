{
  "nbformat": 4,
  "nbformat_minor": 0,
  "metadata": {
    "accelerator": "TPU",
    "colab": {
      "name": "Daily_Temperature_Forecast.ipynb",
      "provenance": [],
      "include_colab_link": true
    },
    "kernelspec": {
      "display_name": "Python 3",
      "name": "python3"
    },
    "language_info": {
      "name": "python"
    },
    "gpuClass": "standard"
  },
  "cells": [
    {
      "cell_type": "markdown",
      "metadata": {
        "id": "view-in-github",
        "colab_type": "text"
      },
      "source": [
        "<a href=\"https://colab.research.google.com/github/BetikuOluwatobi/Daily-Tempearature-Forecast-Using-Recurrent-Neural-Networks/blob/main/Daily_Temperature_Forecast.ipynb\" target=\"_parent\"><img src=\"https://colab.research.google.com/assets/colab-badge.svg\" alt=\"Open In Colab\"/></a>"
      ]
    },
    {
      "cell_type": "code",
      "metadata": {
        "id": "oyxUU1ywUJFt"
      },
      "source": [
        "import matplotlib.pyplot as plt\n",
        "import pandas as pd\n",
        "import numpy as np\n",
        "import tensorflow as tf\n",
        "import os"
      ],
      "execution_count": 1,
      "outputs": []
    },
    {
      "cell_type": "code",
      "metadata": {
        "id": "ElQdtVufUhS_",
        "colab": {
          "base_uri": "https://localhost:8080/"
        },
        "outputId": "cc2fb3d5-5c83-4dc6-bb7c-d58c7f2beaae"
      },
      "source": [
        "from google.colab import drive\n",
        "drive.mount('/gdrive')"
      ],
      "execution_count": 2,
      "outputs": [
        {
          "output_type": "stream",
          "name": "stdout",
          "text": [
            "Mounted at /gdrive\n"
          ]
        }
      ]
    },
    {
      "cell_type": "code",
      "metadata": {
        "id": "bzBBH7vFUlf2"
      },
      "source": [
        "tf.keras.backend.clear_session()\n",
        "tf.random.set_seed(51)\n",
        "np.random.seed(51)"
      ],
      "execution_count": 3,
      "outputs": []
    },
    {
      "cell_type": "markdown",
      "metadata": {
        "id": "kfhFsD5OUB6P"
      },
      "source": [
        "## Mounting Drive"
      ]
    },
    {
      "cell_type": "code",
      "metadata": {
        "id": "HCC9RuFtuU97"
      },
      "source": [
        "data_names = os.listdir('/gdrive/MyDrive/Colab Notebooks/Tensorflow_in_practice/Mr_Kebou_Project/raw-data')"
      ],
      "execution_count": 4,
      "outputs": []
    },
    {
      "cell_type": "markdown",
      "source": [
        "# Load multiple CSV files into a single pandas dataframe\n",
        "\n",
        "This code is a function that loads multiple CSV files located in a specific directory into a single pandas dataframe. The function takes two parameters: `dir`, which is the path to the directory where the CSV files are located, and `data_names`, which is a list of the names of the CSV files to load.\n",
        "\n",
        "The function first initializes an empty pandas dataframe called `df`. It then loops through each file in `data_names`, reads the file using the `csv` module, and extracts the data starting from the 16th row (excluding the header row). If the first row of the extracted data is empty, it is removed from the data.\n",
        "\n",
        "The extracted data is then converted into a new pandas dataframe called `df_new` with the first row as column names. The `df_new` dataframe is concatenated with the `df` dataframe along the row axis using `pd.concat()`, ignoring the original index values.\n",
        "\n",
        "Finally, the function returns the concatenated dataframe `df`.\n",
        "\n",
        "Note that the code assumes that all CSV files have the same format and the same number of columns. It also assumes that the CSV files have a header row. If these assumptions are not true, the code may need to be modified accordingly."
      ],
      "metadata": {
        "id": "DuIhZ22zTvj-"
      }
    },
    {
      "cell_type": "code",
      "metadata": {
        "id": "xOvTfvrBtg2o"
      },
      "source": [
        "import csv\n",
        "path = '/gdrive/MyDrive/Colab Notebooks/Tensorflow_in_practice/Mr_Kebou_Project/raw-data/'\n",
        "def load_datas(dir=path,data_names = data_names):\n",
        "  df = pd.DataFrame()\n",
        "  for i, name in enumerate(data_names):\n",
        "    if i > 0:\n",
        "      the_file = open(path+name, 'r')\n",
        "      reader = csv.reader(the_file)\n",
        "      data = []\n",
        "      for i, row in enumerate(reader):\n",
        "          if i >= 15:\n",
        "            data.append(row)\n",
        "      if len(data[0]) < 1:\n",
        "        data = data[1:]\n",
        "      df_new = pd.DataFrame(data[1:],columns=data[0])\n",
        "      df = pd.concat([df,df_new],axis=0,ignore_index=True)\n",
        "  return df\n"
      ],
      "execution_count": 5,
      "outputs": []
    },
    {
      "cell_type": "code",
      "metadata": {
        "id": "j-Xe_azc92Kn"
      },
      "source": [
        "df = load_datas(dir=path,data_names = data_names)"
      ],
      "execution_count": 6,
      "outputs": []
    },
    {
      "cell_type": "code",
      "metadata": {
        "colab": {
          "base_uri": "https://localhost:8080/",
          "height": 713
        },
        "id": "K5nCAx7KULLj",
        "outputId": "d33c9d8d-de44-4d2f-8188-c118ac9564c7"
      },
      "source": [
        "df"
      ],
      "execution_count": 7,
      "outputs": [
        {
          "output_type": "execute_result",
          "data": {
            "text/plain": [
              "              Date/Time  Year Month Day   Time Temp (°C) Temp Flag  \\\n",
              "0      2017-04-01 00:00  2017    04  01  00:00       0.6             \n",
              "1      2017-04-01 01:00  2017    04  01  01:00       0.6             \n",
              "2      2017-04-01 02:00  2017    04  01  02:00       0.7             \n",
              "3      2017-04-01 03:00  2017    04  01  03:00       0.6             \n",
              "4      2017-04-01 04:00  2017    04  01  04:00       0.7             \n",
              "...                 ...   ...   ...  ..    ...       ...       ...   \n",
              "40171  2017-09-30 19:00  2017    09  30  19:00       9.3             \n",
              "40172  2017-09-30 20:00  2017    09  30  20:00       7.7             \n",
              "40173  2017-09-30 21:00  2017    09  30  21:00       6.4             \n",
              "40174  2017-09-30 22:00  2017    09  30  22:00       4.2             \n",
              "40175  2017-09-30 23:00  2017    09  30  23:00       4.0             \n",
              "\n",
              "      Dew Point Temp (°C) Dew Point Temp Flag Rel Hum (%)  ... Wind Spd Flag  \\\n",
              "0                     0.1                              96  ...                 \n",
              "1                     0.1                              96  ...                 \n",
              "2                     0.1                              96  ...                 \n",
              "3                     0.0                              96  ...                 \n",
              "4                     0.1                              96  ...                 \n",
              "...                   ...                 ...         ...  ...           ...   \n",
              "40171                 4.0                              70  ...                 \n",
              "40172                 5.7                              87  ...                 \n",
              "40173                 5.4                              93  ...                 \n",
              "40174                 3.4                              95  ...                 \n",
              "40175                 3.4                              96  ...                 \n",
              "\n",
              "      Visibility (km) Visibility Flag Stn Press (kPa) Stn Press Flag Hmdx  \\\n",
              "0                                               99.91                       \n",
              "1                                               99.91                       \n",
              "2                                               99.94                       \n",
              "3                                               99.99                       \n",
              "4                                              100.06                       \n",
              "...               ...             ...             ...            ...  ...   \n",
              "40171                                          101.73                       \n",
              "40172                                          101.77                       \n",
              "40173                                          101.77                       \n",
              "40174                                          101.78                       \n",
              "40175                                          101.76                       \n",
              "\n",
              "      Hmdx Flag Wind Chill Wind Chill Flag Weather  \n",
              "0                                               NA  \n",
              "1                                               NA  \n",
              "2                                               NA  \n",
              "3                                               NA  \n",
              "4                                               NA  \n",
              "...         ...        ...             ...     ...  \n",
              "40171                                           NA  \n",
              "40172                                           NA  \n",
              "40173                                           NA  \n",
              "40174                                           NA  \n",
              "40175                                           NA  \n",
              "\n",
              "[40176 rows x 24 columns]"
            ],
            "text/html": [
              "\n",
              "  <div id=\"df-9d9151ff-6d16-4eb2-80f7-8e581da2e5f1\">\n",
              "    <div class=\"colab-df-container\">\n",
              "      <div>\n",
              "<style scoped>\n",
              "    .dataframe tbody tr th:only-of-type {\n",
              "        vertical-align: middle;\n",
              "    }\n",
              "\n",
              "    .dataframe tbody tr th {\n",
              "        vertical-align: top;\n",
              "    }\n",
              "\n",
              "    .dataframe thead th {\n",
              "        text-align: right;\n",
              "    }\n",
              "</style>\n",
              "<table border=\"1\" class=\"dataframe\">\n",
              "  <thead>\n",
              "    <tr style=\"text-align: right;\">\n",
              "      <th></th>\n",
              "      <th>Date/Time</th>\n",
              "      <th>Year</th>\n",
              "      <th>Month</th>\n",
              "      <th>Day</th>\n",
              "      <th>Time</th>\n",
              "      <th>Temp (°C)</th>\n",
              "      <th>Temp Flag</th>\n",
              "      <th>Dew Point Temp (°C)</th>\n",
              "      <th>Dew Point Temp Flag</th>\n",
              "      <th>Rel Hum (%)</th>\n",
              "      <th>...</th>\n",
              "      <th>Wind Spd Flag</th>\n",
              "      <th>Visibility (km)</th>\n",
              "      <th>Visibility Flag</th>\n",
              "      <th>Stn Press (kPa)</th>\n",
              "      <th>Stn Press Flag</th>\n",
              "      <th>Hmdx</th>\n",
              "      <th>Hmdx Flag</th>\n",
              "      <th>Wind Chill</th>\n",
              "      <th>Wind Chill Flag</th>\n",
              "      <th>Weather</th>\n",
              "    </tr>\n",
              "  </thead>\n",
              "  <tbody>\n",
              "    <tr>\n",
              "      <th>0</th>\n",
              "      <td>2017-04-01 00:00</td>\n",
              "      <td>2017</td>\n",
              "      <td>04</td>\n",
              "      <td>01</td>\n",
              "      <td>00:00</td>\n",
              "      <td>0.6</td>\n",
              "      <td></td>\n",
              "      <td>0.1</td>\n",
              "      <td></td>\n",
              "      <td>96</td>\n",
              "      <td>...</td>\n",
              "      <td></td>\n",
              "      <td></td>\n",
              "      <td></td>\n",
              "      <td>99.91</td>\n",
              "      <td></td>\n",
              "      <td></td>\n",
              "      <td></td>\n",
              "      <td></td>\n",
              "      <td></td>\n",
              "      <td>NA</td>\n",
              "    </tr>\n",
              "    <tr>\n",
              "      <th>1</th>\n",
              "      <td>2017-04-01 01:00</td>\n",
              "      <td>2017</td>\n",
              "      <td>04</td>\n",
              "      <td>01</td>\n",
              "      <td>01:00</td>\n",
              "      <td>0.6</td>\n",
              "      <td></td>\n",
              "      <td>0.1</td>\n",
              "      <td></td>\n",
              "      <td>96</td>\n",
              "      <td>...</td>\n",
              "      <td></td>\n",
              "      <td></td>\n",
              "      <td></td>\n",
              "      <td>99.91</td>\n",
              "      <td></td>\n",
              "      <td></td>\n",
              "      <td></td>\n",
              "      <td></td>\n",
              "      <td></td>\n",
              "      <td>NA</td>\n",
              "    </tr>\n",
              "    <tr>\n",
              "      <th>2</th>\n",
              "      <td>2017-04-01 02:00</td>\n",
              "      <td>2017</td>\n",
              "      <td>04</td>\n",
              "      <td>01</td>\n",
              "      <td>02:00</td>\n",
              "      <td>0.7</td>\n",
              "      <td></td>\n",
              "      <td>0.1</td>\n",
              "      <td></td>\n",
              "      <td>96</td>\n",
              "      <td>...</td>\n",
              "      <td></td>\n",
              "      <td></td>\n",
              "      <td></td>\n",
              "      <td>99.94</td>\n",
              "      <td></td>\n",
              "      <td></td>\n",
              "      <td></td>\n",
              "      <td></td>\n",
              "      <td></td>\n",
              "      <td>NA</td>\n",
              "    </tr>\n",
              "    <tr>\n",
              "      <th>3</th>\n",
              "      <td>2017-04-01 03:00</td>\n",
              "      <td>2017</td>\n",
              "      <td>04</td>\n",
              "      <td>01</td>\n",
              "      <td>03:00</td>\n",
              "      <td>0.6</td>\n",
              "      <td></td>\n",
              "      <td>0.0</td>\n",
              "      <td></td>\n",
              "      <td>96</td>\n",
              "      <td>...</td>\n",
              "      <td></td>\n",
              "      <td></td>\n",
              "      <td></td>\n",
              "      <td>99.99</td>\n",
              "      <td></td>\n",
              "      <td></td>\n",
              "      <td></td>\n",
              "      <td></td>\n",
              "      <td></td>\n",
              "      <td>NA</td>\n",
              "    </tr>\n",
              "    <tr>\n",
              "      <th>4</th>\n",
              "      <td>2017-04-01 04:00</td>\n",
              "      <td>2017</td>\n",
              "      <td>04</td>\n",
              "      <td>01</td>\n",
              "      <td>04:00</td>\n",
              "      <td>0.7</td>\n",
              "      <td></td>\n",
              "      <td>0.1</td>\n",
              "      <td></td>\n",
              "      <td>96</td>\n",
              "      <td>...</td>\n",
              "      <td></td>\n",
              "      <td></td>\n",
              "      <td></td>\n",
              "      <td>100.06</td>\n",
              "      <td></td>\n",
              "      <td></td>\n",
              "      <td></td>\n",
              "      <td></td>\n",
              "      <td></td>\n",
              "      <td>NA</td>\n",
              "    </tr>\n",
              "    <tr>\n",
              "      <th>...</th>\n",
              "      <td>...</td>\n",
              "      <td>...</td>\n",
              "      <td>...</td>\n",
              "      <td>...</td>\n",
              "      <td>...</td>\n",
              "      <td>...</td>\n",
              "      <td>...</td>\n",
              "      <td>...</td>\n",
              "      <td>...</td>\n",
              "      <td>...</td>\n",
              "      <td>...</td>\n",
              "      <td>...</td>\n",
              "      <td>...</td>\n",
              "      <td>...</td>\n",
              "      <td>...</td>\n",
              "      <td>...</td>\n",
              "      <td>...</td>\n",
              "      <td>...</td>\n",
              "      <td>...</td>\n",
              "      <td>...</td>\n",
              "      <td>...</td>\n",
              "    </tr>\n",
              "    <tr>\n",
              "      <th>40171</th>\n",
              "      <td>2017-09-30 19:00</td>\n",
              "      <td>2017</td>\n",
              "      <td>09</td>\n",
              "      <td>30</td>\n",
              "      <td>19:00</td>\n",
              "      <td>9.3</td>\n",
              "      <td></td>\n",
              "      <td>4.0</td>\n",
              "      <td></td>\n",
              "      <td>70</td>\n",
              "      <td>...</td>\n",
              "      <td></td>\n",
              "      <td></td>\n",
              "      <td></td>\n",
              "      <td>101.73</td>\n",
              "      <td></td>\n",
              "      <td></td>\n",
              "      <td></td>\n",
              "      <td></td>\n",
              "      <td></td>\n",
              "      <td>NA</td>\n",
              "    </tr>\n",
              "    <tr>\n",
              "      <th>40172</th>\n",
              "      <td>2017-09-30 20:00</td>\n",
              "      <td>2017</td>\n",
              "      <td>09</td>\n",
              "      <td>30</td>\n",
              "      <td>20:00</td>\n",
              "      <td>7.7</td>\n",
              "      <td></td>\n",
              "      <td>5.7</td>\n",
              "      <td></td>\n",
              "      <td>87</td>\n",
              "      <td>...</td>\n",
              "      <td></td>\n",
              "      <td></td>\n",
              "      <td></td>\n",
              "      <td>101.77</td>\n",
              "      <td></td>\n",
              "      <td></td>\n",
              "      <td></td>\n",
              "      <td></td>\n",
              "      <td></td>\n",
              "      <td>NA</td>\n",
              "    </tr>\n",
              "    <tr>\n",
              "      <th>40173</th>\n",
              "      <td>2017-09-30 21:00</td>\n",
              "      <td>2017</td>\n",
              "      <td>09</td>\n",
              "      <td>30</td>\n",
              "      <td>21:00</td>\n",
              "      <td>6.4</td>\n",
              "      <td></td>\n",
              "      <td>5.4</td>\n",
              "      <td></td>\n",
              "      <td>93</td>\n",
              "      <td>...</td>\n",
              "      <td></td>\n",
              "      <td></td>\n",
              "      <td></td>\n",
              "      <td>101.77</td>\n",
              "      <td></td>\n",
              "      <td></td>\n",
              "      <td></td>\n",
              "      <td></td>\n",
              "      <td></td>\n",
              "      <td>NA</td>\n",
              "    </tr>\n",
              "    <tr>\n",
              "      <th>40174</th>\n",
              "      <td>2017-09-30 22:00</td>\n",
              "      <td>2017</td>\n",
              "      <td>09</td>\n",
              "      <td>30</td>\n",
              "      <td>22:00</td>\n",
              "      <td>4.2</td>\n",
              "      <td></td>\n",
              "      <td>3.4</td>\n",
              "      <td></td>\n",
              "      <td>95</td>\n",
              "      <td>...</td>\n",
              "      <td></td>\n",
              "      <td></td>\n",
              "      <td></td>\n",
              "      <td>101.78</td>\n",
              "      <td></td>\n",
              "      <td></td>\n",
              "      <td></td>\n",
              "      <td></td>\n",
              "      <td></td>\n",
              "      <td>NA</td>\n",
              "    </tr>\n",
              "    <tr>\n",
              "      <th>40175</th>\n",
              "      <td>2017-09-30 23:00</td>\n",
              "      <td>2017</td>\n",
              "      <td>09</td>\n",
              "      <td>30</td>\n",
              "      <td>23:00</td>\n",
              "      <td>4.0</td>\n",
              "      <td></td>\n",
              "      <td>3.4</td>\n",
              "      <td></td>\n",
              "      <td>96</td>\n",
              "      <td>...</td>\n",
              "      <td></td>\n",
              "      <td></td>\n",
              "      <td></td>\n",
              "      <td>101.76</td>\n",
              "      <td></td>\n",
              "      <td></td>\n",
              "      <td></td>\n",
              "      <td></td>\n",
              "      <td></td>\n",
              "      <td>NA</td>\n",
              "    </tr>\n",
              "  </tbody>\n",
              "</table>\n",
              "<p>40176 rows × 24 columns</p>\n",
              "</div>\n",
              "      <button class=\"colab-df-convert\" onclick=\"convertToInteractive('df-9d9151ff-6d16-4eb2-80f7-8e581da2e5f1')\"\n",
              "              title=\"Convert this dataframe to an interactive table.\"\n",
              "              style=\"display:none;\">\n",
              "        \n",
              "  <svg xmlns=\"http://www.w3.org/2000/svg\" height=\"24px\"viewBox=\"0 0 24 24\"\n",
              "       width=\"24px\">\n",
              "    <path d=\"M0 0h24v24H0V0z\" fill=\"none\"/>\n",
              "    <path d=\"M18.56 5.44l.94 2.06.94-2.06 2.06-.94-2.06-.94-.94-2.06-.94 2.06-2.06.94zm-11 1L8.5 8.5l.94-2.06 2.06-.94-2.06-.94L8.5 2.5l-.94 2.06-2.06.94zm10 10l.94 2.06.94-2.06 2.06-.94-2.06-.94-.94-2.06-.94 2.06-2.06.94z\"/><path d=\"M17.41 7.96l-1.37-1.37c-.4-.4-.92-.59-1.43-.59-.52 0-1.04.2-1.43.59L10.3 9.45l-7.72 7.72c-.78.78-.78 2.05 0 2.83L4 21.41c.39.39.9.59 1.41.59.51 0 1.02-.2 1.41-.59l7.78-7.78 2.81-2.81c.8-.78.8-2.07 0-2.86zM5.41 20L4 18.59l7.72-7.72 1.47 1.35L5.41 20z\"/>\n",
              "  </svg>\n",
              "      </button>\n",
              "      \n",
              "  <style>\n",
              "    .colab-df-container {\n",
              "      display:flex;\n",
              "      flex-wrap:wrap;\n",
              "      gap: 12px;\n",
              "    }\n",
              "\n",
              "    .colab-df-convert {\n",
              "      background-color: #E8F0FE;\n",
              "      border: none;\n",
              "      border-radius: 50%;\n",
              "      cursor: pointer;\n",
              "      display: none;\n",
              "      fill: #1967D2;\n",
              "      height: 32px;\n",
              "      padding: 0 0 0 0;\n",
              "      width: 32px;\n",
              "    }\n",
              "\n",
              "    .colab-df-convert:hover {\n",
              "      background-color: #E2EBFA;\n",
              "      box-shadow: 0px 1px 2px rgba(60, 64, 67, 0.3), 0px 1px 3px 1px rgba(60, 64, 67, 0.15);\n",
              "      fill: #174EA6;\n",
              "    }\n",
              "\n",
              "    [theme=dark] .colab-df-convert {\n",
              "      background-color: #3B4455;\n",
              "      fill: #D2E3FC;\n",
              "    }\n",
              "\n",
              "    [theme=dark] .colab-df-convert:hover {\n",
              "      background-color: #434B5C;\n",
              "      box-shadow: 0px 1px 3px 1px rgba(0, 0, 0, 0.15);\n",
              "      filter: drop-shadow(0px 1px 2px rgba(0, 0, 0, 0.3));\n",
              "      fill: #FFFFFF;\n",
              "    }\n",
              "  </style>\n",
              "\n",
              "      <script>\n",
              "        const buttonEl =\n",
              "          document.querySelector('#df-9d9151ff-6d16-4eb2-80f7-8e581da2e5f1 button.colab-df-convert');\n",
              "        buttonEl.style.display =\n",
              "          google.colab.kernel.accessAllowed ? 'block' : 'none';\n",
              "\n",
              "        async function convertToInteractive(key) {\n",
              "          const element = document.querySelector('#df-9d9151ff-6d16-4eb2-80f7-8e581da2e5f1');\n",
              "          const dataTable =\n",
              "            await google.colab.kernel.invokeFunction('convertToInteractive',\n",
              "                                                     [key], {});\n",
              "          if (!dataTable) return;\n",
              "\n",
              "          const docLinkHtml = 'Like what you see? Visit the ' +\n",
              "            '<a target=\"_blank\" href=https://colab.research.google.com/notebooks/data_table.ipynb>data table notebook</a>'\n",
              "            + ' to learn more about interactive tables.';\n",
              "          element.innerHTML = '';\n",
              "          dataTable['output_type'] = 'display_data';\n",
              "          await google.colab.output.renderOutput(dataTable, element);\n",
              "          const docLink = document.createElement('div');\n",
              "          docLink.innerHTML = docLinkHtml;\n",
              "          element.appendChild(docLink);\n",
              "        }\n",
              "      </script>\n",
              "    </div>\n",
              "  </div>\n",
              "  "
            ]
          },
          "metadata": {},
          "execution_count": 7
        }
      ]
    },
    {
      "cell_type": "markdown",
      "metadata": {
        "id": "fePiafxQTUsQ"
      },
      "source": [
        "## Converting the date/time column to python datatime data type"
      ]
    },
    {
      "cell_type": "code",
      "metadata": {
        "id": "KTk4yXTk-gmK"
      },
      "source": [
        "df['Date/Time'] = pd.to_datetime(df['Date/Time'])"
      ],
      "execution_count": 8,
      "outputs": []
    },
    {
      "cell_type": "markdown",
      "metadata": {
        "id": "DwtaCq4KTekd"
      },
      "source": [
        "### Sorting rows by the Date/Time column"
      ]
    },
    {
      "cell_type": "code",
      "metadata": {
        "id": "05_5qU8GAwoI"
      },
      "source": [
        "df = df.sort_values(by='Date/Time',ignore_index=True)"
      ],
      "execution_count": 9,
      "outputs": []
    },
    {
      "cell_type": "code",
      "metadata": {
        "colab": {
          "base_uri": "https://localhost:8080/",
          "height": 423
        },
        "id": "DOlhs2yoNalw",
        "outputId": "2dc73720-1319-4254-e1b1-3e3611b3e668"
      },
      "source": [
        "pd.concat([df['Date/Time'],pd.Series(df['Temp (°C)'].values,name='Temp')],axis=1)"
      ],
      "execution_count": 10,
      "outputs": [
        {
          "output_type": "execute_result",
          "data": {
            "text/plain": [
              "                Date/Time  Temp\n",
              "0     2015-01-01 00:00:00  -5.9\n",
              "1     2015-01-01 01:00:00  -5.9\n",
              "2     2015-01-01 02:00:00  -6.1\n",
              "3     2015-01-01 03:00:00  -5.8\n",
              "4     2015-01-01 04:00:00  -5.7\n",
              "...                   ...   ...\n",
              "40171 2019-08-31 19:00:00  None\n",
              "40172 2019-08-31 20:00:00  None\n",
              "40173 2019-08-31 21:00:00  None\n",
              "40174 2019-08-31 22:00:00  None\n",
              "40175 2019-08-31 23:00:00  None\n",
              "\n",
              "[40176 rows x 2 columns]"
            ],
            "text/html": [
              "\n",
              "  <div id=\"df-96a802d5-e99a-4efd-9a8c-60845bfba111\">\n",
              "    <div class=\"colab-df-container\">\n",
              "      <div>\n",
              "<style scoped>\n",
              "    .dataframe tbody tr th:only-of-type {\n",
              "        vertical-align: middle;\n",
              "    }\n",
              "\n",
              "    .dataframe tbody tr th {\n",
              "        vertical-align: top;\n",
              "    }\n",
              "\n",
              "    .dataframe thead th {\n",
              "        text-align: right;\n",
              "    }\n",
              "</style>\n",
              "<table border=\"1\" class=\"dataframe\">\n",
              "  <thead>\n",
              "    <tr style=\"text-align: right;\">\n",
              "      <th></th>\n",
              "      <th>Date/Time</th>\n",
              "      <th>Temp</th>\n",
              "    </tr>\n",
              "  </thead>\n",
              "  <tbody>\n",
              "    <tr>\n",
              "      <th>0</th>\n",
              "      <td>2015-01-01 00:00:00</td>\n",
              "      <td>-5.9</td>\n",
              "    </tr>\n",
              "    <tr>\n",
              "      <th>1</th>\n",
              "      <td>2015-01-01 01:00:00</td>\n",
              "      <td>-5.9</td>\n",
              "    </tr>\n",
              "    <tr>\n",
              "      <th>2</th>\n",
              "      <td>2015-01-01 02:00:00</td>\n",
              "      <td>-6.1</td>\n",
              "    </tr>\n",
              "    <tr>\n",
              "      <th>3</th>\n",
              "      <td>2015-01-01 03:00:00</td>\n",
              "      <td>-5.8</td>\n",
              "    </tr>\n",
              "    <tr>\n",
              "      <th>4</th>\n",
              "      <td>2015-01-01 04:00:00</td>\n",
              "      <td>-5.7</td>\n",
              "    </tr>\n",
              "    <tr>\n",
              "      <th>...</th>\n",
              "      <td>...</td>\n",
              "      <td>...</td>\n",
              "    </tr>\n",
              "    <tr>\n",
              "      <th>40171</th>\n",
              "      <td>2019-08-31 19:00:00</td>\n",
              "      <td>None</td>\n",
              "    </tr>\n",
              "    <tr>\n",
              "      <th>40172</th>\n",
              "      <td>2019-08-31 20:00:00</td>\n",
              "      <td>None</td>\n",
              "    </tr>\n",
              "    <tr>\n",
              "      <th>40173</th>\n",
              "      <td>2019-08-31 21:00:00</td>\n",
              "      <td>None</td>\n",
              "    </tr>\n",
              "    <tr>\n",
              "      <th>40174</th>\n",
              "      <td>2019-08-31 22:00:00</td>\n",
              "      <td>None</td>\n",
              "    </tr>\n",
              "    <tr>\n",
              "      <th>40175</th>\n",
              "      <td>2019-08-31 23:00:00</td>\n",
              "      <td>None</td>\n",
              "    </tr>\n",
              "  </tbody>\n",
              "</table>\n",
              "<p>40176 rows × 2 columns</p>\n",
              "</div>\n",
              "      <button class=\"colab-df-convert\" onclick=\"convertToInteractive('df-96a802d5-e99a-4efd-9a8c-60845bfba111')\"\n",
              "              title=\"Convert this dataframe to an interactive table.\"\n",
              "              style=\"display:none;\">\n",
              "        \n",
              "  <svg xmlns=\"http://www.w3.org/2000/svg\" height=\"24px\"viewBox=\"0 0 24 24\"\n",
              "       width=\"24px\">\n",
              "    <path d=\"M0 0h24v24H0V0z\" fill=\"none\"/>\n",
              "    <path d=\"M18.56 5.44l.94 2.06.94-2.06 2.06-.94-2.06-.94-.94-2.06-.94 2.06-2.06.94zm-11 1L8.5 8.5l.94-2.06 2.06-.94-2.06-.94L8.5 2.5l-.94 2.06-2.06.94zm10 10l.94 2.06.94-2.06 2.06-.94-2.06-.94-.94-2.06-.94 2.06-2.06.94z\"/><path d=\"M17.41 7.96l-1.37-1.37c-.4-.4-.92-.59-1.43-.59-.52 0-1.04.2-1.43.59L10.3 9.45l-7.72 7.72c-.78.78-.78 2.05 0 2.83L4 21.41c.39.39.9.59 1.41.59.51 0 1.02-.2 1.41-.59l7.78-7.78 2.81-2.81c.8-.78.8-2.07 0-2.86zM5.41 20L4 18.59l7.72-7.72 1.47 1.35L5.41 20z\"/>\n",
              "  </svg>\n",
              "      </button>\n",
              "      \n",
              "  <style>\n",
              "    .colab-df-container {\n",
              "      display:flex;\n",
              "      flex-wrap:wrap;\n",
              "      gap: 12px;\n",
              "    }\n",
              "\n",
              "    .colab-df-convert {\n",
              "      background-color: #E8F0FE;\n",
              "      border: none;\n",
              "      border-radius: 50%;\n",
              "      cursor: pointer;\n",
              "      display: none;\n",
              "      fill: #1967D2;\n",
              "      height: 32px;\n",
              "      padding: 0 0 0 0;\n",
              "      width: 32px;\n",
              "    }\n",
              "\n",
              "    .colab-df-convert:hover {\n",
              "      background-color: #E2EBFA;\n",
              "      box-shadow: 0px 1px 2px rgba(60, 64, 67, 0.3), 0px 1px 3px 1px rgba(60, 64, 67, 0.15);\n",
              "      fill: #174EA6;\n",
              "    }\n",
              "\n",
              "    [theme=dark] .colab-df-convert {\n",
              "      background-color: #3B4455;\n",
              "      fill: #D2E3FC;\n",
              "    }\n",
              "\n",
              "    [theme=dark] .colab-df-convert:hover {\n",
              "      background-color: #434B5C;\n",
              "      box-shadow: 0px 1px 3px 1px rgba(0, 0, 0, 0.15);\n",
              "      filter: drop-shadow(0px 1px 2px rgba(0, 0, 0, 0.3));\n",
              "      fill: #FFFFFF;\n",
              "    }\n",
              "  </style>\n",
              "\n",
              "      <script>\n",
              "        const buttonEl =\n",
              "          document.querySelector('#df-96a802d5-e99a-4efd-9a8c-60845bfba111 button.colab-df-convert');\n",
              "        buttonEl.style.display =\n",
              "          google.colab.kernel.accessAllowed ? 'block' : 'none';\n",
              "\n",
              "        async function convertToInteractive(key) {\n",
              "          const element = document.querySelector('#df-96a802d5-e99a-4efd-9a8c-60845bfba111');\n",
              "          const dataTable =\n",
              "            await google.colab.kernel.invokeFunction('convertToInteractive',\n",
              "                                                     [key], {});\n",
              "          if (!dataTable) return;\n",
              "\n",
              "          const docLinkHtml = 'Like what you see? Visit the ' +\n",
              "            '<a target=\"_blank\" href=https://colab.research.google.com/notebooks/data_table.ipynb>data table notebook</a>'\n",
              "            + ' to learn more about interactive tables.';\n",
              "          element.innerHTML = '';\n",
              "          dataTable['output_type'] = 'display_data';\n",
              "          await google.colab.output.renderOutput(dataTable, element);\n",
              "          const docLink = document.createElement('div');\n",
              "          docLink.innerHTML = docLinkHtml;\n",
              "          element.appendChild(docLink);\n",
              "        }\n",
              "      </script>\n",
              "    </div>\n",
              "  </div>\n",
              "  "
            ]
          },
          "metadata": {},
          "execution_count": 10
        }
      ]
    },
    {
      "cell_type": "code",
      "metadata": {
        "colab": {
          "base_uri": "https://localhost:8080/",
          "height": 886
        },
        "id": "IR5OJKZIUxn4",
        "outputId": "f65a2a29-d33d-466f-be3f-e481088cf23d"
      },
      "source": [
        "df"
      ],
      "execution_count": 11,
      "outputs": [
        {
          "output_type": "execute_result",
          "data": {
            "text/plain": [
              "                Date/Time  Year Month Day   Time Temp (°C) Temp Flag  \\\n",
              "0     2015-01-01 00:00:00  2015    01  01  00:00      -5.9             \n",
              "1     2015-01-01 01:00:00  2015    01  01  01:00      -5.9             \n",
              "2     2015-01-01 02:00:00  2015    01  01  02:00      -6.1             \n",
              "3     2015-01-01 03:00:00  2015    01  01  03:00      -5.8             \n",
              "4     2015-01-01 04:00:00  2015    01  01  04:00      -5.7             \n",
              "...                   ...   ...   ...  ..    ...       ...       ...   \n",
              "40171 2019-08-31 19:00:00  2019    08  31  19:00      None      None   \n",
              "40172 2019-08-31 20:00:00  2019    08  31  20:00      None      None   \n",
              "40173 2019-08-31 21:00:00  2019    08  31  21:00      None      None   \n",
              "40174 2019-08-31 22:00:00  2019    08  31  22:00      None      None   \n",
              "40175 2019-08-31 23:00:00  2019    08  31  23:00      None      None   \n",
              "\n",
              "      Dew Point Temp (°C) Dew Point Temp Flag Rel Hum (%)  ... Wind Spd Flag  \\\n",
              "0                   -11.8                              63  ...                 \n",
              "1                   -13.6                              54  ...                 \n",
              "2                   -14.2                              53  ...                 \n",
              "3                   -13.2                              56  ...                 \n",
              "4                   -11.9                              62  ...                 \n",
              "...                   ...                 ...         ...  ...           ...   \n",
              "40171                None                None        None  ...          None   \n",
              "40172                None                None        None  ...          None   \n",
              "40173                None                None        None  ...          None   \n",
              "40174                None                None        None  ...          None   \n",
              "40175                None                None        None  ...          None   \n",
              "\n",
              "      Visibility (km) Visibility Flag Stn Press (kPa) Stn Press Flag  Hmdx  \\\n",
              "0                                              100.21                        \n",
              "1                                              100.19                        \n",
              "2                                              100.17                        \n",
              "3                                              100.14                        \n",
              "4                                              100.14                        \n",
              "...               ...             ...             ...            ...   ...   \n",
              "40171            None            None            None           None  None   \n",
              "40172            None            None            None           None  None   \n",
              "40173            None            None            None           None  None   \n",
              "40174            None            None            None           None  None   \n",
              "40175            None            None            None           None  None   \n",
              "\n",
              "      Hmdx Flag Wind Chill Wind Chill Flag Weather  \n",
              "0                      -14                      NA  \n",
              "1                      -13                      NA  \n",
              "2                      -14                      NA  \n",
              "3                      -14                      NA  \n",
              "4                      -13                      NA  \n",
              "...         ...        ...             ...     ...  \n",
              "40171      None       None            None    None  \n",
              "40172      None       None            None    None  \n",
              "40173      None       None            None    None  \n",
              "40174      None       None            None    None  \n",
              "40175      None       None            None    None  \n",
              "\n",
              "[40176 rows x 24 columns]"
            ],
            "text/html": [
              "\n",
              "  <div id=\"df-cbc3147b-20d5-4cdb-94de-017ffff49961\">\n",
              "    <div class=\"colab-df-container\">\n",
              "      <div>\n",
              "<style scoped>\n",
              "    .dataframe tbody tr th:only-of-type {\n",
              "        vertical-align: middle;\n",
              "    }\n",
              "\n",
              "    .dataframe tbody tr th {\n",
              "        vertical-align: top;\n",
              "    }\n",
              "\n",
              "    .dataframe thead th {\n",
              "        text-align: right;\n",
              "    }\n",
              "</style>\n",
              "<table border=\"1\" class=\"dataframe\">\n",
              "  <thead>\n",
              "    <tr style=\"text-align: right;\">\n",
              "      <th></th>\n",
              "      <th>Date/Time</th>\n",
              "      <th>Year</th>\n",
              "      <th>Month</th>\n",
              "      <th>Day</th>\n",
              "      <th>Time</th>\n",
              "      <th>Temp (°C)</th>\n",
              "      <th>Temp Flag</th>\n",
              "      <th>Dew Point Temp (°C)</th>\n",
              "      <th>Dew Point Temp Flag</th>\n",
              "      <th>Rel Hum (%)</th>\n",
              "      <th>...</th>\n",
              "      <th>Wind Spd Flag</th>\n",
              "      <th>Visibility (km)</th>\n",
              "      <th>Visibility Flag</th>\n",
              "      <th>Stn Press (kPa)</th>\n",
              "      <th>Stn Press Flag</th>\n",
              "      <th>Hmdx</th>\n",
              "      <th>Hmdx Flag</th>\n",
              "      <th>Wind Chill</th>\n",
              "      <th>Wind Chill Flag</th>\n",
              "      <th>Weather</th>\n",
              "    </tr>\n",
              "  </thead>\n",
              "  <tbody>\n",
              "    <tr>\n",
              "      <th>0</th>\n",
              "      <td>2015-01-01 00:00:00</td>\n",
              "      <td>2015</td>\n",
              "      <td>01</td>\n",
              "      <td>01</td>\n",
              "      <td>00:00</td>\n",
              "      <td>-5.9</td>\n",
              "      <td></td>\n",
              "      <td>-11.8</td>\n",
              "      <td></td>\n",
              "      <td>63</td>\n",
              "      <td>...</td>\n",
              "      <td></td>\n",
              "      <td></td>\n",
              "      <td></td>\n",
              "      <td>100.21</td>\n",
              "      <td></td>\n",
              "      <td></td>\n",
              "      <td></td>\n",
              "      <td>-14</td>\n",
              "      <td></td>\n",
              "      <td>NA</td>\n",
              "    </tr>\n",
              "    <tr>\n",
              "      <th>1</th>\n",
              "      <td>2015-01-01 01:00:00</td>\n",
              "      <td>2015</td>\n",
              "      <td>01</td>\n",
              "      <td>01</td>\n",
              "      <td>01:00</td>\n",
              "      <td>-5.9</td>\n",
              "      <td></td>\n",
              "      <td>-13.6</td>\n",
              "      <td></td>\n",
              "      <td>54</td>\n",
              "      <td>...</td>\n",
              "      <td></td>\n",
              "      <td></td>\n",
              "      <td></td>\n",
              "      <td>100.19</td>\n",
              "      <td></td>\n",
              "      <td></td>\n",
              "      <td></td>\n",
              "      <td>-13</td>\n",
              "      <td></td>\n",
              "      <td>NA</td>\n",
              "    </tr>\n",
              "    <tr>\n",
              "      <th>2</th>\n",
              "      <td>2015-01-01 02:00:00</td>\n",
              "      <td>2015</td>\n",
              "      <td>01</td>\n",
              "      <td>01</td>\n",
              "      <td>02:00</td>\n",
              "      <td>-6.1</td>\n",
              "      <td></td>\n",
              "      <td>-14.2</td>\n",
              "      <td></td>\n",
              "      <td>53</td>\n",
              "      <td>...</td>\n",
              "      <td></td>\n",
              "      <td></td>\n",
              "      <td></td>\n",
              "      <td>100.17</td>\n",
              "      <td></td>\n",
              "      <td></td>\n",
              "      <td></td>\n",
              "      <td>-14</td>\n",
              "      <td></td>\n",
              "      <td>NA</td>\n",
              "    </tr>\n",
              "    <tr>\n",
              "      <th>3</th>\n",
              "      <td>2015-01-01 03:00:00</td>\n",
              "      <td>2015</td>\n",
              "      <td>01</td>\n",
              "      <td>01</td>\n",
              "      <td>03:00</td>\n",
              "      <td>-5.8</td>\n",
              "      <td></td>\n",
              "      <td>-13.2</td>\n",
              "      <td></td>\n",
              "      <td>56</td>\n",
              "      <td>...</td>\n",
              "      <td></td>\n",
              "      <td></td>\n",
              "      <td></td>\n",
              "      <td>100.14</td>\n",
              "      <td></td>\n",
              "      <td></td>\n",
              "      <td></td>\n",
              "      <td>-14</td>\n",
              "      <td></td>\n",
              "      <td>NA</td>\n",
              "    </tr>\n",
              "    <tr>\n",
              "      <th>4</th>\n",
              "      <td>2015-01-01 04:00:00</td>\n",
              "      <td>2015</td>\n",
              "      <td>01</td>\n",
              "      <td>01</td>\n",
              "      <td>04:00</td>\n",
              "      <td>-5.7</td>\n",
              "      <td></td>\n",
              "      <td>-11.9</td>\n",
              "      <td></td>\n",
              "      <td>62</td>\n",
              "      <td>...</td>\n",
              "      <td></td>\n",
              "      <td></td>\n",
              "      <td></td>\n",
              "      <td>100.14</td>\n",
              "      <td></td>\n",
              "      <td></td>\n",
              "      <td></td>\n",
              "      <td>-13</td>\n",
              "      <td></td>\n",
              "      <td>NA</td>\n",
              "    </tr>\n",
              "    <tr>\n",
              "      <th>...</th>\n",
              "      <td>...</td>\n",
              "      <td>...</td>\n",
              "      <td>...</td>\n",
              "      <td>...</td>\n",
              "      <td>...</td>\n",
              "      <td>...</td>\n",
              "      <td>...</td>\n",
              "      <td>...</td>\n",
              "      <td>...</td>\n",
              "      <td>...</td>\n",
              "      <td>...</td>\n",
              "      <td>...</td>\n",
              "      <td>...</td>\n",
              "      <td>...</td>\n",
              "      <td>...</td>\n",
              "      <td>...</td>\n",
              "      <td>...</td>\n",
              "      <td>...</td>\n",
              "      <td>...</td>\n",
              "      <td>...</td>\n",
              "      <td>...</td>\n",
              "    </tr>\n",
              "    <tr>\n",
              "      <th>40171</th>\n",
              "      <td>2019-08-31 19:00:00</td>\n",
              "      <td>2019</td>\n",
              "      <td>08</td>\n",
              "      <td>31</td>\n",
              "      <td>19:00</td>\n",
              "      <td>None</td>\n",
              "      <td>None</td>\n",
              "      <td>None</td>\n",
              "      <td>None</td>\n",
              "      <td>None</td>\n",
              "      <td>...</td>\n",
              "      <td>None</td>\n",
              "      <td>None</td>\n",
              "      <td>None</td>\n",
              "      <td>None</td>\n",
              "      <td>None</td>\n",
              "      <td>None</td>\n",
              "      <td>None</td>\n",
              "      <td>None</td>\n",
              "      <td>None</td>\n",
              "      <td>None</td>\n",
              "    </tr>\n",
              "    <tr>\n",
              "      <th>40172</th>\n",
              "      <td>2019-08-31 20:00:00</td>\n",
              "      <td>2019</td>\n",
              "      <td>08</td>\n",
              "      <td>31</td>\n",
              "      <td>20:00</td>\n",
              "      <td>None</td>\n",
              "      <td>None</td>\n",
              "      <td>None</td>\n",
              "      <td>None</td>\n",
              "      <td>None</td>\n",
              "      <td>...</td>\n",
              "      <td>None</td>\n",
              "      <td>None</td>\n",
              "      <td>None</td>\n",
              "      <td>None</td>\n",
              "      <td>None</td>\n",
              "      <td>None</td>\n",
              "      <td>None</td>\n",
              "      <td>None</td>\n",
              "      <td>None</td>\n",
              "      <td>None</td>\n",
              "    </tr>\n",
              "    <tr>\n",
              "      <th>40173</th>\n",
              "      <td>2019-08-31 21:00:00</td>\n",
              "      <td>2019</td>\n",
              "      <td>08</td>\n",
              "      <td>31</td>\n",
              "      <td>21:00</td>\n",
              "      <td>None</td>\n",
              "      <td>None</td>\n",
              "      <td>None</td>\n",
              "      <td>None</td>\n",
              "      <td>None</td>\n",
              "      <td>...</td>\n",
              "      <td>None</td>\n",
              "      <td>None</td>\n",
              "      <td>None</td>\n",
              "      <td>None</td>\n",
              "      <td>None</td>\n",
              "      <td>None</td>\n",
              "      <td>None</td>\n",
              "      <td>None</td>\n",
              "      <td>None</td>\n",
              "      <td>None</td>\n",
              "    </tr>\n",
              "    <tr>\n",
              "      <th>40174</th>\n",
              "      <td>2019-08-31 22:00:00</td>\n",
              "      <td>2019</td>\n",
              "      <td>08</td>\n",
              "      <td>31</td>\n",
              "      <td>22:00</td>\n",
              "      <td>None</td>\n",
              "      <td>None</td>\n",
              "      <td>None</td>\n",
              "      <td>None</td>\n",
              "      <td>None</td>\n",
              "      <td>...</td>\n",
              "      <td>None</td>\n",
              "      <td>None</td>\n",
              "      <td>None</td>\n",
              "      <td>None</td>\n",
              "      <td>None</td>\n",
              "      <td>None</td>\n",
              "      <td>None</td>\n",
              "      <td>None</td>\n",
              "      <td>None</td>\n",
              "      <td>None</td>\n",
              "    </tr>\n",
              "    <tr>\n",
              "      <th>40175</th>\n",
              "      <td>2019-08-31 23:00:00</td>\n",
              "      <td>2019</td>\n",
              "      <td>08</td>\n",
              "      <td>31</td>\n",
              "      <td>23:00</td>\n",
              "      <td>None</td>\n",
              "      <td>None</td>\n",
              "      <td>None</td>\n",
              "      <td>None</td>\n",
              "      <td>None</td>\n",
              "      <td>...</td>\n",
              "      <td>None</td>\n",
              "      <td>None</td>\n",
              "      <td>None</td>\n",
              "      <td>None</td>\n",
              "      <td>None</td>\n",
              "      <td>None</td>\n",
              "      <td>None</td>\n",
              "      <td>None</td>\n",
              "      <td>None</td>\n",
              "      <td>None</td>\n",
              "    </tr>\n",
              "  </tbody>\n",
              "</table>\n",
              "<p>40176 rows × 24 columns</p>\n",
              "</div>\n",
              "      <button class=\"colab-df-convert\" onclick=\"convertToInteractive('df-cbc3147b-20d5-4cdb-94de-017ffff49961')\"\n",
              "              title=\"Convert this dataframe to an interactive table.\"\n",
              "              style=\"display:none;\">\n",
              "        \n",
              "  <svg xmlns=\"http://www.w3.org/2000/svg\" height=\"24px\"viewBox=\"0 0 24 24\"\n",
              "       width=\"24px\">\n",
              "    <path d=\"M0 0h24v24H0V0z\" fill=\"none\"/>\n",
              "    <path d=\"M18.56 5.44l.94 2.06.94-2.06 2.06-.94-2.06-.94-.94-2.06-.94 2.06-2.06.94zm-11 1L8.5 8.5l.94-2.06 2.06-.94-2.06-.94L8.5 2.5l-.94 2.06-2.06.94zm10 10l.94 2.06.94-2.06 2.06-.94-2.06-.94-.94-2.06-.94 2.06-2.06.94z\"/><path d=\"M17.41 7.96l-1.37-1.37c-.4-.4-.92-.59-1.43-.59-.52 0-1.04.2-1.43.59L10.3 9.45l-7.72 7.72c-.78.78-.78 2.05 0 2.83L4 21.41c.39.39.9.59 1.41.59.51 0 1.02-.2 1.41-.59l7.78-7.78 2.81-2.81c.8-.78.8-2.07 0-2.86zM5.41 20L4 18.59l7.72-7.72 1.47 1.35L5.41 20z\"/>\n",
              "  </svg>\n",
              "      </button>\n",
              "      \n",
              "  <style>\n",
              "    .colab-df-container {\n",
              "      display:flex;\n",
              "      flex-wrap:wrap;\n",
              "      gap: 12px;\n",
              "    }\n",
              "\n",
              "    .colab-df-convert {\n",
              "      background-color: #E8F0FE;\n",
              "      border: none;\n",
              "      border-radius: 50%;\n",
              "      cursor: pointer;\n",
              "      display: none;\n",
              "      fill: #1967D2;\n",
              "      height: 32px;\n",
              "      padding: 0 0 0 0;\n",
              "      width: 32px;\n",
              "    }\n",
              "\n",
              "    .colab-df-convert:hover {\n",
              "      background-color: #E2EBFA;\n",
              "      box-shadow: 0px 1px 2px rgba(60, 64, 67, 0.3), 0px 1px 3px 1px rgba(60, 64, 67, 0.15);\n",
              "      fill: #174EA6;\n",
              "    }\n",
              "\n",
              "    [theme=dark] .colab-df-convert {\n",
              "      background-color: #3B4455;\n",
              "      fill: #D2E3FC;\n",
              "    }\n",
              "\n",
              "    [theme=dark] .colab-df-convert:hover {\n",
              "      background-color: #434B5C;\n",
              "      box-shadow: 0px 1px 3px 1px rgba(0, 0, 0, 0.15);\n",
              "      filter: drop-shadow(0px 1px 2px rgba(0, 0, 0, 0.3));\n",
              "      fill: #FFFFFF;\n",
              "    }\n",
              "  </style>\n",
              "\n",
              "      <script>\n",
              "        const buttonEl =\n",
              "          document.querySelector('#df-cbc3147b-20d5-4cdb-94de-017ffff49961 button.colab-df-convert');\n",
              "        buttonEl.style.display =\n",
              "          google.colab.kernel.accessAllowed ? 'block' : 'none';\n",
              "\n",
              "        async function convertToInteractive(key) {\n",
              "          const element = document.querySelector('#df-cbc3147b-20d5-4cdb-94de-017ffff49961');\n",
              "          const dataTable =\n",
              "            await google.colab.kernel.invokeFunction('convertToInteractive',\n",
              "                                                     [key], {});\n",
              "          if (!dataTable) return;\n",
              "\n",
              "          const docLinkHtml = 'Like what you see? Visit the ' +\n",
              "            '<a target=\"_blank\" href=https://colab.research.google.com/notebooks/data_table.ipynb>data table notebook</a>'\n",
              "            + ' to learn more about interactive tables.';\n",
              "          element.innerHTML = '';\n",
              "          dataTable['output_type'] = 'display_data';\n",
              "          await google.colab.output.renderOutput(dataTable, element);\n",
              "          const docLink = document.createElement('div');\n",
              "          docLink.innerHTML = docLinkHtml;\n",
              "          element.appendChild(docLink);\n",
              "        }\n",
              "      </script>\n",
              "    </div>\n",
              "  </div>\n",
              "  "
            ]
          },
          "metadata": {},
          "execution_count": 11
        }
      ]
    },
    {
      "cell_type": "code",
      "metadata": {
        "colab": {
          "base_uri": "https://localhost:8080/",
          "height": 525
        },
        "id": "D_5__Z8AU02D",
        "outputId": "97febe94-47bc-406e-dac7-83646be80486"
      },
      "source": [
        "df.tail()"
      ],
      "execution_count": 12,
      "outputs": [
        {
          "output_type": "execute_result",
          "data": {
            "text/plain": [
              "                Date/Time  Year Month Day   Time Temp (°C) Temp Flag  \\\n",
              "40171 2019-08-31 19:00:00  2019    08  31  19:00      None      None   \n",
              "40172 2019-08-31 20:00:00  2019    08  31  20:00      None      None   \n",
              "40173 2019-08-31 21:00:00  2019    08  31  21:00      None      None   \n",
              "40174 2019-08-31 22:00:00  2019    08  31  22:00      None      None   \n",
              "40175 2019-08-31 23:00:00  2019    08  31  23:00      None      None   \n",
              "\n",
              "      Dew Point Temp (°C) Dew Point Temp Flag Rel Hum (%)  ... Wind Spd Flag  \\\n",
              "40171                None                None        None  ...          None   \n",
              "40172                None                None        None  ...          None   \n",
              "40173                None                None        None  ...          None   \n",
              "40174                None                None        None  ...          None   \n",
              "40175                None                None        None  ...          None   \n",
              "\n",
              "      Visibility (km) Visibility Flag Stn Press (kPa) Stn Press Flag  Hmdx  \\\n",
              "40171            None            None            None           None  None   \n",
              "40172            None            None            None           None  None   \n",
              "40173            None            None            None           None  None   \n",
              "40174            None            None            None           None  None   \n",
              "40175            None            None            None           None  None   \n",
              "\n",
              "      Hmdx Flag Wind Chill Wind Chill Flag Weather  \n",
              "40171      None       None            None    None  \n",
              "40172      None       None            None    None  \n",
              "40173      None       None            None    None  \n",
              "40174      None       None            None    None  \n",
              "40175      None       None            None    None  \n",
              "\n",
              "[5 rows x 24 columns]"
            ],
            "text/html": [
              "\n",
              "  <div id=\"df-e15d707b-403e-4b45-aaf4-d582eaf3e6d4\">\n",
              "    <div class=\"colab-df-container\">\n",
              "      <div>\n",
              "<style scoped>\n",
              "    .dataframe tbody tr th:only-of-type {\n",
              "        vertical-align: middle;\n",
              "    }\n",
              "\n",
              "    .dataframe tbody tr th {\n",
              "        vertical-align: top;\n",
              "    }\n",
              "\n",
              "    .dataframe thead th {\n",
              "        text-align: right;\n",
              "    }\n",
              "</style>\n",
              "<table border=\"1\" class=\"dataframe\">\n",
              "  <thead>\n",
              "    <tr style=\"text-align: right;\">\n",
              "      <th></th>\n",
              "      <th>Date/Time</th>\n",
              "      <th>Year</th>\n",
              "      <th>Month</th>\n",
              "      <th>Day</th>\n",
              "      <th>Time</th>\n",
              "      <th>Temp (°C)</th>\n",
              "      <th>Temp Flag</th>\n",
              "      <th>Dew Point Temp (°C)</th>\n",
              "      <th>Dew Point Temp Flag</th>\n",
              "      <th>Rel Hum (%)</th>\n",
              "      <th>...</th>\n",
              "      <th>Wind Spd Flag</th>\n",
              "      <th>Visibility (km)</th>\n",
              "      <th>Visibility Flag</th>\n",
              "      <th>Stn Press (kPa)</th>\n",
              "      <th>Stn Press Flag</th>\n",
              "      <th>Hmdx</th>\n",
              "      <th>Hmdx Flag</th>\n",
              "      <th>Wind Chill</th>\n",
              "      <th>Wind Chill Flag</th>\n",
              "      <th>Weather</th>\n",
              "    </tr>\n",
              "  </thead>\n",
              "  <tbody>\n",
              "    <tr>\n",
              "      <th>40171</th>\n",
              "      <td>2019-08-31 19:00:00</td>\n",
              "      <td>2019</td>\n",
              "      <td>08</td>\n",
              "      <td>31</td>\n",
              "      <td>19:00</td>\n",
              "      <td>None</td>\n",
              "      <td>None</td>\n",
              "      <td>None</td>\n",
              "      <td>None</td>\n",
              "      <td>None</td>\n",
              "      <td>...</td>\n",
              "      <td>None</td>\n",
              "      <td>None</td>\n",
              "      <td>None</td>\n",
              "      <td>None</td>\n",
              "      <td>None</td>\n",
              "      <td>None</td>\n",
              "      <td>None</td>\n",
              "      <td>None</td>\n",
              "      <td>None</td>\n",
              "      <td>None</td>\n",
              "    </tr>\n",
              "    <tr>\n",
              "      <th>40172</th>\n",
              "      <td>2019-08-31 20:00:00</td>\n",
              "      <td>2019</td>\n",
              "      <td>08</td>\n",
              "      <td>31</td>\n",
              "      <td>20:00</td>\n",
              "      <td>None</td>\n",
              "      <td>None</td>\n",
              "      <td>None</td>\n",
              "      <td>None</td>\n",
              "      <td>None</td>\n",
              "      <td>...</td>\n",
              "      <td>None</td>\n",
              "      <td>None</td>\n",
              "      <td>None</td>\n",
              "      <td>None</td>\n",
              "      <td>None</td>\n",
              "      <td>None</td>\n",
              "      <td>None</td>\n",
              "      <td>None</td>\n",
              "      <td>None</td>\n",
              "      <td>None</td>\n",
              "    </tr>\n",
              "    <tr>\n",
              "      <th>40173</th>\n",
              "      <td>2019-08-31 21:00:00</td>\n",
              "      <td>2019</td>\n",
              "      <td>08</td>\n",
              "      <td>31</td>\n",
              "      <td>21:00</td>\n",
              "      <td>None</td>\n",
              "      <td>None</td>\n",
              "      <td>None</td>\n",
              "      <td>None</td>\n",
              "      <td>None</td>\n",
              "      <td>...</td>\n",
              "      <td>None</td>\n",
              "      <td>None</td>\n",
              "      <td>None</td>\n",
              "      <td>None</td>\n",
              "      <td>None</td>\n",
              "      <td>None</td>\n",
              "      <td>None</td>\n",
              "      <td>None</td>\n",
              "      <td>None</td>\n",
              "      <td>None</td>\n",
              "    </tr>\n",
              "    <tr>\n",
              "      <th>40174</th>\n",
              "      <td>2019-08-31 22:00:00</td>\n",
              "      <td>2019</td>\n",
              "      <td>08</td>\n",
              "      <td>31</td>\n",
              "      <td>22:00</td>\n",
              "      <td>None</td>\n",
              "      <td>None</td>\n",
              "      <td>None</td>\n",
              "      <td>None</td>\n",
              "      <td>None</td>\n",
              "      <td>...</td>\n",
              "      <td>None</td>\n",
              "      <td>None</td>\n",
              "      <td>None</td>\n",
              "      <td>None</td>\n",
              "      <td>None</td>\n",
              "      <td>None</td>\n",
              "      <td>None</td>\n",
              "      <td>None</td>\n",
              "      <td>None</td>\n",
              "      <td>None</td>\n",
              "    </tr>\n",
              "    <tr>\n",
              "      <th>40175</th>\n",
              "      <td>2019-08-31 23:00:00</td>\n",
              "      <td>2019</td>\n",
              "      <td>08</td>\n",
              "      <td>31</td>\n",
              "      <td>23:00</td>\n",
              "      <td>None</td>\n",
              "      <td>None</td>\n",
              "      <td>None</td>\n",
              "      <td>None</td>\n",
              "      <td>None</td>\n",
              "      <td>...</td>\n",
              "      <td>None</td>\n",
              "      <td>None</td>\n",
              "      <td>None</td>\n",
              "      <td>None</td>\n",
              "      <td>None</td>\n",
              "      <td>None</td>\n",
              "      <td>None</td>\n",
              "      <td>None</td>\n",
              "      <td>None</td>\n",
              "      <td>None</td>\n",
              "    </tr>\n",
              "  </tbody>\n",
              "</table>\n",
              "<p>5 rows × 24 columns</p>\n",
              "</div>\n",
              "      <button class=\"colab-df-convert\" onclick=\"convertToInteractive('df-e15d707b-403e-4b45-aaf4-d582eaf3e6d4')\"\n",
              "              title=\"Convert this dataframe to an interactive table.\"\n",
              "              style=\"display:none;\">\n",
              "        \n",
              "  <svg xmlns=\"http://www.w3.org/2000/svg\" height=\"24px\"viewBox=\"0 0 24 24\"\n",
              "       width=\"24px\">\n",
              "    <path d=\"M0 0h24v24H0V0z\" fill=\"none\"/>\n",
              "    <path d=\"M18.56 5.44l.94 2.06.94-2.06 2.06-.94-2.06-.94-.94-2.06-.94 2.06-2.06.94zm-11 1L8.5 8.5l.94-2.06 2.06-.94-2.06-.94L8.5 2.5l-.94 2.06-2.06.94zm10 10l.94 2.06.94-2.06 2.06-.94-2.06-.94-.94-2.06-.94 2.06-2.06.94z\"/><path d=\"M17.41 7.96l-1.37-1.37c-.4-.4-.92-.59-1.43-.59-.52 0-1.04.2-1.43.59L10.3 9.45l-7.72 7.72c-.78.78-.78 2.05 0 2.83L4 21.41c.39.39.9.59 1.41.59.51 0 1.02-.2 1.41-.59l7.78-7.78 2.81-2.81c.8-.78.8-2.07 0-2.86zM5.41 20L4 18.59l7.72-7.72 1.47 1.35L5.41 20z\"/>\n",
              "  </svg>\n",
              "      </button>\n",
              "      \n",
              "  <style>\n",
              "    .colab-df-container {\n",
              "      display:flex;\n",
              "      flex-wrap:wrap;\n",
              "      gap: 12px;\n",
              "    }\n",
              "\n",
              "    .colab-df-convert {\n",
              "      background-color: #E8F0FE;\n",
              "      border: none;\n",
              "      border-radius: 50%;\n",
              "      cursor: pointer;\n",
              "      display: none;\n",
              "      fill: #1967D2;\n",
              "      height: 32px;\n",
              "      padding: 0 0 0 0;\n",
              "      width: 32px;\n",
              "    }\n",
              "\n",
              "    .colab-df-convert:hover {\n",
              "      background-color: #E2EBFA;\n",
              "      box-shadow: 0px 1px 2px rgba(60, 64, 67, 0.3), 0px 1px 3px 1px rgba(60, 64, 67, 0.15);\n",
              "      fill: #174EA6;\n",
              "    }\n",
              "\n",
              "    [theme=dark] .colab-df-convert {\n",
              "      background-color: #3B4455;\n",
              "      fill: #D2E3FC;\n",
              "    }\n",
              "\n",
              "    [theme=dark] .colab-df-convert:hover {\n",
              "      background-color: #434B5C;\n",
              "      box-shadow: 0px 1px 3px 1px rgba(0, 0, 0, 0.15);\n",
              "      filter: drop-shadow(0px 1px 2px rgba(0, 0, 0, 0.3));\n",
              "      fill: #FFFFFF;\n",
              "    }\n",
              "  </style>\n",
              "\n",
              "      <script>\n",
              "        const buttonEl =\n",
              "          document.querySelector('#df-e15d707b-403e-4b45-aaf4-d582eaf3e6d4 button.colab-df-convert');\n",
              "        buttonEl.style.display =\n",
              "          google.colab.kernel.accessAllowed ? 'block' : 'none';\n",
              "\n",
              "        async function convertToInteractive(key) {\n",
              "          const element = document.querySelector('#df-e15d707b-403e-4b45-aaf4-d582eaf3e6d4');\n",
              "          const dataTable =\n",
              "            await google.colab.kernel.invokeFunction('convertToInteractive',\n",
              "                                                     [key], {});\n",
              "          if (!dataTable) return;\n",
              "\n",
              "          const docLinkHtml = 'Like what you see? Visit the ' +\n",
              "            '<a target=\"_blank\" href=https://colab.research.google.com/notebooks/data_table.ipynb>data table notebook</a>'\n",
              "            + ' to learn more about interactive tables.';\n",
              "          element.innerHTML = '';\n",
              "          dataTable['output_type'] = 'display_data';\n",
              "          await google.colab.output.renderOutput(dataTable, element);\n",
              "          const docLink = document.createElement('div');\n",
              "          docLink.innerHTML = docLinkHtml;\n",
              "          element.appendChild(docLink);\n",
              "        }\n",
              "      </script>\n",
              "    </div>\n",
              "  </div>\n",
              "  "
            ]
          },
          "metadata": {},
          "execution_count": 12
        }
      ]
    },
    {
      "cell_type": "markdown",
      "metadata": {
        "id": "0XEDOrFBTMDh"
      },
      "source": [
        "### Dropping NA rows"
      ]
    },
    {
      "cell_type": "markdown",
      "metadata": {
        "id": "-2Ku9fH1Tnfw"
      },
      "source": [
        "## All rows after 2018 are NAs"
      ]
    },
    {
      "cell_type": "code",
      "metadata": {
        "id": "WTxXQybtAwgt"
      },
      "source": [
        "df = df.dropna(axis=0)"
      ],
      "execution_count": 13,
      "outputs": []
    },
    {
      "cell_type": "markdown",
      "metadata": {
        "id": "iNGy-_G-TIxU"
      },
      "source": [
        "## Data Description"
      ]
    },
    {
      "cell_type": "code",
      "metadata": {
        "colab": {
          "base_uri": "https://localhost:8080/"
        },
        "id": "D2ZVfAAKCbzv",
        "outputId": "4bb949f7-2f55-4f19-e2ed-5ccd99aebda6"
      },
      "source": [
        "df.info()"
      ],
      "execution_count": 14,
      "outputs": [
        {
          "output_type": "stream",
          "name": "stdout",
          "text": [
            "<class 'pandas.core.frame.DataFrame'>\n",
            "Int64Index: 39392 entries, 0 to 39935\n",
            "Data columns (total 24 columns):\n",
            " #   Column               Non-Null Count  Dtype         \n",
            "---  ------               --------------  -----         \n",
            " 0   Date/Time            39392 non-null  datetime64[ns]\n",
            " 1   Year                 39392 non-null  object        \n",
            " 2   Month                39392 non-null  object        \n",
            " 3   Day                  39392 non-null  object        \n",
            " 4   Time                 39392 non-null  object        \n",
            " 5   Temp (°C)            39392 non-null  object        \n",
            " 6   Temp Flag            39392 non-null  object        \n",
            " 7   Dew Point Temp (°C)  39392 non-null  object        \n",
            " 8   Dew Point Temp Flag  39392 non-null  object        \n",
            " 9   Rel Hum (%)          39392 non-null  object        \n",
            " 10  Rel Hum Flag         39392 non-null  object        \n",
            " 11  Wind Dir (10s deg)   39392 non-null  object        \n",
            " 12  Wind Dir Flag        39392 non-null  object        \n",
            " 13  Wind Spd (km/h)      39392 non-null  object        \n",
            " 14  Wind Spd Flag        39392 non-null  object        \n",
            " 15  Visibility (km)      39392 non-null  object        \n",
            " 16  Visibility Flag      39392 non-null  object        \n",
            " 17  Stn Press (kPa)      39392 non-null  object        \n",
            " 18  Stn Press Flag       39392 non-null  object        \n",
            " 19  Hmdx                 39392 non-null  object        \n",
            " 20  Hmdx Flag            39392 non-null  object        \n",
            " 21  Wind Chill           39392 non-null  object        \n",
            " 22  Wind Chill Flag      39392 non-null  object        \n",
            " 23  Weather              39392 non-null  object        \n",
            "dtypes: datetime64[ns](1), object(23)\n",
            "memory usage: 7.5+ MB\n"
          ]
        }
      ]
    },
    {
      "cell_type": "markdown",
      "metadata": {
        "id": "40tlICRtTC2T"
      },
      "source": [
        "## All values in weather column are NA"
      ]
    },
    {
      "cell_type": "code",
      "metadata": {
        "colab": {
          "base_uri": "https://localhost:8080/"
        },
        "id": "fGUM2ILYXFNn",
        "outputId": "fc9c37ac-fd22-4dff-8a74-68520ffbfff7"
      },
      "source": [
        "sum(df.Weather == 'NA')"
      ],
      "execution_count": 15,
      "outputs": [
        {
          "output_type": "execute_result",
          "data": {
            "text/plain": [
              "39392"
            ]
          },
          "metadata": {},
          "execution_count": 15
        }
      ]
    },
    {
      "cell_type": "markdown",
      "metadata": {
        "id": "PqvjivJIS9O2"
      },
      "source": [
        "## Weather Column dropped no info given"
      ]
    },
    {
      "cell_type": "code",
      "metadata": {
        "id": "48Jlhqi-EzOz"
      },
      "source": [
        "df = df.drop('Weather',axis=1)"
      ],
      "execution_count": 16,
      "outputs": []
    },
    {
      "cell_type": "markdown",
      "metadata": {
        "id": "RNGRqNPRS41l"
      },
      "source": [
        "## Columns with Missing Data"
      ]
    },
    {
      "cell_type": "code",
      "metadata": {
        "id": "bLP03C0fEzGf"
      },
      "source": [
        "columns = ['Temp Flag','Dew Point Temp Flag','Rel Hum Flag','Wind Dir Flag','Wind Spd Flag','Visibility (km)','Visibility Flag','Stn Press Flag','Hmdx','Hmdx Flag','Wind Chill Flag']"
      ],
      "execution_count": 17,
      "outputs": []
    },
    {
      "cell_type": "markdown",
      "metadata": {
        "id": "2LGMN8CNS0xS"
      },
      "source": [
        "### Missing Values Check"
      ]
    },
    {
      "cell_type": "code",
      "metadata": {
        "colab": {
          "base_uri": "https://localhost:8080/"
        },
        "id": "Ep4Hj2zfGBSi",
        "outputId": "a39d9569-fce9-4634-87c2-3454ca9f4b61"
      },
      "source": [
        "(df[columns] == '').sum() #As is show most of this columns data are missing"
      ],
      "execution_count": 18,
      "outputs": [
        {
          "output_type": "execute_result",
          "data": {
            "text/plain": [
              "Temp Flag              39382\n",
              "Dew Point Temp Flag    39392\n",
              "Rel Hum Flag           39392\n",
              "Wind Dir Flag          39392\n",
              "Wind Spd Flag          39392\n",
              "Visibility (km)        39392\n",
              "Visibility Flag        39392\n",
              "Stn Press Flag         39392\n",
              "Hmdx                   33450\n",
              "Hmdx Flag              39392\n",
              "Wind Chill Flag        39392\n",
              "dtype: int64"
            ]
          },
          "metadata": {},
          "execution_count": 18
        }
      ]
    },
    {
      "cell_type": "markdown",
      "metadata": {
        "id": "dagsoCeBScyl"
      },
      "source": [
        "## Dropping the columns with over 80 percent missing data values"
      ]
    },
    {
      "cell_type": "code",
      "metadata": {
        "colab": {
          "base_uri": "https://localhost:8080/"
        },
        "id": "D_ZaWC_LHc15",
        "outputId": "852741bc-2d07-4fe4-c262-302a3e0c74c9"
      },
      "source": [
        "(df[columns] == '').mean() * 100 #Over 80% data are missing for all so i will be dropping all columns"
      ],
      "execution_count": 19,
      "outputs": [
        {
          "output_type": "execute_result",
          "data": {
            "text/plain": [
              "Temp Flag               99.974614\n",
              "Dew Point Temp Flag    100.000000\n",
              "Rel Hum Flag           100.000000\n",
              "Wind Dir Flag          100.000000\n",
              "Wind Spd Flag          100.000000\n",
              "Visibility (km)        100.000000\n",
              "Visibility Flag        100.000000\n",
              "Stn Press Flag         100.000000\n",
              "Hmdx                    84.915719\n",
              "Hmdx Flag              100.000000\n",
              "Wind Chill Flag        100.000000\n",
              "dtype: float64"
            ]
          },
          "metadata": {},
          "execution_count": 19
        }
      ]
    },
    {
      "cell_type": "code",
      "metadata": {
        "id": "nGOS228CFvpm"
      },
      "source": [
        "df = df.drop(columns=columns,axis=1)"
      ],
      "execution_count": 20,
      "outputs": []
    },
    {
      "cell_type": "code",
      "metadata": {
        "id": "HCFN1YKUH2Ap"
      },
      "source": [
        "df = df.replace(r'^\\s*$', np.nan, regex=True)"
      ],
      "execution_count": 21,
      "outputs": []
    },
    {
      "cell_type": "markdown",
      "metadata": {
        "id": "6Em_5BuaSVr3"
      },
      "source": [
        "## Boolean Check of Data with Missing Values"
      ]
    },
    {
      "cell_type": "code",
      "metadata": {
        "colab": {
          "base_uri": "https://localhost:8080/"
        },
        "id": "bVKBaVuvCcAC",
        "outputId": "d6dbee44-861d-465b-b2e1-1532a2683ca9"
      },
      "source": [
        "df.isna().any()"
      ],
      "execution_count": 22,
      "outputs": [
        {
          "output_type": "execute_result",
          "data": {
            "text/plain": [
              "Date/Time              False\n",
              "Year                   False\n",
              "Month                  False\n",
              "Day                    False\n",
              "Time                   False\n",
              "Temp (°C)               True\n",
              "Dew Point Temp (°C)     True\n",
              "Rel Hum (%)            False\n",
              "Wind Dir (10s deg)      True\n",
              "Wind Spd (km/h)        False\n",
              "Stn Press (kPa)         True\n",
              "Wind Chill              True\n",
              "dtype: bool"
            ]
          },
          "metadata": {},
          "execution_count": 22
        }
      ]
    },
    {
      "cell_type": "markdown",
      "metadata": {
        "id": "UTzd-UjNSHZ7"
      },
      "source": [
        "## Percentage of Missing Values by column after dropping the first batch of missing data"
      ]
    },
    {
      "cell_type": "code",
      "metadata": {
        "colab": {
          "base_uri": "https://localhost:8080/"
        },
        "id": "ZkVb4QDgJKii",
        "outputId": "c778aa7c-8c1f-4535-e151-4fb91f968dfe"
      },
      "source": [
        "df.isna().mean() * 100 #72 percent of Wind Chill Data is missing thats too large so i will be dropping the column"
      ],
      "execution_count": 23,
      "outputs": [
        {
          "output_type": "execute_result",
          "data": {
            "text/plain": [
              "Date/Time               0.000000\n",
              "Year                    0.000000\n",
              "Month                   0.000000\n",
              "Day                     0.000000\n",
              "Time                    0.000000\n",
              "Temp (°C)               0.025386\n",
              "Dew Point Temp (°C)     0.002539\n",
              "Rel Hum (%)             0.000000\n",
              "Wind Dir (10s deg)      0.545796\n",
              "Wind Spd (km/h)         0.000000\n",
              "Stn Press (kPa)         0.002539\n",
              "Wind Chill             74.240963\n",
              "dtype: float64"
            ]
          },
          "metadata": {},
          "execution_count": 23
        }
      ]
    },
    {
      "cell_type": "markdown",
      "metadata": {
        "id": "YLGjoO8nSAs0"
      },
      "source": [
        "## Dropping Missing Columns"
      ]
    },
    {
      "cell_type": "code",
      "metadata": {
        "id": "1MpxNqEnTaZA"
      },
      "source": [
        "df = df.drop(['Wind Dir (10s deg)','Wind Chill'],axis=1)"
      ],
      "execution_count": 24,
      "outputs": []
    },
    {
      "cell_type": "markdown",
      "metadata": {
        "id": "RPJazL26R4mS"
      },
      "source": [
        "# Exploratory Data Analysis and Data Types Adjustment"
      ]
    },
    {
      "cell_type": "code",
      "metadata": {
        "id": "xa2Z7WtYWP21"
      },
      "source": [
        "df_cols = ['Year','Month','Day','Temp (°C)','Dew Point Temp (°C)','Rel Hum (%)','Wind Spd (km/h)','Stn Press (kPa)']"
      ],
      "execution_count": 25,
      "outputs": []
    },
    {
      "cell_type": "code",
      "metadata": {
        "id": "OPsBkBDRVJPG"
      },
      "source": [
        "df[df_cols] = df[df_cols].apply(pd.to_numeric)"
      ],
      "execution_count": 26,
      "outputs": []
    },
    {
      "cell_type": "code",
      "metadata": {
        "colab": {
          "base_uri": "https://localhost:8080/"
        },
        "id": "jP2SMWUoXCHY",
        "outputId": "0e4da715-5d54-44fa-d153-42c1bdf2e475"
      },
      "source": [
        "df.info()"
      ],
      "execution_count": 27,
      "outputs": [
        {
          "output_type": "stream",
          "name": "stdout",
          "text": [
            "<class 'pandas.core.frame.DataFrame'>\n",
            "Int64Index: 39392 entries, 0 to 39935\n",
            "Data columns (total 10 columns):\n",
            " #   Column               Non-Null Count  Dtype         \n",
            "---  ------               --------------  -----         \n",
            " 0   Date/Time            39392 non-null  datetime64[ns]\n",
            " 1   Year                 39392 non-null  int64         \n",
            " 2   Month                39392 non-null  int64         \n",
            " 3   Day                  39392 non-null  int64         \n",
            " 4   Time                 39392 non-null  object        \n",
            " 5   Temp (°C)            39382 non-null  float64       \n",
            " 6   Dew Point Temp (°C)  39391 non-null  float64       \n",
            " 7   Rel Hum (%)          39392 non-null  int64         \n",
            " 8   Wind Spd (km/h)      39392 non-null  int64         \n",
            " 9   Stn Press (kPa)      39391 non-null  float64       \n",
            "dtypes: datetime64[ns](1), float64(3), int64(5), object(1)\n",
            "memory usage: 3.3+ MB\n"
          ]
        }
      ]
    },
    {
      "cell_type": "code",
      "metadata": {
        "id": "VqsdCCDhav1K"
      },
      "source": [
        "# pd.get_dummies(pd.to_datetime(df['Time'],unit='ns'))"
      ],
      "execution_count": 28,
      "outputs": []
    },
    {
      "cell_type": "code",
      "metadata": {
        "colab": {
          "base_uri": "https://localhost:8080/",
          "height": 735
        },
        "id": "zENBFOmwa4xB",
        "outputId": "57b5533f-730d-45fc-dd84-b4e6c81f0b94"
      },
      "source": [
        "fig,ax = plt.subplots(figsize=(12,8))\n",
        "ax.plot(df['Date/Time'],df['Temp (°C)'],label='Temperature')\n",
        "ax.plot(df['Date/Time'],df['Dew Point Temp (°C)'],color='orange',label='Dew Point Temp')\n",
        "ax.set_title('Temperature VS Dew Point Correlation Over Time')\n",
        "ax.set_xlabel('Date/Time')\n",
        "ax.set_ylabel('Temp/Dew Point')\n",
        "ax.legend()"
      ],
      "execution_count": 29,
      "outputs": [
        {
          "output_type": "execute_result",
          "data": {
            "text/plain": [
              "<matplotlib.legend.Legend at 0x7fa8436caef0>"
            ]
          },
          "metadata": {},
          "execution_count": 29
        },
        {
          "output_type": "display_data",
          "data": {
            "text/plain": [
              "<Figure size 1200x800 with 1 Axes>"
            ],
            "image/png": "[encoded data removed]"
          },
          "metadata": {}
        }
      ]
    },
    {
      "cell_type": "code",
      "metadata": {
        "id": "mocbXqnZui68"
      },
      "source": [
        "df = df.set_index('Date/Time')"
      ],
      "execution_count": 30,
      "outputs": []
    },
    {
      "cell_type": "code",
      "metadata": {
        "id": "wCPG-rgpnvrF"
      },
      "source": [
        "one_day = df['Temp (°C)'].iloc[0:24]"
      ],
      "execution_count": 31,
      "outputs": []
    },
    {
      "cell_type": "code",
      "metadata": {
        "colab": {
          "base_uri": "https://localhost:8080/"
        },
        "id": "bs1I5noXvGX5",
        "outputId": "c13918aa-b917-41d2-f344-4cc03944d598"
      },
      "source": [
        "one_day"
      ],
      "execution_count": 32,
      "outputs": [
        {
          "output_type": "execute_result",
          "data": {
            "text/plain": [
              "Date/Time\n",
              "2015-01-01 00:00:00   -5.9\n",
              "2015-01-01 01:00:00   -5.9\n",
              "2015-01-01 02:00:00   -6.1\n",
              "2015-01-01 03:00:00   -5.8\n",
              "2015-01-01 04:00:00   -5.7\n",
              "2015-01-01 05:00:00   -5.3\n",
              "2015-01-01 06:00:00   -4.2\n",
              "2015-01-01 07:00:00   -3.8\n",
              "2015-01-01 08:00:00   -3.7\n",
              "2015-01-01 09:00:00   -3.2\n",
              "2015-01-01 10:00:00   -2.8\n",
              "2015-01-01 11:00:00   -3.5\n",
              "2015-01-01 12:00:00   -3.5\n",
              "2015-01-01 13:00:00   -3.4\n",
              "2015-01-01 14:00:00   -3.3\n",
              "2015-01-01 15:00:00   -2.7\n",
              "2015-01-01 16:00:00   -2.6\n",
              "2015-01-01 17:00:00   -2.7\n",
              "2015-01-01 18:00:00   -2.3\n",
              "2015-01-01 19:00:00   -2.4\n",
              "2015-01-01 20:00:00   -1.8\n",
              "2015-01-01 21:00:00   -1.3\n",
              "2015-01-01 22:00:00   -0.9\n",
              "2015-01-01 23:00:00   -0.9\n",
              "Name: Temp (°C), dtype: float64"
            ]
          },
          "metadata": {},
          "execution_count": 32
        }
      ]
    },
    {
      "cell_type": "code",
      "metadata": {
        "colab": {
          "base_uri": "https://localhost:8080/",
          "height": 539
        },
        "id": "45hyUbTdmGKK",
        "outputId": "ecb5f205-a4b5-482d-aee8-acf61c1e60f5"
      },
      "source": [
        "plt.figure(figsize=(8,6))\n",
        "plt.plot(one_day)"
      ],
      "execution_count": 33,
      "outputs": [
        {
          "output_type": "execute_result",
          "data": {
            "text/plain": [
              "[<matplotlib.lines.Line2D at 0x7fa8439c4be0>]"
            ]
          },
          "metadata": {},
          "execution_count": 33
        },
        {
          "output_type": "display_data",
          "data": {
            "text/plain": [
              "<Figure size 800x600 with 1 Axes>"
            ],
            "image/png": "[encoded data removed]"
          },
          "metadata": {}
        }
      ]
    },
    {
      "cell_type": "code",
      "metadata": {
        "id": "XlksI5TRs9X8"
      },
      "source": [
        "test = df['Temp (°C)'].rolling(24).mean()"
      ],
      "execution_count": 34,
      "outputs": []
    },
    {
      "cell_type": "code",
      "metadata": {
        "id": "qY-ppGSWuYrb"
      },
      "source": [
        "test.dropna(inplace=True)"
      ],
      "execution_count": 35,
      "outputs": []
    },
    {
      "cell_type": "code",
      "metadata": {
        "colab": {
          "base_uri": "https://localhost:8080/",
          "height": 539
        },
        "id": "d6TSwTIdvt42",
        "outputId": "27818a67-8783-4be1-bf5b-f276c839228a"
      },
      "source": [
        "plt.figure(figsize=(8,6))\n",
        "plt.plot(df['Temp (°C)'])"
      ],
      "execution_count": 36,
      "outputs": [
        {
          "output_type": "execute_result",
          "data": {
            "text/plain": [
              "[<matplotlib.lines.Line2D at 0x7fa848d83040>]"
            ]
          },
          "metadata": {},
          "execution_count": 36
        },
        {
          "output_type": "display_data",
          "data": {
            "text/plain": [
              "<Figure size 800x600 with 1 Axes>"
            ],
            "image/png": "[encoded data removed]"
          },
          "metadata": {}
        }
      ]
    },
    {
      "cell_type": "code",
      "metadata": {
        "colab": {
          "base_uri": "https://localhost:8080/",
          "height": 541
        },
        "id": "kk8qDknDuXPi",
        "outputId": "fe54e656-ece4-4c92-f495-261f2e7c31ef"
      },
      "source": [
        "plt.figure(figsize=(8,6))\n",
        "plt.plot(test)"
      ],
      "execution_count": 37,
      "outputs": [
        {
          "output_type": "execute_result",
          "data": {
            "text/plain": [
              "[<matplotlib.lines.Line2D at 0x7fa8437e89a0>]"
            ]
          },
          "metadata": {},
          "execution_count": 37
        },
        {
          "output_type": "display_data",
          "data": {
            "text/plain": [
              "<Figure size 800x600 with 1 Axes>"
            ],
            "image/png": "[encoded data removed]"
          },
          "metadata": {}
        }
      ]
    },
    {
      "cell_type": "markdown",
      "metadata": {
        "id": "pjYCAT7CRS7l"
      },
      "source": [
        "### Categorizing the time column"
      ]
    },
    {
      "cell_type": "code",
      "metadata": {
        "colab": {
          "base_uri": "https://localhost:8080/",
          "height": 866
        },
        "id": "wt9kQS8qwmrj",
        "outputId": "944189fb-a5b8-4840-fb01-88f8e78ee05f"
      },
      "source": [
        "pd.get_dummies(df['Time'])"
      ],
      "execution_count": 38,
      "outputs": [
        {
          "output_type": "execute_result",
          "data": {
            "text/plain": [
              "                     00:00  01:00  02:00  03:00  04:00  05:00  06:00  07:00  \\\n",
              "Date/Time                                                                     \n",
              "2015-01-01 00:00:00      1      0      0      0      0      0      0      0   \n",
              "2015-01-01 01:00:00      0      1      0      0      0      0      0      0   \n",
              "2015-01-01 02:00:00      0      0      1      0      0      0      0      0   \n",
              "2015-01-01 03:00:00      0      0      0      1      0      0      0      0   \n",
              "2015-01-01 04:00:00      0      0      0      0      1      0      0      0   \n",
              "...                    ...    ...    ...    ...    ...    ...    ...    ...   \n",
              "2019-08-21 19:00:00      0      0      0      0      0      0      0      0   \n",
              "2019-08-21 20:00:00      0      0      0      0      0      0      0      0   \n",
              "2019-08-21 21:00:00      0      0      0      0      0      0      0      0   \n",
              "2019-08-21 22:00:00      0      0      0      0      0      0      0      0   \n",
              "2019-08-21 23:00:00      0      0      0      0      0      0      0      0   \n",
              "\n",
              "                     08:00  09:00  ...  14:00  15:00  16:00  17:00  18:00  \\\n",
              "Date/Time                          ...                                      \n",
              "2015-01-01 00:00:00      0      0  ...      0      0      0      0      0   \n",
              "2015-01-01 01:00:00      0      0  ...      0      0      0      0      0   \n",
              "2015-01-01 02:00:00      0      0  ...      0      0      0      0      0   \n",
              "2015-01-01 03:00:00      0      0  ...      0      0      0      0      0   \n",
              "2015-01-01 04:00:00      0      0  ...      0      0      0      0      0   \n",
              "...                    ...    ...  ...    ...    ...    ...    ...    ...   \n",
              "2019-08-21 19:00:00      0      0  ...      0      0      0      0      0   \n",
              "2019-08-21 20:00:00      0      0  ...      0      0      0      0      0   \n",
              "2019-08-21 21:00:00      0      0  ...      0      0      0      0      0   \n",
              "2019-08-21 22:00:00      0      0  ...      0      0      0      0      0   \n",
              "2019-08-21 23:00:00      0      0  ...      0      0      0      0      0   \n",
              "\n",
              "                     19:00  20:00  21:00  22:00  23:00  \n",
              "Date/Time                                               \n",
              "2015-01-01 00:00:00      0      0      0      0      0  \n",
              "2015-01-01 01:00:00      0      0      0      0      0  \n",
              "2015-01-01 02:00:00      0      0      0      0      0  \n",
              "2015-01-01 03:00:00      0      0      0      0      0  \n",
              "2015-01-01 04:00:00      0      0      0      0      0  \n",
              "...                    ...    ...    ...    ...    ...  \n",
              "2019-08-21 19:00:00      1      0      0      0      0  \n",
              "2019-08-21 20:00:00      0      1      0      0      0  \n",
              "2019-08-21 21:00:00      0      0      1      0      0  \n",
              "2019-08-21 22:00:00      0      0      0      1      0  \n",
              "2019-08-21 23:00:00      0      0      0      0      1  \n",
              "\n",
              "[39392 rows x 24 columns]"
            ],
            "text/html": [
              "\n",
              "  <div id=\"df-726f6dab-19a4-43bc-97ee-7e7546579574\">\n",
              "    <div class=\"colab-df-container\">\n",
              "      <div>\n",
              "<style scoped>\n",
              "    .dataframe tbody tr th:only-of-type {\n",
              "        vertical-align: middle;\n",
              "    }\n",
              "\n",
              "    .dataframe tbody tr th {\n",
              "        vertical-align: top;\n",
              "    }\n",
              "\n",
              "    .dataframe thead th {\n",
              "        text-align: right;\n",
              "    }\n",
              "</style>\n",
              "<table border=\"1\" class=\"dataframe\">\n",
              "  <thead>\n",
              "    <tr style=\"text-align: right;\">\n",
              "      <th></th>\n",
              "      <th>00:00</th>\n",
              "      <th>01:00</th>\n",
              "      <th>02:00</th>\n",
              "      <th>03:00</th>\n",
              "      <th>04:00</th>\n",
              "      <th>05:00</th>\n",
              "      <th>06:00</th>\n",
              "      <th>07:00</th>\n",
              "      <th>08:00</th>\n",
              "      <th>09:00</th>\n",
              "      <th>...</th>\n",
              "      <th>14:00</th>\n",
              "      <th>15:00</th>\n",
              "      <th>16:00</th>\n",
              "      <th>17:00</th>\n",
              "      <th>18:00</th>\n",
              "      <th>19:00</th>\n",
              "      <th>20:00</th>\n",
              "      <th>21:00</th>\n",
              "      <th>22:00</th>\n",
              "      <th>23:00</th>\n",
              "    </tr>\n",
              "    <tr>\n",
              "      <th>Date/Time</th>\n",
              "      <th></th>\n",
              "      <th></th>\n",
              "      <th></th>\n",
              "      <th></th>\n",
              "      <th></th>\n",
              "      <th></th>\n",
              "      <th></th>\n",
              "      <th></th>\n",
              "      <th></th>\n",
              "      <th></th>\n",
              "      <th></th>\n",
              "      <th></th>\n",
              "      <th></th>\n",
              "      <th></th>\n",
              "      <th></th>\n",
              "      <th></th>\n",
              "      <th></th>\n",
              "      <th></th>\n",
              "      <th></th>\n",
              "      <th></th>\n",
              "      <th></th>\n",
              "    </tr>\n",
              "  </thead>\n",
              "  <tbody>\n",
              "    <tr>\n",
              "      <th>2015-01-01 00:00:00</th>\n",
              "      <td>1</td>\n",
              "      <td>0</td>\n",
              "      <td>0</td>\n",
              "      <td>0</td>\n",
              "      <td>0</td>\n",
              "      <td>0</td>\n",
              "      <td>0</td>\n",
              "      <td>0</td>\n",
              "      <td>0</td>\n",
              "      <td>0</td>\n",
              "      <td>...</td>\n",
              "      <td>0</td>\n",
              "      <td>0</td>\n",
              "      <td>0</td>\n",
              "      <td>0</td>\n",
              "      <td>0</td>\n",
              "      <td>0</td>\n",
              "      <td>0</td>\n",
              "      <td>0</td>\n",
              "      <td>0</td>\n",
              "      <td>0</td>\n",
              "    </tr>\n",
              "    <tr>\n",
              "      <th>2015-01-01 01:00:00</th>\n",
              "      <td>0</td>\n",
              "      <td>1</td>\n",
              "      <td>0</td>\n",
              "      <td>0</td>\n",
              "      <td>0</td>\n",
              "      <td>0</td>\n",
              "      <td>0</td>\n",
              "      <td>0</td>\n",
              "      <td>0</td>\n",
              "      <td>0</td>\n",
              "      <td>...</td>\n",
              "      <td>0</td>\n",
              "      <td>0</td>\n",
              "      <td>0</td>\n",
              "      <td>0</td>\n",
              "      <td>0</td>\n",
              "      <td>0</td>\n",
              "      <td>0</td>\n",
              "      <td>0</td>\n",
              "      <td>0</td>\n",
              "      <td>0</td>\n",
              "    </tr>\n",
              "    <tr>\n",
              "      <th>2015-01-01 02:00:00</th>\n",
              "      <td>0</td>\n",
              "      <td>0</td>\n",
              "      <td>1</td>\n",
              "      <td>0</td>\n",
              "      <td>0</td>\n",
              "      <td>0</td>\n",
              "      <td>0</td>\n",
              "      <td>0</td>\n",
              "      <td>0</td>\n",
              "      <td>0</td>\n",
              "      <td>...</td>\n",
              "      <td>0</td>\n",
              "      <td>0</td>\n",
              "      <td>0</td>\n",
              "      <td>0</td>\n",
              "      <td>0</td>\n",
              "      <td>0</td>\n",
              "      <td>0</td>\n",
              "      <td>0</td>\n",
              "      <td>0</td>\n",
              "      <td>0</td>\n",
              "    </tr>\n",
              "    <tr>\n",
              "      <th>2015-01-01 03:00:00</th>\n",
              "      <td>0</td>\n",
              "      <td>0</td>\n",
              "      <td>0</td>\n",
              "      <td>1</td>\n",
              "      <td>0</td>\n",
              "      <td>0</td>\n",
              "      <td>0</td>\n",
              "      <td>0</td>\n",
              "      <td>0</td>\n",
              "      <td>0</td>\n",
              "      <td>...</td>\n",
              "      <td>0</td>\n",
              "      <td>0</td>\n",
              "      <td>0</td>\n",
              "      <td>0</td>\n",
              "      <td>0</td>\n",
              "      <td>0</td>\n",
              "      <td>0</td>\n",
              "      <td>0</td>\n",
              "      <td>0</td>\n",
              "      <td>0</td>\n",
              "    </tr>\n",
              "    <tr>\n",
              "      <th>2015-01-01 04:00:00</th>\n",
              "      <td>0</td>\n",
              "      <td>0</td>\n",
              "      <td>0</td>\n",
              "      <td>0</td>\n",
              "      <td>1</td>\n",
              "      <td>0</td>\n",
              "      <td>0</td>\n",
              "      <td>0</td>\n",
              "      <td>0</td>\n",
              "      <td>0</td>\n",
              "      <td>...</td>\n",
              "      <td>0</td>\n",
              "      <td>0</td>\n",
              "      <td>0</td>\n",
              "      <td>0</td>\n",
              "      <td>0</td>\n",
              "      <td>0</td>\n",
              "      <td>0</td>\n",
              "      <td>0</td>\n",
              "      <td>0</td>\n",
              "      <td>0</td>\n",
              "    </tr>\n",
              "    <tr>\n",
              "      <th>...</th>\n",
              "      <td>...</td>\n",
              "      <td>...</td>\n",
              "      <td>...</td>\n",
              "      <td>...</td>\n",
              "      <td>...</td>\n",
              "      <td>...</td>\n",
              "      <td>...</td>\n",
              "      <td>...</td>\n",
              "      <td>...</td>\n",
              "      <td>...</td>\n",
              "      <td>...</td>\n",
              "      <td>...</td>\n",
              "      <td>...</td>\n",
              "      <td>...</td>\n",
              "      <td>...</td>\n",
              "      <td>...</td>\n",
              "      <td>...</td>\n",
              "      <td>...</td>\n",
              "      <td>...</td>\n",
              "      <td>...</td>\n",
              "      <td>...</td>\n",
              "    </tr>\n",
              "    <tr>\n",
              "      <th>2019-08-21 19:00:00</th>\n",
              "      <td>0</td>\n",
              "      <td>0</td>\n",
              "      <td>0</td>\n",
              "      <td>0</td>\n",
              "      <td>0</td>\n",
              "      <td>0</td>\n",
              "      <td>0</td>\n",
              "      <td>0</td>\n",
              "      <td>0</td>\n",
              "      <td>0</td>\n",
              "      <td>...</td>\n",
              "      <td>0</td>\n",
              "      <td>0</td>\n",
              "      <td>0</td>\n",
              "      <td>0</td>\n",
              "      <td>0</td>\n",
              "      <td>1</td>\n",
              "      <td>0</td>\n",
              "      <td>0</td>\n",
              "      <td>0</td>\n",
              "      <td>0</td>\n",
              "    </tr>\n",
              "    <tr>\n",
              "      <th>2019-08-21 20:00:00</th>\n",
              "      <td>0</td>\n",
              "      <td>0</td>\n",
              "      <td>0</td>\n",
              "      <td>0</td>\n",
              "      <td>0</td>\n",
              "      <td>0</td>\n",
              "      <td>0</td>\n",
              "      <td>0</td>\n",
              "      <td>0</td>\n",
              "      <td>0</td>\n",
              "      <td>...</td>\n",
              "      <td>0</td>\n",
              "      <td>0</td>\n",
              "      <td>0</td>\n",
              "      <td>0</td>\n",
              "      <td>0</td>\n",
              "      <td>0</td>\n",
              "      <td>1</td>\n",
              "      <td>0</td>\n",
              "      <td>0</td>\n",
              "      <td>0</td>\n",
              "    </tr>\n",
              "    <tr>\n",
              "      <th>2019-08-21 21:00:00</th>\n",
              "      <td>0</td>\n",
              "      <td>0</td>\n",
              "      <td>0</td>\n",
              "      <td>0</td>\n",
              "      <td>0</td>\n",
              "      <td>0</td>\n",
              "      <td>0</td>\n",
              "      <td>0</td>\n",
              "      <td>0</td>\n",
              "      <td>0</td>\n",
              "      <td>...</td>\n",
              "      <td>0</td>\n",
              "      <td>0</td>\n",
              "      <td>0</td>\n",
              "      <td>0</td>\n",
              "      <td>0</td>\n",
              "      <td>0</td>\n",
              "      <td>0</td>\n",
              "      <td>1</td>\n",
              "      <td>0</td>\n",
              "      <td>0</td>\n",
              "    </tr>\n",
              "    <tr>\n",
              "      <th>2019-08-21 22:00:00</th>\n",
              "      <td>0</td>\n",
              "      <td>0</td>\n",
              "      <td>0</td>\n",
              "      <td>0</td>\n",
              "      <td>0</td>\n",
              "      <td>0</td>\n",
              "      <td>0</td>\n",
              "      <td>0</td>\n",
              "      <td>0</td>\n",
              "      <td>0</td>\n",
              "      <td>...</td>\n",
              "      <td>0</td>\n",
              "      <td>0</td>\n",
              "      <td>0</td>\n",
              "      <td>0</td>\n",
              "      <td>0</td>\n",
              "      <td>0</td>\n",
              "      <td>0</td>\n",
              "      <td>0</td>\n",
              "      <td>1</td>\n",
              "      <td>0</td>\n",
              "    </tr>\n",
              "    <tr>\n",
              "      <th>2019-08-21 23:00:00</th>\n",
              "      <td>0</td>\n",
              "      <td>0</td>\n",
              "      <td>0</td>\n",
              "      <td>0</td>\n",
              "      <td>0</td>\n",
              "      <td>0</td>\n",
              "      <td>0</td>\n",
              "      <td>0</td>\n",
              "      <td>0</td>\n",
              "      <td>0</td>\n",
              "      <td>...</td>\n",
              "      <td>0</td>\n",
              "      <td>0</td>\n",
              "      <td>0</td>\n",
              "      <td>0</td>\n",
              "      <td>0</td>\n",
              "      <td>0</td>\n",
              "      <td>0</td>\n",
              "      <td>0</td>\n",
              "      <td>0</td>\n",
              "      <td>1</td>\n",
              "    </tr>\n",
              "  </tbody>\n",
              "</table>\n",
              "<p>39392 rows × 24 columns</p>\n",
              "</div>\n",
              "      <button class=\"colab-df-convert\" onclick=\"convertToInteractive('df-726f6dab-19a4-43bc-97ee-7e7546579574')\"\n",
              "              title=\"Convert this dataframe to an interactive table.\"\n",
              "              style=\"display:none;\">\n",
              "        \n",
              "  <svg xmlns=\"http://www.w3.org/2000/svg\" height=\"24px\"viewBox=\"0 0 24 24\"\n",
              "       width=\"24px\">\n",
              "    <path d=\"M0 0h24v24H0V0z\" fill=\"none\"/>\n",
              "    <path d=\"M18.56 5.44l.94 2.06.94-2.06 2.06-.94-2.06-.94-.94-2.06-.94 2.06-2.06.94zm-11 1L8.5 8.5l.94-2.06 2.06-.94-2.06-.94L8.5 2.5l-.94 2.06-2.06.94zm10 10l.94 2.06.94-2.06 2.06-.94-2.06-.94-.94-2.06-.94 2.06-2.06.94z\"/><path d=\"M17.41 7.96l-1.37-1.37c-.4-.4-.92-.59-1.43-.59-.52 0-1.04.2-1.43.59L10.3 9.45l-7.72 7.72c-.78.78-.78 2.05 0 2.83L4 21.41c.39.39.9.59 1.41.59.51 0 1.02-.2 1.41-.59l7.78-7.78 2.81-2.81c.8-.78.8-2.07 0-2.86zM5.41 20L4 18.59l7.72-7.72 1.47 1.35L5.41 20z\"/>\n",
              "  </svg>\n",
              "      </button>\n",
              "      \n",
              "  <style>\n",
              "    .colab-df-container {\n",
              "      display:flex;\n",
              "      flex-wrap:wrap;\n",
              "      gap: 12px;\n",
              "    }\n",
              "\n",
              "    .colab-df-convert {\n",
              "      background-color: #E8F0FE;\n",
              "      border: none;\n",
              "      border-radius: 50%;\n",
              "      cursor: pointer;\n",
              "      display: none;\n",
              "      fill: #1967D2;\n",
              "      height: 32px;\n",
              "      padding: 0 0 0 0;\n",
              "      width: 32px;\n",
              "    }\n",
              "\n",
              "    .colab-df-convert:hover {\n",
              "      background-color: #E2EBFA;\n",
              "      box-shadow: 0px 1px 2px rgba(60, 64, 67, 0.3), 0px 1px 3px 1px rgba(60, 64, 67, 0.15);\n",
              "      fill: #174EA6;\n",
              "    }\n",
              "\n",
              "    [theme=dark] .colab-df-convert {\n",
              "      background-color: #3B4455;\n",
              "      fill: #D2E3FC;\n",
              "    }\n",
              "\n",
              "    [theme=dark] .colab-df-convert:hover {\n",
              "      background-color: #434B5C;\n",
              "      box-shadow: 0px 1px 3px 1px rgba(0, 0, 0, 0.15);\n",
              "      filter: drop-shadow(0px 1px 2px rgba(0, 0, 0, 0.3));\n",
              "      fill: #FFFFFF;\n",
              "    }\n",
              "  </style>\n",
              "\n",
              "      <script>\n",
              "        const buttonEl =\n",
              "          document.querySelector('#df-726f6dab-19a4-43bc-97ee-7e7546579574 button.colab-df-convert');\n",
              "        buttonEl.style.display =\n",
              "          google.colab.kernel.accessAllowed ? 'block' : 'none';\n",
              "\n",
              "        async function convertToInteractive(key) {\n",
              "          const element = document.querySelector('#df-726f6dab-19a4-43bc-97ee-7e7546579574');\n",
              "          const dataTable =\n",
              "            await google.colab.kernel.invokeFunction('convertToInteractive',\n",
              "                                                     [key], {});\n",
              "          if (!dataTable) return;\n",
              "\n",
              "          const docLinkHtml = 'Like what you see? Visit the ' +\n",
              "            '<a target=\"_blank\" href=https://colab.research.google.com/notebooks/data_table.ipynb>data table notebook</a>'\n",
              "            + ' to learn more about interactive tables.';\n",
              "          element.innerHTML = '';\n",
              "          dataTable['output_type'] = 'display_data';\n",
              "          await google.colab.output.renderOutput(dataTable, element);\n",
              "          const docLink = document.createElement('div');\n",
              "          docLink.innerHTML = docLinkHtml;\n",
              "          element.appendChild(docLink);\n",
              "        }\n",
              "      </script>\n",
              "    </div>\n",
              "  </div>\n",
              "  "
            ]
          },
          "metadata": {},
          "execution_count": 38
        }
      ]
    },
    {
      "cell_type": "markdown",
      "metadata": {
        "id": "x956Gsb4Q27d"
      },
      "source": [
        "### The Year and Time Columns are dropped"
      ]
    },
    {
      "cell_type": "code",
      "metadata": {
        "id": "lB9kht1PwQGN"
      },
      "source": [
        "df_train = df.drop(['Year','Time','Temp (°C)'],axis=1) #Dropping time for test case\n",
        "temp = df['Temp (°C)']\n",
        "df_train = pd.concat([df_train,temp],axis=1)"
      ],
      "execution_count": 39,
      "outputs": []
    },
    {
      "cell_type": "markdown",
      "metadata": {
        "id": "pgEuQoExQwpf"
      },
      "source": [
        "## Data Description"
      ]
    },
    {
      "cell_type": "code",
      "metadata": {
        "colab": {
          "base_uri": "https://localhost:8080/"
        },
        "id": "54G5UsLNycPF",
        "outputId": "695fe66d-03d7-409e-f4f8-4ef73e9c9d99"
      },
      "source": [
        "df_train.info()"
      ],
      "execution_count": 40,
      "outputs": [
        {
          "output_type": "stream",
          "name": "stdout",
          "text": [
            "<class 'pandas.core.frame.DataFrame'>\n",
            "DatetimeIndex: 39392 entries, 2015-01-01 00:00:00 to 2019-08-21 23:00:00\n",
            "Data columns (total 7 columns):\n",
            " #   Column               Non-Null Count  Dtype  \n",
            "---  ------               --------------  -----  \n",
            " 0   Month                39392 non-null  int64  \n",
            " 1   Day                  39392 non-null  int64  \n",
            " 2   Dew Point Temp (°C)  39391 non-null  float64\n",
            " 3   Rel Hum (%)          39392 non-null  int64  \n",
            " 4   Wind Spd (km/h)      39392 non-null  int64  \n",
            " 5   Stn Press (kPa)      39391 non-null  float64\n",
            " 6   Temp (°C)            39382 non-null  float64\n",
            "dtypes: float64(3), int64(4)\n",
            "memory usage: 2.4 MB\n"
          ]
        }
      ]
    },
    {
      "cell_type": "markdown",
      "metadata": {
        "id": "gMwr5o3nQfx2"
      },
      "source": [
        "### Filling missing column values with the mean of 6 hr lag temperature values"
      ]
    },
    {
      "cell_type": "code",
      "metadata": {
        "id": "-RVuz2xUJ__r"
      },
      "source": [
        "df_train = df_train.fillna(df_train.rolling(6,min_periods=1).mean())"
      ],
      "execution_count": 41,
      "outputs": []
    },
    {
      "cell_type": "markdown",
      "metadata": {
        "id": "3zGjMh7pQXET"
      },
      "source": [
        "### Cross-Checking If Missing Values are still Present"
      ]
    },
    {
      "cell_type": "code",
      "metadata": {
        "colab": {
          "base_uri": "https://localhost:8080/"
        },
        "id": "dtcj34WWM_Ml",
        "outputId": "01103259-613a-48f6-ccd9-1f9b00ca7b98"
      },
      "source": [
        "df_train.isna().any()"
      ],
      "execution_count": 42,
      "outputs": [
        {
          "output_type": "execute_result",
          "data": {
            "text/plain": [
              "Month                  False\n",
              "Day                    False\n",
              "Dew Point Temp (°C)    False\n",
              "Rel Hum (%)            False\n",
              "Wind Spd (km/h)        False\n",
              "Stn Press (kPa)        False\n",
              "Temp (°C)              False\n",
              "dtype: bool"
            ]
          },
          "metadata": {},
          "execution_count": 42
        }
      ]
    },
    {
      "cell_type": "markdown",
      "metadata": {
        "id": "la608WT3QLR3"
      },
      "source": [
        "### Splitting Data into Train Data and Validation Data"
      ]
    },
    {
      "cell_type": "code",
      "metadata": {
        "id": "Hd5l1xXRV1hM"
      },
      "source": [
        "split_time = sum(df_train.index.year == 2015) + sum(df_train.index.year == 2016) + sum(df_train.index.year == 2017)\n",
        "time_train = df_train.index[:split_time]\n",
        "x_train = df_train.iloc[:split_time]\n",
        "time_valid = df_train.index[split_time:]\n",
        "x_valid = df_train.iloc[split_time:]\n",
        "\n",
        "window_size = 14\n",
        "batch_size = 120\n",
        "shuffle_buffer = 42"
      ],
      "execution_count": 43,
      "outputs": []
    },
    {
      "cell_type": "markdown",
      "metadata": {
        "id": "GXMtiN2DQCAR"
      },
      "source": [
        "### Helper Function for preparing the dataset into a form acceptable by the model"
      ]
    },
    {
      "cell_type": "code",
      "metadata": {
        "id": "mbBiQ8LzVvGn"
      },
      "source": [
        "def windowed_dataset(series, window_size, batch_size, shuffle_buffer):\n",
        "  dataset = tf.data.Dataset.from_tensor_slices(series)\n",
        "  dataset = dataset.window(window_size + 1, shift=1, drop_remainder=True)\n",
        "  dataset = dataset.flat_map(lambda window: window.batch(window_size + 1))\n",
        "  dataset = dataset.shuffle(shuffle_buffer).map(lambda window: (window[:,:-1], window[-1,-1]))\n",
        "  dataset = dataset.batch(batch_size).prefetch(1)\n",
        "  return dataset"
      ],
      "execution_count": 44,
      "outputs": []
    },
    {
      "cell_type": "markdown",
      "metadata": {
        "id": "sG1wM4LNP22u"
      },
      "source": [
        "### Dataset Preparation and Model Build"
      ]
    },
    {
      "cell_type": "code",
      "metadata": {
        "colab": {
          "base_uri": "https://localhost:8080/"
        },
        "id": "lM2foMw2Wt9P",
        "outputId": "3368edd5-731c-46ba-b229-872066da58c0"
      },
      "source": [
        "tf.keras.backend.clear_session()\n",
        "dataset = windowed_dataset(x_train, window_size, batch_size, shuffle_buffer)\n",
        "dataset_test = windowed_dataset(x_valid, window_size, batch_size, shuffle_buffer)\n",
        "model = tf.keras.models.Sequential([\n",
        "  tf.keras.layers.Lambda(lambda x: x * 0.1,\n",
        "                      input_shape=[None,6]),\n",
        "  tf.keras.layers.Conv1D(filters=32, kernel_size=5,\n",
        "                      strides=1, padding=\"causal\",\n",
        "                      activation=\"relu\"),\n",
        "  tf.keras.layers.Bidirectional(tf.keras.layers.LSTM(64,activation='relu',return_sequences=True,input_shape=[None])),\n",
        "  tf.keras.layers.Dropout(0.3),\n",
        "  tf.keras.layers.Bidirectional(tf.keras.layers.LSTM(64,activation='relu', return_sequences=True)),\n",
        "  tf.keras.layers.Bidirectional(tf.keras.layers.LSTM(32,activation='relu')),\n",
        "  tf.keras.layers.Dropout(0.1),\n",
        "  tf.keras.layers.Dense(16,activation='relu'),\n",
        "  tf.keras.layers.Dense(1),\n",
        "  tf.keras.layers.Lambda(lambda x: x * 10)\n",
        "])\n",
        "\n",
        "# 4e-4\n",
        "# lr_schedule = tf.keras.callbacks.LearningRateScheduler(\n",
        "#     lambda epoch: 1e-10 * 10**(epoch / 20))\n",
        "optimizer = tf.keras.optimizers.Adam(learning_rate=0.00034)\n",
        "\n",
        "# [tf.keras.metrics.RootMeanSquaredError()]\n",
        "# tf.keras.losses.Huber()\n",
        "\n",
        "model.compile(loss=tf.keras.losses.Huber(), optimizer=optimizer,metrics=[tf.keras.metrics.RootMeanSquaredError()])\n",
        "history = model.fit(dataset,validation_data=dataset_test,epochs=50)"
      ],
      "execution_count": 45,
      "outputs": [
        {
          "metadata": {
            "tags": null
          },
          "name": "stdout",
          "output_type": "stream",
          "text": [
            "Epoch 1/50\n",
            "210/210 [==============================] - 33s 128ms/step - loss: 7.5776 - root_mean_squared_error: 10.0991 - val_loss: 9.0327 - val_root_mean_squared_error: 11.3960\n",
            "Epoch 2/50\n",
            "210/210 [==============================] - 26s 123ms/step - loss: 9.4422 - root_mean_squared_error: 11.7875 - val_loss: 7.8821 - val_root_mean_squared_error: 9.8274\n",
            "Epoch 3/50\n",
            "210/210 [==============================] - 27s 130ms/step - loss: 7.6504 - root_mean_squared_error: 9.8960 - val_loss: 7.0523 - val_root_mean_squared_error: 9.0137\n",
            "Epoch 4/50\n",
            "210/210 [==============================] - 26s 123ms/step - loss: 8.5900 - root_mean_squared_error: 52.3459 - val_loss: 5.6174 - val_root_mean_squared_error: 7.3093\n",
            "Epoch 5/50\n",
            "210/210 [==============================] - 26s 123ms/step - loss: 5.2284 - root_mean_squared_error: 7.2747 - val_loss: 5.0166 - val_root_mean_squared_error: 6.6677\n",
            "Epoch 6/50\n",
            "210/210 [==============================] - 26s 122ms/step - loss: 4.4875 - root_mean_squared_error: 6.2551 - val_loss: 4.4651 - val_root_mean_squared_error: 6.0578\n",
            "Epoch 7/50\n",
            "210/210 [==============================] - 26s 123ms/step - loss: 4.0103 - root_mean_squared_error: 5.6566 - val_loss: 4.0208 - val_root_mean_squared_error: 5.5256\n",
            "Epoch 8/50\n",
            "210/210 [==============================] - 26s 122ms/step - loss: 3.6790 - root_mean_squared_error: 5.2705 - val_loss: 3.6642 - val_root_mean_squared_error: 5.0985\n",
            "Epoch 9/50\n",
            "210/210 [==============================] - 28s 132ms/step - loss: 3.3945 - root_mean_squared_error: 4.9416 - val_loss: 3.4729 - val_root_mean_squared_error: 4.8651\n",
            "Epoch 10/50\n",
            "210/210 [==============================] - 26s 123ms/step - loss: 3.2135 - root_mean_squared_error: 4.7143 - val_loss: 3.3360 - val_root_mean_squared_error: 4.6830\n",
            "Epoch 11/50\n",
            "210/210 [==============================] - 26s 123ms/step - loss: 3.0699 - root_mean_squared_error: 4.5308 - val_loss: 3.3192 - val_root_mean_squared_error: 4.6469\n",
            "Epoch 12/50\n",
            "210/210 [==============================] - 26s 123ms/step - loss: 2.9457 - root_mean_squared_error: 4.3676 - val_loss: 3.3219 - val_root_mean_squared_error: 4.6361\n",
            "Epoch 13/50\n",
            "210/210 [==============================] - 26s 122ms/step - loss: 2.8629 - root_mean_squared_error: 4.2614 - val_loss: 3.3239 - val_root_mean_squared_error: 4.6340\n",
            "Epoch 14/50\n",
            "210/210 [==============================] - 26s 122ms/step - loss: 2.7682 - root_mean_squared_error: 4.1453 - val_loss: 3.2724 - val_root_mean_squared_error: 4.5665\n",
            "Epoch 15/50\n",
            "210/210 [==============================] - 26s 123ms/step - loss: 2.7093 - root_mean_squared_error: 4.0661 - val_loss: 3.2404 - val_root_mean_squared_error: 4.5423\n",
            "Epoch 16/50\n",
            "210/210 [==============================] - 26s 124ms/step - loss: 2.6262 - root_mean_squared_error: 3.9538 - val_loss: 3.1662 - val_root_mean_squared_error: 4.4775\n",
            "Epoch 17/50\n",
            "210/210 [==============================] - 26s 124ms/step - loss: 2.5293 - root_mean_squared_error: 3.8337 - val_loss: 3.0559 - val_root_mean_squared_error: 4.3616\n",
            "Epoch 18/50\n",
            "210/210 [==============================] - 26s 124ms/step - loss: 2.4671 - root_mean_squared_error: 3.7475 - val_loss: 3.0261 - val_root_mean_squared_error: 4.3325\n",
            "Epoch 19/50\n",
            "210/210 [==============================] - 26s 123ms/step - loss: 2.4094 - root_mean_squared_error: 3.6931 - val_loss: 2.9583 - val_root_mean_squared_error: 4.2766\n",
            "Epoch 20/50\n",
            "210/210 [==============================] - 26s 123ms/step - loss: 2.3433 - root_mean_squared_error: 3.6079 - val_loss: 2.8567 - val_root_mean_squared_error: 4.1268\n",
            "Epoch 21/50\n",
            "210/210 [==============================] - 26s 124ms/step - loss: 2.1734 - root_mean_squared_error: 3.3721 - val_loss: 2.7646 - val_root_mean_squared_error: 4.0089\n",
            "Epoch 22/50\n",
            "210/210 [==============================] - 26s 121ms/step - loss: 2.0976 - root_mean_squared_error: 3.2968 - val_loss: 2.7053 - val_root_mean_squared_error: 3.9451\n",
            "Epoch 23/50\n",
            "210/210 [==============================] - 26s 122ms/step - loss: 1.9891 - root_mean_squared_error: 3.1465 - val_loss: 2.6165 - val_root_mean_squared_error: 3.8241\n",
            "Epoch 24/50\n",
            "210/210 [==============================] - 26s 123ms/step - loss: 1.9019 - root_mean_squared_error: 3.0405 - val_loss: 2.6409 - val_root_mean_squared_error: 3.8320\n",
            "Epoch 25/50\n",
            "210/210 [==============================] - 26s 124ms/step - loss: 1.8252 - root_mean_squared_error: 2.9484 - val_loss: 2.3865 - val_root_mean_squared_error: 3.5514\n",
            "Epoch 26/50\n",
            "210/210 [==============================] - 26s 123ms/step - loss: 1.7045 - root_mean_squared_error: 2.7969 - val_loss: 2.3130 - val_root_mean_squared_error: 3.4438\n",
            "Epoch 27/50\n",
            "210/210 [==============================] - 26s 122ms/step - loss: 1.5708 - root_mean_squared_error: 2.6422 - val_loss: 2.0179 - val_root_mean_squared_error: 3.0777\n",
            "Epoch 28/50\n",
            "210/210 [==============================] - 25s 120ms/step - loss: 1.4995 - root_mean_squared_error: 2.5685 - val_loss: 1.7245 - val_root_mean_squared_error: 2.7165\n",
            "Epoch 29/50\n",
            "210/210 [==============================] - 26s 123ms/step - loss: 1.3671 - root_mean_squared_error: 2.3876 - val_loss: 1.5236 - val_root_mean_squared_error: 2.5219\n",
            "Epoch 30/50\n",
            "210/210 [==============================] - 26s 122ms/step - loss: 1.3316 - root_mean_squared_error: 2.3691 - val_loss: 1.4548 - val_root_mean_squared_error: 2.4157\n",
            "Epoch 31/50\n",
            "210/210 [==============================] - 26s 123ms/step - loss: 1.2285 - root_mean_squared_error: 2.1973 - val_loss: 1.2644 - val_root_mean_squared_error: 2.1946\n",
            "Epoch 32/50\n",
            "210/210 [==============================] - 26s 122ms/step - loss: 1.1474 - root_mean_squared_error: 2.1053 - val_loss: 1.2455 - val_root_mean_squared_error: 2.1721\n",
            "Epoch 33/50\n",
            "210/210 [==============================] - 26s 124ms/step - loss: 1.1008 - root_mean_squared_error: 2.0256 - val_loss: 1.0107 - val_root_mean_squared_error: 1.8694\n",
            "Epoch 34/50\n",
            "210/210 [==============================] - 26s 121ms/step - loss: 1.0034 - root_mean_squared_error: 1.8963 - val_loss: 0.8713 - val_root_mean_squared_error: 1.7026\n",
            "Epoch 35/50\n",
            "210/210 [==============================] - 25s 120ms/step - loss: 0.9370 - root_mean_squared_error: 1.8101 - val_loss: 0.8221 - val_root_mean_squared_error: 1.6475\n",
            "Epoch 36/50\n",
            "210/210 [==============================] - 25s 120ms/step - loss: 0.8843 - root_mean_squared_error: 1.7489 - val_loss: 0.6647 - val_root_mean_squared_error: 1.4249\n",
            "Epoch 37/50\n",
            "210/210 [==============================] - 25s 121ms/step - loss: 0.8104 - root_mean_squared_error: 1.6252 - val_loss: 0.7818 - val_root_mean_squared_error: 1.5851\n",
            "Epoch 38/50\n",
            "210/210 [==============================] - 25s 119ms/step - loss: 0.7701 - root_mean_squared_error: 1.5838 - val_loss: 0.7843 - val_root_mean_squared_error: 1.5300\n",
            "Epoch 39/50\n",
            "210/210 [==============================] - 25s 120ms/step - loss: 0.7013 - root_mean_squared_error: 1.4689 - val_loss: 0.7742 - val_root_mean_squared_error: 1.5264\n",
            "Epoch 40/50\n",
            "210/210 [==============================] - 26s 121ms/step - loss: 0.6689 - root_mean_squared_error: 1.4354 - val_loss: 0.7270 - val_root_mean_squared_error: 1.4419\n",
            "Epoch 41/50\n",
            "210/210 [==============================] - 26s 122ms/step - loss: 0.6039 - root_mean_squared_error: 1.3387 - val_loss: 1.0353 - val_root_mean_squared_error: 1.8217\n",
            "Epoch 42/50\n",
            "210/210 [==============================] - 25s 120ms/step - loss: 0.5516 - root_mean_squared_error: 1.2547 - val_loss: 0.9483 - val_root_mean_squared_error: 1.7020\n",
            "Epoch 43/50\n",
            "210/210 [==============================] - 25s 121ms/step - loss: 0.5214 - root_mean_squared_error: 1.2332 - val_loss: 0.9163 - val_root_mean_squared_error: 1.7189\n",
            "Epoch 44/50\n",
            "210/210 [==============================] - 25s 120ms/step - loss: 0.4891 - root_mean_squared_error: 1.1708 - val_loss: 0.8170 - val_root_mean_squared_error: 1.4764\n",
            "Epoch 45/50\n",
            "210/210 [==============================] - 25s 120ms/step - loss: 0.4833 - root_mean_squared_error: 1.1807 - val_loss: 0.8778 - val_root_mean_squared_error: 1.6906\n",
            "Epoch 46/50\n",
            "210/210 [==============================] - 26s 126ms/step - loss: 0.4417 - root_mean_squared_error: 1.0908 - val_loss: 1.1922 - val_root_mean_squared_error: 2.0978\n",
            "Epoch 47/50\n",
            "210/210 [==============================] - 25s 120ms/step - loss: 0.3949 - root_mean_squared_error: 1.0300 - val_loss: 1.1527 - val_root_mean_squared_error: 2.0671\n",
            "Epoch 48/50\n",
            "210/210 [==============================] - 25s 121ms/step - loss: 0.3665 - root_mean_squared_error: 0.9828 - val_loss: 0.7848 - val_root_mean_squared_error: 1.5431\n",
            "Epoch 49/50\n",
            "210/210 [==============================] - 26s 125ms/step - loss: 0.3759 - root_mean_squared_error: 0.9944 - val_loss: 1.3602 - val_root_mean_squared_error: 2.4054\n",
            "Epoch 50/50\n",
            "210/210 [==============================] - 25s 121ms/step - loss: 0.3603 - root_mean_squared_error: 0.9709 - val_loss: 1.2170 - val_root_mean_squared_error: 2.2104\n"
          ]
        }
      ]
    },
    {
      "cell_type": "markdown",
      "metadata": {
        "id": "j2AbJF0zPtd5"
      },
      "source": [
        "### Model Evaluation for Multi-Variate Approach"
      ]
    },
    {
      "cell_type": "code",
      "metadata": {
        "colab": {
          "base_uri": "https://localhost:8080/",
          "height": 716
        },
        "id": "mA2wGIWlnxeA",
        "outputId": "c041fe3b-d471-4e21-daef-74c612dbfcab"
      },
      "source": [
        "epochs =  range(50)\n",
        "plt.figure(figsize=(12,8))\n",
        "plt.title('Epochs VS Huber Loss')\n",
        "plt.plot(epochs, history.history[\"val_loss\"],color='b',label='val_loss')\n",
        "plt.plot(epochs, history.history[\"loss\"],color='r',label='train_loss')\n",
        "plt.legend()"
      ],
      "execution_count": 46,
      "outputs": [
        {
          "data": {
            "text/plain": [
              "<matplotlib.legend.Legend at 0x7fa82ebd3dc0>"
            ]
          },
          "execution_count": 46,
          "metadata": {},
          "output_type": "execute_result"
        },
        {
          "data": {
            "image/png": "[encoded data removed]",
            "text/plain": [
              "<Figure size 1200x800 with 1 Axes>"
            ]
          },
          "metadata": {},
          "output_type": "display_data"
        }
      ]
    },
    {
      "cell_type": "code",
      "metadata": {
        "colab": {
          "base_uri": "https://localhost:8080/",
          "height": 716
        },
        "id": "oy_UjMUQcu_D",
        "outputId": "99c870dd-1b12-46ae-da41-bc84a4942c94"
      },
      "source": [
        "epochs =  range(50)\n",
        "plt.figure(figsize=(12,8))\n",
        "plt.title('Epochs VS Root Mean Squared Error')\n",
        "plt.plot(epochs, history.history[\"val_root_mean_squared_error\"],color='b',label='val_error')\n",
        "plt.plot(epochs, history.history[\"root_mean_squared_error\"],color='r',label='train_error')\n",
        "plt.legend()"
      ],
      "execution_count": 47,
      "outputs": [
        {
          "data": {
            "text/plain": [
              "<matplotlib.legend.Legend at 0x7fa82ec1c610>"
            ]
          },
          "execution_count": 47,
          "metadata": {},
          "output_type": "execute_result"
        },
        {
          "data": {
            "image/png": "[encoded data removed]",
            "text/plain": [
              "<Figure size 1200x800 with 1 Axes>"
            ]
          },
          "metadata": {},
          "output_type": "display_data"
        }
      ]
    },
    {
      "cell_type": "markdown",
      "metadata": {
        "id": "BhXuucqyW-nd"
      },
      "source": [
        "### Saving the model and weights"
      ]
    },
    {
      "cell_type": "code",
      "metadata": {
        "id": "XPfeJdEgHtP-"
      },
      "source": [
        "model.save_weights('/gdrive/MyDrive/Colab Notebooks/Tensorflow_in_practice/Mr_Kebou_Project/models/conv_net_lstm_weights_epochs_50')"
      ],
      "execution_count": 48,
      "outputs": []
    },
    {
      "cell_type": "code",
      "metadata": {
        "colab": {
          "base_uri": "https://localhost:8080/"
        },
        "id": "KooRlkFkIhRf",
        "outputId": "4eb36983-f441-4064-f73e-206762bf2cee"
      },
      "source": [
        "model.save('/gdrive/MyDrive/Colab Notebooks/Tensorflow_in_practice/Mr_Kebou_Project/models/conv_net_lstm_model_epochs_50')"
      ],
      "execution_count": 49,
      "outputs": [
        {
          "output_type": "stream",
          "name": "stderr",
          "text": [
            "WARNING:absl:Found untraced functions such as _jit_compiled_convolution_op, _update_step_xla while saving (showing 2 of 2). These functions will not be directly callable after loading.\n"
          ]
        }
      ]
    },
    {
      "cell_type": "markdown",
      "metadata": {
        "id": "cwt-6Y3qBOtX"
      },
      "source": [
        "### Load Saved Model"
      ]
    },
    {
      "cell_type": "code",
      "metadata": {
        "colab": {
          "base_uri": "https://localhost:8080/"
        },
        "id": "dNZR4fbnCCDs",
        "outputId": "8dbfebba-3a38-4bb1-a70b-bfc84bdb4563"
      },
      "source": [
        "new_model = tf.keras.models.Sequential([\n",
        "  tf.keras.layers.Lambda(lambda x: x * 0.1,\n",
        "                      input_shape=[None,6]),\n",
        "  tf.keras.layers.Conv1D(filters=32, kernel_size=5,\n",
        "                      strides=1, padding=\"causal\",\n",
        "                      activation=\"relu\"),\n",
        "  tf.keras.layers.Bidirectional(tf.keras.layers.LSTM(64,activation='relu',return_sequences=True,input_shape=[None])),\n",
        "  tf.keras.layers.Dropout(0.3),\n",
        "  tf.keras.layers.Bidirectional(tf.keras.layers.LSTM(64,activation='relu', return_sequences=True)),\n",
        "  tf.keras.layers.Bidirectional(tf.keras.layers.LSTM(32,activation='relu')),\n",
        "  tf.keras.layers.Dropout(0.1),\n",
        "  tf.keras.layers.Dense(16,activation='relu'),\n",
        "  tf.keras.layers.Dense(1),\n",
        "  tf.keras.layers.Lambda(lambda x: x * 10)\n",
        "])\n",
        "\n",
        "optimizer = tf.keras.optimizers.Adam(learning_rate=0.00034)\n",
        "\n",
        "new_model.compile(loss=tf.keras.losses.Huber(), optimizer=optimizer,metrics=[tf.keras.metrics.RootMeanSquaredError()])\n",
        "\n",
        "# Check its architecture\n",
        "new_model.summary()"
      ],
      "execution_count": 50,
      "outputs": [
        {
          "output_type": "stream",
          "name": "stdout",
          "text": [
            "Model: \"sequential_1\"\n",
            "_________________________________________________________________\n",
            " Layer (type)                Output Shape              Param #   \n",
            "=================================================================\n",
            " lambda_2 (Lambda)           (None, None, 6)           0         \n",
            "                                                                 \n",
            " conv1d_1 (Conv1D)           (None, None, 32)          992       \n",
            "                                                                 \n",
            " bidirectional_3 (Bidirectio  (None, None, 128)        49664     \n",
            " nal)                                                            \n",
            "                                                                 \n",
            " dropout_2 (Dropout)         (None, None, 128)         0         \n",
            "                                                                 \n",
            " bidirectional_4 (Bidirectio  (None, None, 128)        98816     \n",
            " nal)                                                            \n",
            "                                                                 \n",
            " bidirectional_5 (Bidirectio  (None, 64)               41216     \n",
            " nal)                                                            \n",
            "                                                                 \n",
            " dropout_3 (Dropout)         (None, 64)                0         \n",
            "                                                                 \n",
            " dense_2 (Dense)             (None, 16)                1040      \n",
            "                                                                 \n",
            " dense_3 (Dense)             (None, 1)                 17        \n",
            "                                                                 \n",
            " lambda_3 (Lambda)           (None, 1)                 0         \n",
            "                                                                 \n",
            "=================================================================\n",
            "Total params: 191,745\n",
            "Trainable params: 191,745\n",
            "Non-trainable params: 0\n",
            "_________________________________________________________________\n"
          ]
        }
      ]
    },
    {
      "cell_type": "code",
      "metadata": {
        "id": "9ufaC7RVYyir"
      },
      "source": [
        "new_model.load_weights(\"/gdrive/MyDrive/Colab Notebooks/Tensorflow_in_practice/Mr_Kebou_Project/models/model.h5\")"
      ],
      "execution_count": 51,
      "outputs": []
    },
    {
      "cell_type": "code",
      "metadata": {
        "colab": {
          "base_uri": "https://localhost:8080/"
        },
        "id": "VWtuIC34vdQs",
        "outputId": "f0ddf28a-83cf-4dca-bdfd-b226198e2344"
      },
      "source": [
        "# serialize model to JSON\n",
        "model_json = new_model.to_json()\n",
        "with open(\"/gdrive/MyDrive/Colab Notebooks/Tensorflow_in_practice/Mr_Kebou_Project/models/model.json\", \"w\") as json_file:\n",
        "    json_file.write(model_json)\n",
        "# serialize weights to HDF5\n",
        "new_model.save_weights(\"/gdrive/MyDrive/Colab Notebooks/Tensorflow_in_practice/Mr_Kebou_Project/models/model.h5\")\n",
        "print(\"Saved model to disk\")"
      ],
      "execution_count": 52,
      "outputs": [
        {
          "output_type": "stream",
          "name": "stdout",
          "text": [
            "Saved model to disk\n"
          ]
        }
      ]
    },
    {
      "cell_type": "code",
      "metadata": {
        "colab": {
          "base_uri": "https://localhost:8080/"
        },
        "id": "_pRzVzH9wHp2",
        "outputId": "bbb905be-022d-4ad1-ce59-90a7503c45f2"
      },
      "source": [
        "# load json and create model\n",
        "from tensorflow.keras.models import model_from_json\n",
        "json_file = open('/gdrive/MyDrive/Colab Notebooks/Tensorflow_in_practice/Mr_Kebou_Project/models/model.json', 'r')\n",
        "loaded_model_json = json_file.read()\n",
        "json_file.close()\n",
        "loaded_model = model_from_json(loaded_model_json)\n",
        "# load weights into new model\n",
        "loaded_model.load_weights(\"/gdrive/MyDrive/Colab Notebooks/Tensorflow_in_practice/Mr_Kebou_Project/models/model.h5\")\n",
        "print(\"Loaded model from disk\")"
      ],
      "execution_count": 53,
      "outputs": [
        {
          "output_type": "stream",
          "name": "stdout",
          "text": [
            "Loaded model from disk\n"
          ]
        }
      ]
    },
    {
      "cell_type": "code",
      "metadata": {
        "colab": {
          "base_uri": "https://localhost:8080/"
        },
        "id": "RF6wiDLWw3c8",
        "outputId": "5c42bc56-1075-4bb9-87f4-eafb920f1684"
      },
      "source": [
        "loaded_model.summary()"
      ],
      "execution_count": 54,
      "outputs": [
        {
          "output_type": "stream",
          "name": "stdout",
          "text": [
            "Model: \"sequential_1\"\n",
            "_________________________________________________________________\n",
            " Layer (type)                Output Shape              Param #   \n",
            "=================================================================\n",
            " lambda_2 (Lambda)           (None, None, 6)           0         \n",
            "                                                                 \n",
            " conv1d_1 (Conv1D)           (None, None, 32)          992       \n",
            "                                                                 \n",
            " bidirectional_3 (Bidirectio  (None, None, 128)        49664     \n",
            " nal)                                                            \n",
            "                                                                 \n",
            " dropout_2 (Dropout)         (None, None, 128)         0         \n",
            "                                                                 \n",
            " bidirectional_4 (Bidirectio  (None, None, 128)        98816     \n",
            " nal)                                                            \n",
            "                                                                 \n",
            " bidirectional_5 (Bidirectio  (None, 64)               41216     \n",
            " nal)                                                            \n",
            "                                                                 \n",
            " dropout_3 (Dropout)         (None, 64)                0         \n",
            "                                                                 \n",
            " dense_2 (Dense)             (None, 16)                1040      \n",
            "                                                                 \n",
            " dense_3 (Dense)             (None, 1)                 17        \n",
            "                                                                 \n",
            " lambda_3 (Lambda)           (None, 1)                 0         \n",
            "                                                                 \n",
            "=================================================================\n",
            "Total params: 191,745\n",
            "Trainable params: 191,745\n",
            "Non-trainable params: 0\n",
            "_________________________________________________________________\n"
          ]
        }
      ]
    },
    {
      "cell_type": "markdown",
      "metadata": {
        "id": "L7hK62AGnFmO"
      },
      "source": [
        "Train Model for one Time Lag"
      ]
    },
    {
      "cell_type": "code",
      "metadata": {
        "colab": {
          "base_uri": "https://localhost:8080/"
        },
        "id": "k9A_NCeLaGbs",
        "outputId": "837a543d-3afb-4e9f-aa1e-0521fcc21800"
      },
      "source": [
        "tf.keras.backend.clear_session()\n",
        "dataset = windowed_dataset(x_train, 0, batch_size, shuffle_buffer)\n",
        "dataset_test = windowed_dataset(x_valid, 0, batch_size, shuffle_buffer)\n",
        "model = tf.keras.models.Sequential([\n",
        "  tf.keras.layers.Lambda(lambda x: x * 0.1,\n",
        "                      input_shape=[None,6]),\n",
        "  tf.keras.layers.Conv1D(filters=32, kernel_size=5,\n",
        "                      strides=1, padding=\"causal\",\n",
        "                      activation=\"relu\"),\n",
        "  tf.keras.layers.Bidirectional(tf.keras.layers.LSTM(64,activation='relu',return_sequences=True,input_shape=[None])),\n",
        "  tf.keras.layers.Dropout(0.3),\n",
        "  tf.keras.layers.Bidirectional(tf.keras.layers.LSTM(64,activation='relu', return_sequences=True)),\n",
        "  tf.keras.layers.Bidirectional(tf.keras.layers.LSTM(32,activation='relu')),\n",
        "  tf.keras.layers.Dropout(0.1),\n",
        "  tf.keras.layers.Dense(16,activation='relu'),\n",
        "  tf.keras.layers.Dense(1),\n",
        "  tf.keras.layers.Lambda(lambda x: x * 10)\n",
        "])\n",
        "\n",
        "# 4e-4\n",
        "# lr_schedule = tf.keras.callbacks.LearningRateScheduler(\n",
        "#     lambda epoch: 1e-10 * 10**(epoch / 20))\n",
        "optimizer = tf.keras.optimizers.Adam(learning_rate=0.00034)\n",
        "\n",
        "# [tf.keras.metrics.RootMeanSquaredError()]\n",
        "# tf.keras.losses.Huber()\n",
        "\n",
        "model.compile(loss=tf.keras.losses.Huber(), optimizer=optimizer,metrics=[tf.keras.metrics.RootMeanSquaredError()])\n",
        "history = model.fit(dataset,validation_data=dataset_test,epochs=23)"
      ],
      "execution_count": 55,
      "outputs": [
        {
          "output_type": "stream",
          "name": "stdout",
          "text": [
            "Epoch 1/23\n",
            "210/210 [==============================] - 13s 30ms/step - loss: 10.7736 - root_mean_squared_error: 13.5133 - val_loss: 9.0574 - val_root_mean_squared_error: 11.5410\n",
            "Epoch 2/23\n",
            "210/210 [==============================] - 7s 33ms/step - loss: 9.6096 - root_mean_squared_error: 12.1288 - val_loss: 7.4748 - val_root_mean_squared_error: 9.5332\n",
            "Epoch 3/23\n",
            "210/210 [==============================] - 6s 27ms/step - loss: 7.4802 - root_mean_squared_error: 9.8115 - val_loss: 6.6522 - val_root_mean_squared_error: 8.6949\n",
            "Epoch 4/23\n",
            "210/210 [==============================] - 6s 27ms/step - loss: 5.7517 - root_mean_squared_error: 7.9332 - val_loss: 5.6174 - val_root_mean_squared_error: 7.3872\n",
            "Epoch 5/23\n",
            "210/210 [==============================] - 8s 38ms/step - loss: 3.7862 - root_mean_squared_error: 5.5356 - val_loss: 4.4273 - val_root_mean_squared_error: 5.9476\n",
            "Epoch 6/23\n",
            "210/210 [==============================] - 7s 32ms/step - loss: 3.0345 - root_mean_squared_error: 4.5275 - val_loss: 3.5094 - val_root_mean_squared_error: 5.2862\n",
            "Epoch 7/23\n",
            "210/210 [==============================] - 5s 26ms/step - loss: 2.5687 - root_mean_squared_error: 4.0077 - val_loss: 2.9321 - val_root_mean_squared_error: 4.6061\n",
            "Epoch 8/23\n",
            "210/210 [==============================] - 6s 30ms/step - loss: 2.0216 - root_mean_squared_error: 3.3236 - val_loss: 2.7605 - val_root_mean_squared_error: 4.3181\n",
            "Epoch 9/23\n",
            "210/210 [==============================] - 6s 26ms/step - loss: 1.7559 - root_mean_squared_error: 2.9525 - val_loss: 2.6931 - val_root_mean_squared_error: 4.1314\n",
            "Epoch 10/23\n",
            "210/210 [==============================] - 8s 38ms/step - loss: 1.5569 - root_mean_squared_error: 2.6675 - val_loss: 2.6941 - val_root_mean_squared_error: 4.0948\n",
            "Epoch 11/23\n",
            "210/210 [==============================] - 7s 32ms/step - loss: 1.4421 - root_mean_squared_error: 2.5013 - val_loss: 2.4723 - val_root_mean_squared_error: 3.7436\n",
            "Epoch 12/23\n",
            "210/210 [==============================] - 6s 27ms/step - loss: 1.2408 - root_mean_squared_error: 2.2311 - val_loss: 2.0995 - val_root_mean_squared_error: 3.2463\n",
            "Epoch 13/23\n",
            "210/210 [==============================] - 7s 32ms/step - loss: 0.9637 - root_mean_squared_error: 1.8809 - val_loss: 1.4127 - val_root_mean_squared_error: 2.3281\n",
            "Epoch 14/23\n",
            "210/210 [==============================] - 7s 33ms/step - loss: 0.8151 - root_mean_squared_error: 1.7083 - val_loss: 1.1443 - val_root_mean_squared_error: 2.0105\n",
            "Epoch 15/23\n",
            "210/210 [==============================] - 7s 32ms/step - loss: 0.7357 - root_mean_squared_error: 1.5880 - val_loss: 1.1017 - val_root_mean_squared_error: 1.9551\n",
            "Epoch 16/23\n",
            "210/210 [==============================] - 7s 31ms/step - loss: 0.6701 - root_mean_squared_error: 1.5052 - val_loss: 1.1141 - val_root_mean_squared_error: 1.9664\n",
            "Epoch 17/23\n",
            "210/210 [==============================] - 7s 31ms/step - loss: 0.6142 - root_mean_squared_error: 1.4353 - val_loss: 1.2208 - val_root_mean_squared_error: 2.0780\n",
            "Epoch 18/23\n",
            "210/210 [==============================] - 8s 36ms/step - loss: 0.5464 - root_mean_squared_error: 1.3312 - val_loss: 1.2885 - val_root_mean_squared_error: 2.1544\n",
            "Epoch 19/23\n",
            "210/210 [==============================] - 8s 38ms/step - loss: 0.5013 - root_mean_squared_error: 1.2556 - val_loss: 1.2359 - val_root_mean_squared_error: 2.0935\n",
            "Epoch 20/23\n",
            "210/210 [==============================] - 5s 26ms/step - loss: 0.4688 - root_mean_squared_error: 1.2073 - val_loss: 1.3390 - val_root_mean_squared_error: 2.2351\n",
            "Epoch 21/23\n",
            "210/210 [==============================] - 7s 32ms/step - loss: 0.4335 - root_mean_squared_error: 1.1564 - val_loss: 1.4492 - val_root_mean_squared_error: 2.3876\n",
            "Epoch 22/23\n",
            "210/210 [==============================] - 5s 26ms/step - loss: 0.3947 - root_mean_squared_error: 1.1047 - val_loss: 1.5032 - val_root_mean_squared_error: 2.4498\n",
            "Epoch 23/23\n",
            "210/210 [==============================] - 6s 31ms/step - loss: 0.3607 - root_mean_squared_error: 1.0342 - val_loss: 1.6642 - val_root_mean_squared_error: 2.6597\n"
          ]
        }
      ]
    },
    {
      "cell_type": "code",
      "metadata": {
        "colab": {
          "base_uri": "https://localhost:8080/",
          "height": 716
        },
        "id": "5ApiHRk1cELb",
        "outputId": "734382a7-5b9d-4bd7-eb5a-9e7dc8a6c281"
      },
      "source": [
        "epochs =  range(23)\n",
        "plt.figure(figsize=(12,8))\n",
        "plt.title('Epochs VS Huber Loss')\n",
        "plt.plot(epochs, history.history[\"val_loss\"],color='b',label='val_loss')\n",
        "plt.plot(epochs, history.history[\"loss\"],color='r',label='train_loss')\n",
        "plt.legend()"
      ],
      "execution_count": 56,
      "outputs": [
        {
          "output_type": "execute_result",
          "data": {
            "text/plain": [
              "<matplotlib.legend.Legend at 0x7fa832f93760>"
            ]
          },
          "metadata": {},
          "execution_count": 56
        },
        {
          "output_type": "display_data",
          "data": {
            "text/plain": [
              "<Figure size 1200x800 with 1 Axes>"
            ],
            "image/png": "[encoded data removed]"
          },
          "metadata": {}
        }
      ]
    },
    {
      "cell_type": "code",
      "metadata": {
        "id": "zommqjoVNg93"
      },
      "source": [
        "# model.save('/gdrive/MyDrive/Colab Notebooks/Tensorflow_in_practice/Mr_Kebou_Project/models/hourly_lstm_weights_epochs_23')"
      ],
      "execution_count": 57,
      "outputs": []
    },
    {
      "cell_type": "markdown",
      "metadata": {
        "id": "E4AANwD-Nee-"
      },
      "source": [
        "## Model Forecast And Prediction Section"
      ]
    },
    {
      "cell_type": "code",
      "metadata": {
        "id": "kK4u1dczj8jD"
      },
      "source": [
        "series = x_valid.values[:,:-1]\n",
        "y_valid = x_valid.values[:,-1]"
      ],
      "execution_count": 62,
      "outputs": []
    },
    {
      "cell_type": "code",
      "metadata": {
        "id": "8Fwjm-L7FXIm"
      },
      "source": [
        "def model_forecast(model, series, window_size):\n",
        "    ds = tf.data.Dataset.from_tensor_slices(series)\n",
        "    ds = ds.window(window_size + 1, shift=1, drop_remainder=True)\n",
        "    ds = ds.flat_map(lambda w: w.batch(window_size + 1))\n",
        "    ds = ds.batch(32).prefetch(1)\n",
        "    forecast = model.predict(ds)\n",
        "    return forecast"
      ],
      "execution_count": 59,
      "outputs": []
    },
    {
      "cell_type": "code",
      "metadata": {
        "colab": {
          "base_uri": "https://localhost:8080/"
        },
        "id": "qs2FXmQoh400",
        "outputId": "21e56ae5-4076-451e-8e7f-70db383167cb"
      },
      "source": [
        "model_forecast(model, series[0][np.newaxis,...], 0)[0][0]"
      ],
      "execution_count": 82,
      "outputs": [
        {
          "output_type": "stream",
          "name": "stdout",
          "text": [
            "1/1 [==============================] - 0s 38ms/step\n"
          ]
        },
        {
          "output_type": "execute_result",
          "data": {
            "text/plain": [
              "-19.559116"
            ]
          },
          "metadata": {},
          "execution_count": 82
        }
      ]
    },
    {
      "cell_type": "code",
      "metadata": {
        "id": "pjHskRt7XsUm",
        "colab": {
          "base_uri": "https://localhost:8080/"
        },
        "outputId": "ff1d528b-2121-4aa0-b0fe-3dcd55586cce"
      },
      "source": [
        "rnn_forecast = model_forecast(model, series, 0)\n",
        "rnn_forecast = rnn_forecast[:,0]"
      ],
      "execution_count": 89,
      "outputs": [
        {
          "output_type": "stream",
          "name": "stdout",
          "text": [
            "446/446 [==============================] - 3s 7ms/step\n"
          ]
        }
      ]
    },
    {
      "cell_type": "code",
      "metadata": {
        "colab": {
          "base_uri": "https://localhost:8080/",
          "height": 651
        },
        "id": "8lpy2wzvgUur",
        "outputId": "04c8343a-e07a-4176-fe65-147032ad95c7"
      },
      "source": [
        "fig,ax = plt.subplots(figsize=(10, 6))\n",
        "ax.set_title('Model Forecast VS Actual Forecast')\n",
        "ax.plot(time_valid[window_size:], y_valid[window_size:],label='Actual Forecast')\n",
        "ax.plot(time_valid[window_size:], rnn_forecast[window_size:],label='RNN Forecast')\n",
        "ax.set_xlabel('Data/Time')\n",
        "ax.set_ylabel('\tTemp (°C)')\n",
        "ax.legend()"
      ],
      "execution_count": 91,
      "outputs": [
        {
          "output_type": "execute_result",
          "data": {
            "text/plain": [
              "<matplotlib.legend.Legend at 0x7fa833db4730>"
            ]
          },
          "metadata": {},
          "execution_count": 91
        },
        {
          "output_type": "stream",
          "name": "stderr",
          "text": [
            "/usr/local/lib/python3.10/dist-packages/IPython/core/events.py:89: UserWarning: Glyph 9 (\t) missing from current font.\n",
            "  func(*args, **kwargs)\n",
            "/usr/local/lib/python3.10/dist-packages/IPython/core/pylabtools.py:151: UserWarning: Glyph 9 (\t) missing from current font.\n",
            "  fig.canvas.print_figure(bytes_io, **kw)\n"
          ]
        },
        {
          "output_type": "display_data",
          "data": {
            "text/plain": [
              "<Figure size 1000x600 with 1 Axes>"
            ],
            "image/png": "[encoded data removed]"
          },
          "metadata": {}
        }
      ]
    },
    {
      "cell_type": "markdown",
      "metadata": {
        "id": "u5v2TReyMoS_"
      },
      "source": [
        "## Looking at the prediction plot of the data above the RNN(LSTM) model performs well in forecasting future unseen temperature values, The actual future temperature value plot is in Blue while the RNN(LSTM) model Forecast Predictions is in orange"
      ]
    },
    {
      "cell_type": "code",
      "metadata": {
        "id": "qfgG1Wr7WazN"
      },
      "source": [
        "# plt.semilogx(history.history[\"lr\"], history.history[\"loss\"])\n",
        "# # plt.ylim(0,4)\n",
        "# # plt.axis([1e-10, 1e-4, 0, 30])"
      ],
      "execution_count": 95,
      "outputs": []
    },
    {
      "cell_type": "markdown",
      "metadata": {
        "id": "YYiDTySVNoXi"
      },
      "source": [
        "## Trying Out the Univariate approach to see if better forecast can be generated"
      ]
    },
    {
      "cell_type": "markdown",
      "metadata": {
        "id": "OiSZvS5aN1QH"
      },
      "source": [
        "### Using the temperature data only for model training"
      ]
    },
    {
      "cell_type": "code",
      "metadata": {
        "id": "1yF7-HFqDpUJ"
      },
      "source": [
        "split_time = sum(test.index.year == 2015) + sum(test.index.year == 2016) + sum(test.index.year == 2017)\n",
        "time_train = test.index[:split_time]\n",
        "x_train = test.iloc[:split_time]\n",
        "time_valid = test.index[split_time:]\n",
        "x_valid = test.iloc[split_time:]\n",
        "\n",
        "window_size =14\n",
        "batch_size = 32\n",
        "shuffle_buffer = 11"
      ],
      "execution_count": 96,
      "outputs": []
    },
    {
      "cell_type": "markdown",
      "metadata": {
        "id": "CZh4KDlXN8pM"
      },
      "source": [
        "#### Helper Function for preparing the data to a form acceptable by the model together with model building and training"
      ]
    },
    {
      "cell_type": "code",
      "metadata": {
        "colab": {
          "base_uri": "https://localhost:8080/"
        },
        "id": "UsYT5pUlWPGy",
        "outputId": "48f630f2-4acb-41d8-86ba-be60c8750be8"
      },
      "source": [
        "def window_dataset(series, window_size, batch_size, shuffle_buffer):\n",
        "  dataset = tf.data.Dataset.from_tensor_slices(series)\n",
        "  dataset = dataset.window(window_size + 1, shift=1, drop_remainder=True)\n",
        "  dataset = dataset.flat_map(lambda window: window.batch(window_size + 1))\n",
        "  dataset = dataset.shuffle(shuffle_buffer).map(lambda window: (window[:-1], window[-1]))\n",
        "  dataset = dataset.batch(batch_size).prefetch(1)\n",
        "  return dataset\n",
        "\n",
        "dataset = window_dataset(x_train, window_size, batch_size, shuffle_buffer)\n",
        "model = tf.keras.models.Sequential([\n",
        "  tf.keras.layers.Lambda(lambda x: tf.expand_dims(x, axis=-1),\n",
        "                    input_shape=[None]),\n",
        "  tf.keras.layers.Bidirectional(tf.keras.layers.LSTM(32,activation='relu', return_sequences=True)),\n",
        "  tf.keras.layers.Dropout(0.35),\n",
        "  tf.keras.layers.Bidirectional(tf.keras.layers.LSTM(32,activation='relu',return_sequences=True)),\n",
        "  tf.keras.layers.Bidirectional(tf.keras.layers.LSTM(16,activation='relu')),\n",
        "  tf.keras.layers.Dropout(0.2),\n",
        "  tf.keras.layers.Dense(8,activation='relu'),\n",
        "  tf.keras.layers.Dense(1)\n",
        "  # tf.keras.layers.Lambda(lambda x: x * 100.0)\n",
        "])\n",
        "\n",
        "# lr_schedule = tf.keras.callbacks.LearningRateScheduler(\n",
        "#     lambda epoch: 1e-8 * 10**(epoch / 20))\n",
        "optimizer = optimizer = tf.keras.optimizers.Adam(learning_rate=4e-4)\n",
        "model.compile(loss=tf.keras.losses.Huber(),\n",
        "              optimizer=optimizer,\n",
        "              metrics=[tf.keras.metrics.RootMeanSquaredError()])\n",
        "# Train model\n",
        "history = model.fit(dataset, epochs=100) #callbacks=[lr_schedule])"
      ],
      "execution_count": 97,
      "outputs": [
        {
          "output_type": "stream",
          "name": "stdout",
          "text": [
            "Epoch 1/100\n",
            "779/779 [==============================] - 27s 26ms/step - loss: 4.5065 - root_mean_squared_error: 8.3979\n",
            "Epoch 2/100\n",
            "779/779 [==============================] - 22s 28ms/step - loss: 2.3803 - root_mean_squared_error: 4.3534\n",
            "Epoch 3/100\n",
            "779/779 [==============================] - 20s 25ms/step - loss: 1.9383 - root_mean_squared_error: 3.6587\n",
            "Epoch 4/100\n",
            "779/779 [==============================] - 21s 27ms/step - loss: 1.6025 - root_mean_squared_error: 3.1708\n",
            "Epoch 5/100\n",
            "779/779 [==============================] - 20s 26ms/step - loss: 1.4557 - root_mean_squared_error: 2.9622\n",
            "Epoch 6/100\n",
            "779/779 [==============================] - 21s 27ms/step - loss: 1.6457 - root_mean_squared_error: 3.4559\n",
            "Epoch 7/100\n",
            "779/779 [==============================] - 21s 27ms/step - loss: 1.8585 - root_mean_squared_error: 3.9484\n",
            "Epoch 8/100\n",
            "779/779 [==============================] - 20s 26ms/step - loss: 1.8576 - root_mean_squared_error: 3.7003\n",
            "Epoch 9/100\n",
            "779/779 [==============================] - 21s 27ms/step - loss: 1.8077 - root_mean_squared_error: 3.5923\n",
            "Epoch 10/100\n",
            "779/779 [==============================] - 20s 26ms/step - loss: 1.6227 - root_mean_squared_error: 3.2579\n",
            "Epoch 11/100\n",
            "779/779 [==============================] - 21s 27ms/step - loss: 1.2436 - root_mean_squared_error: 2.5160\n",
            "Epoch 12/100\n",
            "779/779 [==============================] - 20s 26ms/step - loss: 1.1164 - root_mean_squared_error: 2.3333\n",
            "Epoch 13/100\n",
            "779/779 [==============================] - 21s 27ms/step - loss: 0.9749 - root_mean_squared_error: 2.1307\n",
            "Epoch 14/100\n",
            "779/779 [==============================] - 20s 26ms/step - loss: 0.9401 - root_mean_squared_error: 2.0646\n",
            "Epoch 15/100\n",
            "779/779 [==============================] - 21s 27ms/step - loss: 0.8678 - root_mean_squared_error: 1.9725\n",
            "Epoch 16/100\n",
            "779/779 [==============================] - 20s 26ms/step - loss: 0.8145 - root_mean_squared_error: 1.9364\n",
            "Epoch 17/100\n",
            "779/779 [==============================] - 21s 27ms/step - loss: 0.8250 - root_mean_squared_error: 2.0535\n",
            "Epoch 18/100\n",
            "779/779 [==============================] - 20s 26ms/step - loss: 0.7694 - root_mean_squared_error: 1.8483\n",
            "Epoch 19/100\n",
            "779/779 [==============================] - 21s 27ms/step - loss: 0.6534 - root_mean_squared_error: 1.6526\n",
            "Epoch 20/100\n",
            "779/779 [==============================] - 20s 26ms/step - loss: 0.5283 - root_mean_squared_error: 1.4523\n",
            "Epoch 21/100\n",
            "779/779 [==============================] - 21s 27ms/step - loss: 0.4774 - root_mean_squared_error: 1.4330\n",
            "Epoch 22/100\n",
            "779/779 [==============================] - 20s 26ms/step - loss: 0.3954 - root_mean_squared_error: 1.2756\n",
            "Epoch 23/100\n",
            "779/779 [==============================] - 21s 27ms/step - loss: 0.3742 - root_mean_squared_error: 1.2631\n",
            "Epoch 24/100\n",
            "779/779 [==============================] - 20s 26ms/step - loss: 0.3648 - root_mean_squared_error: 1.2317\n",
            "Epoch 25/100\n",
            "779/779 [==============================] - 21s 27ms/step - loss: 0.3357 - root_mean_squared_error: 1.1743\n",
            "Epoch 26/100\n",
            "779/779 [==============================] - 20s 26ms/step - loss: 0.3093 - root_mean_squared_error: 1.1795\n",
            "Epoch 27/100\n",
            "779/779 [==============================] - 21s 27ms/step - loss: 0.3032 - root_mean_squared_error: 1.1113\n",
            "Epoch 28/100\n",
            "779/779 [==============================] - 20s 26ms/step - loss: 0.2886 - root_mean_squared_error: 1.1231\n",
            "Epoch 29/100\n",
            "779/779 [==============================] - 21s 27ms/step - loss: 0.2726 - root_mean_squared_error: 1.0690\n",
            "Epoch 30/100\n",
            "779/779 [==============================] - 21s 26ms/step - loss: 0.2581 - root_mean_squared_error: 1.0808\n",
            "Epoch 31/100\n",
            "779/779 [==============================] - 21s 27ms/step - loss: 0.2317 - root_mean_squared_error: 0.9907\n",
            "Epoch 32/100\n",
            "779/779 [==============================] - 20s 26ms/step - loss: 0.2269 - root_mean_squared_error: 1.0353\n",
            "Epoch 33/100\n",
            "779/779 [==============================] - 21s 27ms/step - loss: 0.2209 - root_mean_squared_error: 1.0223\n",
            "Epoch 34/100\n",
            "779/779 [==============================] - 20s 26ms/step - loss: 0.2346 - root_mean_squared_error: 1.0410\n",
            "Epoch 35/100\n",
            "779/779 [==============================] - 21s 27ms/step - loss: 0.2113 - root_mean_squared_error: 0.9918\n",
            "Epoch 36/100\n",
            "779/779 [==============================] - 21s 27ms/step - loss: 0.2110 - root_mean_squared_error: 0.9587\n",
            "Epoch 37/100\n",
            "779/779 [==============================] - 20s 25ms/step - loss: 0.1962 - root_mean_squared_error: 0.9313\n",
            "Epoch 38/100\n",
            "779/779 [==============================] - 21s 27ms/step - loss: 0.1922 - root_mean_squared_error: 0.9363\n",
            "Epoch 39/100\n",
            "779/779 [==============================] - 20s 26ms/step - loss: 0.1884 - root_mean_squared_error: 0.9250\n",
            "Epoch 40/100\n",
            "779/779 [==============================] - 21s 27ms/step - loss: 0.1790 - root_mean_squared_error: 0.9599\n",
            "Epoch 41/100\n",
            "779/779 [==============================] - 21s 27ms/step - loss: 0.1880 - root_mean_squared_error: 0.9311\n",
            "Epoch 42/100\n",
            "779/779 [==============================] - 21s 27ms/step - loss: 0.1791 - root_mean_squared_error: 0.9394\n",
            "Epoch 43/100\n",
            "779/779 [==============================] - 20s 26ms/step - loss: 0.1703 - root_mean_squared_error: 0.8844\n",
            "Epoch 44/100\n",
            "779/779 [==============================] - 21s 27ms/step - loss: 0.1644 - root_mean_squared_error: 0.8691\n",
            "Epoch 45/100\n",
            "779/779 [==============================] - 21s 27ms/step - loss: 0.1614 - root_mean_squared_error: 0.8600\n",
            "Epoch 46/100\n",
            "779/779 [==============================] - 20s 26ms/step - loss: 0.1655 - root_mean_squared_error: 0.8672\n",
            "Epoch 47/100\n",
            "779/779 [==============================] - 21s 27ms/step - loss: 0.1597 - root_mean_squared_error: 0.8441\n",
            "Epoch 48/100\n",
            "779/779 [==============================] - 20s 26ms/step - loss: 0.1493 - root_mean_squared_error: 0.7970\n",
            "Epoch 49/100\n",
            "779/779 [==============================] - 21s 28ms/step - loss: 0.1524 - root_mean_squared_error: 0.8444\n",
            "Epoch 50/100\n",
            "779/779 [==============================] - 20s 25ms/step - loss: 0.1460 - root_mean_squared_error: 0.8258\n",
            "Epoch 51/100\n",
            "779/779 [==============================] - 21s 27ms/step - loss: 0.1497 - root_mean_squared_error: 0.8439\n",
            "Epoch 52/100\n",
            "779/779 [==============================] - 20s 25ms/step - loss: 0.1580 - root_mean_squared_error: 0.8889\n",
            "Epoch 53/100\n",
            "779/779 [==============================] - 21s 27ms/step - loss: 0.1389 - root_mean_squared_error: 0.8162\n",
            "Epoch 54/100\n",
            "779/779 [==============================] - 20s 26ms/step - loss: 0.1418 - root_mean_squared_error: 0.8141\n",
            "Epoch 55/100\n",
            "779/779 [==============================] - 22s 28ms/step - loss: 0.1414 - root_mean_squared_error: 0.8185\n",
            "Epoch 56/100\n",
            "779/779 [==============================] - 21s 27ms/step - loss: 0.1398 - root_mean_squared_error: 0.8527\n",
            "Epoch 57/100\n",
            "779/779 [==============================] - 20s 25ms/step - loss: 0.1331 - root_mean_squared_error: 0.7883\n",
            "Epoch 58/100\n",
            "779/779 [==============================] - 22s 28ms/step - loss: 0.1238 - root_mean_squared_error: 0.7416\n",
            "Epoch 59/100\n",
            "779/779 [==============================] - 20s 26ms/step - loss: 0.1410 - root_mean_squared_error: 0.8585\n",
            "Epoch 60/100\n",
            "779/779 [==============================] - 21s 27ms/step - loss: 0.1312 - root_mean_squared_error: 0.8053\n",
            "Epoch 61/100\n",
            "779/779 [==============================] - 21s 27ms/step - loss: 0.1296 - root_mean_squared_error: 0.7971\n",
            "Epoch 62/100\n",
            "779/779 [==============================] - 21s 26ms/step - loss: 0.1300 - root_mean_squared_error: 0.8224\n",
            "Epoch 63/100\n",
            "779/779 [==============================] - 21s 27ms/step - loss: 0.1296 - root_mean_squared_error: 0.7973\n",
            "Epoch 64/100\n",
            "779/779 [==============================] - 20s 26ms/step - loss: 0.1278 - root_mean_squared_error: 0.7979\n",
            "Epoch 65/100\n",
            "779/779 [==============================] - 21s 27ms/step - loss: 0.1227 - root_mean_squared_error: 0.7965\n",
            "Epoch 66/100\n",
            "779/779 [==============================] - 21s 27ms/step - loss: 0.1276 - root_mean_squared_error: 0.8108\n",
            "Epoch 67/100\n",
            "779/779 [==============================] - 21s 28ms/step - loss: 0.1163 - root_mean_squared_error: 0.7003\n",
            "Epoch 68/100\n",
            "779/779 [==============================] - 20s 26ms/step - loss: 0.1117 - root_mean_squared_error: 0.7170\n",
            "Epoch 69/100\n",
            "779/779 [==============================] - 21s 27ms/step - loss: 0.1187 - root_mean_squared_error: 0.7310\n",
            "Epoch 70/100\n",
            "779/779 [==============================] - 21s 28ms/step - loss: 0.1152 - root_mean_squared_error: 0.7026\n",
            "Epoch 71/100\n",
            "779/779 [==============================] - 20s 25ms/step - loss: 0.1102 - root_mean_squared_error: 0.6918\n",
            "Epoch 72/100\n",
            "779/779 [==============================] - 21s 27ms/step - loss: 0.1081 - root_mean_squared_error: 0.6909\n",
            "Epoch 73/100\n",
            "779/779 [==============================] - 20s 26ms/step - loss: 0.1086 - root_mean_squared_error: 0.6686\n",
            "Epoch 74/100\n",
            "779/779 [==============================] - 21s 27ms/step - loss: 0.1117 - root_mean_squared_error: 0.6657\n",
            "Epoch 75/100\n",
            "779/779 [==============================] - 20s 26ms/step - loss: 0.1052 - root_mean_squared_error: 0.6495\n",
            "Epoch 76/100\n",
            "779/779 [==============================] - 21s 27ms/step - loss: 0.0998 - root_mean_squared_error: 0.6004\n",
            "Epoch 77/100\n",
            "779/779 [==============================] - 21s 27ms/step - loss: 0.0960 - root_mean_squared_error: 0.6023\n",
            "Epoch 78/100\n",
            "779/779 [==============================] - 20s 26ms/step - loss: 0.1047 - root_mean_squared_error: 0.6417\n",
            "Epoch 79/100\n",
            "779/779 [==============================] - 21s 27ms/step - loss: 0.1036 - root_mean_squared_error: 0.6399\n",
            "Epoch 80/100\n",
            "779/779 [==============================] - 20s 26ms/step - loss: 0.1010 - root_mean_squared_error: 0.6089\n",
            "Epoch 81/100\n",
            "779/779 [==============================] - 21s 27ms/step - loss: 0.1047 - root_mean_squared_error: 0.6169\n",
            "Epoch 82/100\n",
            "779/779 [==============================] - 21s 27ms/step - loss: 0.0955 - root_mean_squared_error: 0.5747\n",
            "Epoch 83/100\n",
            "779/779 [==============================] - 21s 27ms/step - loss: 0.0939 - root_mean_squared_error: 0.5672\n",
            "Epoch 84/100\n",
            "779/779 [==============================] - 22s 28ms/step - loss: 0.0895 - root_mean_squared_error: 0.5695\n",
            "Epoch 85/100\n",
            "779/779 [==============================] - 20s 26ms/step - loss: 0.0956 - root_mean_squared_error: 0.5743\n",
            "Epoch 86/100\n",
            "779/779 [==============================] - 21s 28ms/step - loss: 0.0930 - root_mean_squared_error: 0.5793\n",
            "Epoch 87/100\n",
            "779/779 [==============================] - 21s 27ms/step - loss: 0.0928 - root_mean_squared_error: 0.5674\n",
            "Epoch 88/100\n",
            "779/779 [==============================] - 21s 27ms/step - loss: 0.0939 - root_mean_squared_error: 0.5583\n",
            "Epoch 89/100\n",
            "779/779 [==============================] - 21s 26ms/step - loss: 0.0954 - root_mean_squared_error: 0.5829\n",
            "Epoch 90/100\n",
            "779/779 [==============================] - 20s 26ms/step - loss: 0.0954 - root_mean_squared_error: 0.5697\n",
            "Epoch 91/100\n",
            "779/779 [==============================] - 21s 27ms/step - loss: 0.0862 - root_mean_squared_error: 0.5432\n",
            "Epoch 92/100\n",
            "779/779 [==============================] - 20s 26ms/step - loss: 0.0965 - root_mean_squared_error: 0.5507\n",
            "Epoch 93/100\n",
            "779/779 [==============================] - 21s 27ms/step - loss: 0.0850 - root_mean_squared_error: 0.5321\n",
            "Epoch 94/100\n",
            "779/779 [==============================] - 21s 27ms/step - loss: 0.0910 - root_mean_squared_error: 0.5517\n",
            "Epoch 95/100\n",
            "779/779 [==============================] - 21s 27ms/step - loss: 0.0737 - root_mean_squared_error: 0.4977\n",
            "Epoch 96/100\n",
            "779/779 [==============================] - 20s 26ms/step - loss: 0.0932 - root_mean_squared_error: 0.5475\n",
            "Epoch 97/100\n",
            "779/779 [==============================] - 21s 27ms/step - loss: 0.0809 - root_mean_squared_error: 0.5157\n",
            "Epoch 98/100\n",
            "779/779 [==============================] - 21s 27ms/step - loss: 0.0870 - root_mean_squared_error: 0.5237\n",
            "Epoch 99/100\n",
            "779/779 [==============================] - 20s 26ms/step - loss: 0.0800 - root_mean_squared_error: 0.5070\n",
            "Epoch 100/100\n",
            "779/779 [==============================] - 21s 28ms/step - loss: 0.0784 - root_mean_squared_error: 0.5015\n"
          ]
        }
      ]
    },
    {
      "cell_type": "markdown",
      "metadata": {
        "id": "Xddk4Q67Ogp_"
      },
      "source": [
        "### Model Evaluation"
      ]
    },
    {
      "cell_type": "code",
      "metadata": {
        "colab": {
          "base_uri": "https://localhost:8080/",
          "height": 693
        },
        "id": "eS672AhKMSm4",
        "outputId": "140a713e-6753-4ab4-b238-391692445109"
      },
      "source": [
        "epochs =  range(100)\n",
        "plt.figure(figsize=(12,8))\n",
        "plt.plot(epochs, history.history[\"root_mean_squared_error\"],color='r')"
      ],
      "execution_count": 98,
      "outputs": [
        {
          "output_type": "execute_result",
          "data": {
            "text/plain": [
              "[<matplotlib.lines.Line2D at 0x7fa82f9dace0>]"
            ]
          },
          "metadata": {},
          "execution_count": 98
        },
        {
          "output_type": "display_data",
          "data": {
            "text/plain": [
              "<Figure size 1200x800 with 1 Axes>"
            ],
            "image/png": "[encoded data removed]"
          },
          "metadata": {}
        }
      ]
    },
    {
      "cell_type": "markdown",
      "metadata": {
        "id": "ZOohKJjFOqWs"
      },
      "source": [
        "### Forecast and Prediction"
      ]
    },
    {
      "cell_type": "code",
      "metadata": {
        "id": "eKPR3MDGTe5d"
      },
      "source": [
        "def model_forecast(model, series, window_size):\n",
        "    ds = tf.data.Dataset.from_tensor_slices(series)\n",
        "    ds = ds.window(window_size + 1, shift=1, drop_remainder=True)\n",
        "    ds = ds.flat_map(lambda w: w.batch(window_size + 1))\n",
        "    ds = ds.batch(32).prefetch(1)\n",
        "    forecast = model.predict(ds)\n",
        "    return forecast"
      ],
      "execution_count": 99,
      "outputs": []
    },
    {
      "cell_type": "code",
      "metadata": {
        "id": "M10B1UfwTetd",
        "colab": {
          "base_uri": "https://localhost:8080/"
        },
        "outputId": "83a0eade-1840-466d-b320-2f68fe4cb6e2"
      },
      "source": [
        "rnn_forecast = model_forecast(model, x_valid.values[..., np.newaxis], window_size)\n",
        "rnn_forecast = rnn_forecast[:,0]"
      ],
      "execution_count": 100,
      "outputs": [
        {
          "output_type": "stream",
          "name": "stdout",
          "text": [
            "445/445 [==============================] - 4s 8ms/step\n"
          ]
        }
      ]
    },
    {
      "cell_type": "code",
      "metadata": {
        "colab": {
          "base_uri": "https://localhost:8080/",
          "height": 651
        },
        "id": "A-UWOAalMSL7",
        "outputId": "a905631a-1872-48c8-e558-bd704a6354bc"
      },
      "source": [
        "fig,ax = plt.subplots(figsize=(10, 6))\n",
        "ax.set_title('Model Forecast VS Actual Forecast')\n",
        "ax.plot(time_valid[window_size:], x_valid.values[window_size:],label='Actual Forecast')\n",
        "ax.plot(time_valid[window_size:], rnn_forecast,label='RNN Forecast')\n",
        "ax.set_xlabel('Data/Time')\n",
        "ax.set_ylabel('\tTemp (°C)')\n",
        "ax.legend()"
      ],
      "execution_count": 104,
      "outputs": [
        {
          "output_type": "execute_result",
          "data": {
            "text/plain": [
              "<matplotlib.legend.Legend at 0x7fa82fb7e5f0>"
            ]
          },
          "metadata": {},
          "execution_count": 104
        },
        {
          "output_type": "stream",
          "name": "stderr",
          "text": [
            "/usr/local/lib/python3.10/dist-packages/IPython/core/events.py:89: UserWarning: Glyph 9 (\t) missing from current font.\n",
            "  func(*args, **kwargs)\n",
            "/usr/local/lib/python3.10/dist-packages/IPython/core/pylabtools.py:151: UserWarning: Glyph 9 (\t) missing from current font.\n",
            "  fig.canvas.print_figure(bytes_io, **kw)\n"
          ]
        },
        {
          "output_type": "display_data",
          "data": {
            "text/plain": [
              "<Figure size 1000x600 with 1 Axes>"
            ],
            "image/png": "[encoded data removed]"
          },
          "metadata": {}
        }
      ]
    },
    {
      "cell_type": "markdown",
      "metadata": {
        "id": "x0cO-xO-Oyeu"
      },
      "source": [
        "#### Looking at the plot, it is clear that the Temperature alone is sufficient to forecast future temperature as the data is auto-correlated and the model can generate patterns from it,however the Predictions are not as optimal as that of the multi-variate approach"
      ]
    }
  ]
}