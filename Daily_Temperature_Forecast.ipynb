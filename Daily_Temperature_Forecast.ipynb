{
  "nbformat": 4,
  "nbformat_minor": 0,
  "metadata": {
    "accelerator": "TPU",
    "colab": {
      "name": "Daily_Temperature_Forecast.ipynb",
      "provenance": [],
      "collapsed_sections": [],
      "include_colab_link": true
    },
    "kernelspec": {
      "display_name": "Python 3",
      "name": "python3"
    },
    "language_info": {
      "name": "python"
    }
  },
  "cells": [
    {
      "cell_type": "markdown",
      "metadata": {
        "id": "view-in-github",
        "colab_type": "text"
      },
      "source": [
        "<a href=\"https://colab.research.google.com/github/BetikuOluwatobi/Daily-Tempearature-Forecast-Using-Recurrent-Neural-Networks/blob/main/Daily_Temperature_Forecast.ipynb\" target=\"_parent\"><img src=\"https://colab.research.google.com/assets/colab-badge.svg\" alt=\"Open In Colab\"/></a>"
      ]
    },
    {
      "cell_type": "code",
      "metadata": {
        "id": "oyxUU1ywUJFt"
      },
      "source": [
        "import matplotlib.pyplot as plt\n",
        "import pandas as pd\n",
        "import numpy as np\n",
        "import tensorflow as tf\n",
        "import os"
      ],
      "execution_count": null,
      "outputs": []
    },
    {
      "cell_type": "code",
      "metadata": {
        "id": "ElQdtVufUhS_"
      },
      "source": [
        "from google.colab import drive\n",
        "drive.mount('/gdrive')"
      ],
      "execution_count": null,
      "outputs": []
    },
    {
      "cell_type": "code",
      "metadata": {
        "colab": {
          "background_save": true
        },
        "id": "bzBBH7vFUlf2"
      },
      "source": [
        "tf.keras.backend.clear_session()\n",
        "tf.random.set_seed(51)\n",
        "np.random.seed(51)"
      ],
      "execution_count": null,
      "outputs": []
    },
    {
      "cell_type": "markdown",
      "metadata": {
        "id": "kfhFsD5OUB6P"
      },
      "source": [
        "## Mounting Drive"
      ]
    },
    {
      "cell_type": "code",
      "metadata": {
        "id": "HCC9RuFtuU97"
      },
      "source": [
        "data_names = os.listdir('/gdrive/MyDrive/Colab Notebooks/Tensorflow_in_practice/Mr_Kebou_Project/raw-data')"
      ],
      "execution_count": null,
      "outputs": []
    },
    {
      "cell_type": "markdown",
      "metadata": {
        "id": "_lfVSLrCTzCU"
      },
      "source": [
        "## Helper Function built from loading the data from drive storage after the drive has been mounted on google colab"
      ]
    },
    {
      "cell_type": "code",
      "metadata": {
        "id": "xOvTfvrBtg2o"
      },
      "source": [
        "import csv\n",
        "path = '/gdrive/MyDrive/Colab Notebooks/Tensorflow_in_practice/Mr_Kebou_Project/raw-data/'\n",
        "def load_datas(dir=path,data_names = data_names):\n",
        "  for i, name in enumerate(data_names):\n",
        "    if i > 0:\n",
        "      the_file = open(path+name, 'r')\n",
        "      reader = csv.reader(the_file)\n",
        "      data = []\n",
        "      for i, row in enumerate(reader):\n",
        "          if i >= 15:\n",
        "            data.append(row)\n",
        "      df_new = pd.DataFrame(data[1:],columns=data[0])\n",
        "      df = pd.concat([df,df_new],axis=0,ignore_index=True)\n",
        "    else:\n",
        "      the_file = open(path+name, 'r')\n",
        "      reader = csv.reader(the_file)\n",
        "      data = []\n",
        "      for i, row in enumerate(reader):\n",
        "          if i >= 15:\n",
        "            data.append(row)\n",
        "      df = pd.DataFrame(data[1:],columns=data[0])\n",
        "    df = df\n",
        "  return df\n"
      ],
      "execution_count": null,
      "outputs": []
    },
    {
      "cell_type": "code",
      "metadata": {
        "colab": {
          "background_save": true
        },
        "id": "j-Xe_azc92Kn"
      },
      "source": [
        "df = load_datas()"
      ],
      "execution_count": null,
      "outputs": []
    },
    {
      "cell_type": "code",
      "metadata": {
        "colab": {
          "background_save": true,
          "base_uri": "https://localhost:8080/",
          "height": 660
        },
        "id": "K5nCAx7KULLj",
        "outputId": "f4e1ab0e-3bc6-4c80-85cb-6ecfbf606203"
      },
      "source": [
        "df"
      ],
      "execution_count": null,
      "outputs": [
        {
          "data": {
            "text/html": [
              "<div>\n",
              "<style scoped>\n",
              "    .dataframe tbody tr th:only-of-type {\n",
              "        vertical-align: middle;\n",
              "    }\n",
              "\n",
              "    .dataframe tbody tr th {\n",
              "        vertical-align: top;\n",
              "    }\n",
              "\n",
              "    .dataframe thead th {\n",
              "        text-align: right;\n",
              "    }\n",
              "</style>\n",
              "<table border=\"1\" class=\"dataframe\">\n",
              "  <thead>\n",
              "    <tr style=\"text-align: right;\">\n",
              "      <th></th>\n",
              "      <th>Date/Time</th>\n",
              "      <th>Year</th>\n",
              "      <th>Month</th>\n",
              "      <th>Day</th>\n",
              "      <th>Time</th>\n",
              "      <th>Temp (°C)</th>\n",
              "      <th>Temp Flag</th>\n",
              "      <th>Dew Point Temp (°C)</th>\n",
              "      <th>Dew Point Temp Flag</th>\n",
              "      <th>Rel Hum (%)</th>\n",
              "      <th>Rel Hum Flag</th>\n",
              "      <th>Wind Dir (10s deg)</th>\n",
              "      <th>Wind Dir Flag</th>\n",
              "      <th>Wind Spd (km/h)</th>\n",
              "      <th>Wind Spd Flag</th>\n",
              "      <th>Visibility (km)</th>\n",
              "      <th>Visibility Flag</th>\n",
              "      <th>Stn Press (kPa)</th>\n",
              "      <th>Stn Press Flag</th>\n",
              "      <th>Hmdx</th>\n",
              "      <th>Hmdx Flag</th>\n",
              "      <th>Wind Chill</th>\n",
              "      <th>Wind Chill Flag</th>\n",
              "      <th>Weather</th>\n",
              "    </tr>\n",
              "  </thead>\n",
              "  <tbody>\n",
              "    <tr>\n",
              "      <th>0</th>\n",
              "      <td>2016-06-01 00:00</td>\n",
              "      <td>2016</td>\n",
              "      <td>06</td>\n",
              "      <td>01</td>\n",
              "      <td>00:00</td>\n",
              "      <td>12.0</td>\n",
              "      <td></td>\n",
              "      <td>5.2</td>\n",
              "      <td></td>\n",
              "      <td>63</td>\n",
              "      <td></td>\n",
              "      <td>1</td>\n",
              "      <td></td>\n",
              "      <td>14</td>\n",
              "      <td></td>\n",
              "      <td></td>\n",
              "      <td></td>\n",
              "      <td>100.87</td>\n",
              "      <td></td>\n",
              "      <td></td>\n",
              "      <td></td>\n",
              "      <td></td>\n",
              "      <td></td>\n",
              "      <td>NA</td>\n",
              "    </tr>\n",
              "    <tr>\n",
              "      <th>1</th>\n",
              "      <td>2016-06-01 01:00</td>\n",
              "      <td>2016</td>\n",
              "      <td>06</td>\n",
              "      <td>01</td>\n",
              "      <td>01:00</td>\n",
              "      <td>11.5</td>\n",
              "      <td></td>\n",
              "      <td>5.4</td>\n",
              "      <td></td>\n",
              "      <td>66</td>\n",
              "      <td></td>\n",
              "      <td>1</td>\n",
              "      <td></td>\n",
              "      <td>13</td>\n",
              "      <td></td>\n",
              "      <td></td>\n",
              "      <td></td>\n",
              "      <td>100.88</td>\n",
              "      <td></td>\n",
              "      <td></td>\n",
              "      <td></td>\n",
              "      <td></td>\n",
              "      <td></td>\n",
              "      <td>NA</td>\n",
              "    </tr>\n",
              "    <tr>\n",
              "      <th>2</th>\n",
              "      <td>2016-06-01 02:00</td>\n",
              "      <td>2016</td>\n",
              "      <td>06</td>\n",
              "      <td>01</td>\n",
              "      <td>02:00</td>\n",
              "      <td>10.6</td>\n",
              "      <td></td>\n",
              "      <td>5.7</td>\n",
              "      <td></td>\n",
              "      <td>72</td>\n",
              "      <td></td>\n",
              "      <td>1</td>\n",
              "      <td></td>\n",
              "      <td>11</td>\n",
              "      <td></td>\n",
              "      <td></td>\n",
              "      <td></td>\n",
              "      <td>100.88</td>\n",
              "      <td></td>\n",
              "      <td></td>\n",
              "      <td></td>\n",
              "      <td></td>\n",
              "      <td></td>\n",
              "      <td>NA</td>\n",
              "    </tr>\n",
              "    <tr>\n",
              "      <th>3</th>\n",
              "      <td>2016-06-01 03:00</td>\n",
              "      <td>2016</td>\n",
              "      <td>06</td>\n",
              "      <td>01</td>\n",
              "      <td>03:00</td>\n",
              "      <td>10.2</td>\n",
              "      <td></td>\n",
              "      <td>6.1</td>\n",
              "      <td></td>\n",
              "      <td>76</td>\n",
              "      <td></td>\n",
              "      <td>36</td>\n",
              "      <td></td>\n",
              "      <td>12</td>\n",
              "      <td></td>\n",
              "      <td></td>\n",
              "      <td></td>\n",
              "      <td>100.86</td>\n",
              "      <td></td>\n",
              "      <td></td>\n",
              "      <td></td>\n",
              "      <td></td>\n",
              "      <td></td>\n",
              "      <td>NA</td>\n",
              "    </tr>\n",
              "    <tr>\n",
              "      <th>4</th>\n",
              "      <td>2016-06-01 04:00</td>\n",
              "      <td>2016</td>\n",
              "      <td>06</td>\n",
              "      <td>01</td>\n",
              "      <td>04:00</td>\n",
              "      <td>8.3</td>\n",
              "      <td></td>\n",
              "      <td>5.8</td>\n",
              "      <td></td>\n",
              "      <td>84</td>\n",
              "      <td></td>\n",
              "      <td>36</td>\n",
              "      <td></td>\n",
              "      <td>10</td>\n",
              "      <td></td>\n",
              "      <td></td>\n",
              "      <td></td>\n",
              "      <td>100.92</td>\n",
              "      <td></td>\n",
              "      <td></td>\n",
              "      <td></td>\n",
              "      <td></td>\n",
              "      <td></td>\n",
              "      <td>NA</td>\n",
              "    </tr>\n",
              "    <tr>\n",
              "      <th>...</th>\n",
              "      <td>...</td>\n",
              "      <td>...</td>\n",
              "      <td>...</td>\n",
              "      <td>...</td>\n",
              "      <td>...</td>\n",
              "      <td>...</td>\n",
              "      <td>...</td>\n",
              "      <td>...</td>\n",
              "      <td>...</td>\n",
              "      <td>...</td>\n",
              "      <td>...</td>\n",
              "      <td>...</td>\n",
              "      <td>...</td>\n",
              "      <td>...</td>\n",
              "      <td>...</td>\n",
              "      <td>...</td>\n",
              "      <td>...</td>\n",
              "      <td>...</td>\n",
              "      <td>...</td>\n",
              "      <td>...</td>\n",
              "      <td>...</td>\n",
              "      <td>...</td>\n",
              "      <td>...</td>\n",
              "      <td>...</td>\n",
              "    </tr>\n",
              "    <tr>\n",
              "      <th>40908</th>\n",
              "      <td>2017-09-30 19:00</td>\n",
              "      <td>2017</td>\n",
              "      <td>09</td>\n",
              "      <td>30</td>\n",
              "      <td>19:00</td>\n",
              "      <td>9.3</td>\n",
              "      <td></td>\n",
              "      <td>4.0</td>\n",
              "      <td></td>\n",
              "      <td>70</td>\n",
              "      <td></td>\n",
              "      <td>2</td>\n",
              "      <td></td>\n",
              "      <td>1</td>\n",
              "      <td></td>\n",
              "      <td></td>\n",
              "      <td></td>\n",
              "      <td>101.73</td>\n",
              "      <td></td>\n",
              "      <td></td>\n",
              "      <td></td>\n",
              "      <td></td>\n",
              "      <td></td>\n",
              "      <td>NA</td>\n",
              "    </tr>\n",
              "    <tr>\n",
              "      <th>40909</th>\n",
              "      <td>2017-09-30 20:00</td>\n",
              "      <td>2017</td>\n",
              "      <td>09</td>\n",
              "      <td>30</td>\n",
              "      <td>20:00</td>\n",
              "      <td>7.7</td>\n",
              "      <td></td>\n",
              "      <td>5.7</td>\n",
              "      <td></td>\n",
              "      <td>87</td>\n",
              "      <td></td>\n",
              "      <td>35</td>\n",
              "      <td></td>\n",
              "      <td>5</td>\n",
              "      <td></td>\n",
              "      <td></td>\n",
              "      <td></td>\n",
              "      <td>101.77</td>\n",
              "      <td></td>\n",
              "      <td></td>\n",
              "      <td></td>\n",
              "      <td></td>\n",
              "      <td></td>\n",
              "      <td>NA</td>\n",
              "    </tr>\n",
              "    <tr>\n",
              "      <th>40910</th>\n",
              "      <td>2017-09-30 21:00</td>\n",
              "      <td>2017</td>\n",
              "      <td>09</td>\n",
              "      <td>30</td>\n",
              "      <td>21:00</td>\n",
              "      <td>6.4</td>\n",
              "      <td></td>\n",
              "      <td>5.4</td>\n",
              "      <td></td>\n",
              "      <td>93</td>\n",
              "      <td></td>\n",
              "      <td>34</td>\n",
              "      <td></td>\n",
              "      <td>4</td>\n",
              "      <td></td>\n",
              "      <td></td>\n",
              "      <td></td>\n",
              "      <td>101.77</td>\n",
              "      <td></td>\n",
              "      <td></td>\n",
              "      <td></td>\n",
              "      <td></td>\n",
              "      <td></td>\n",
              "      <td>NA</td>\n",
              "    </tr>\n",
              "    <tr>\n",
              "      <th>40911</th>\n",
              "      <td>2017-09-30 22:00</td>\n",
              "      <td>2017</td>\n",
              "      <td>09</td>\n",
              "      <td>30</td>\n",
              "      <td>22:00</td>\n",
              "      <td>4.2</td>\n",
              "      <td></td>\n",
              "      <td>3.4</td>\n",
              "      <td></td>\n",
              "      <td>95</td>\n",
              "      <td></td>\n",
              "      <td>34</td>\n",
              "      <td></td>\n",
              "      <td>10</td>\n",
              "      <td></td>\n",
              "      <td></td>\n",
              "      <td></td>\n",
              "      <td>101.78</td>\n",
              "      <td></td>\n",
              "      <td></td>\n",
              "      <td></td>\n",
              "      <td></td>\n",
              "      <td></td>\n",
              "      <td>NA</td>\n",
              "    </tr>\n",
              "    <tr>\n",
              "      <th>40912</th>\n",
              "      <td>2017-09-30 23:00</td>\n",
              "      <td>2017</td>\n",
              "      <td>09</td>\n",
              "      <td>30</td>\n",
              "      <td>23:00</td>\n",
              "      <td>4.0</td>\n",
              "      <td></td>\n",
              "      <td>3.4</td>\n",
              "      <td></td>\n",
              "      <td>96</td>\n",
              "      <td></td>\n",
              "      <td>34</td>\n",
              "      <td></td>\n",
              "      <td>9</td>\n",
              "      <td></td>\n",
              "      <td></td>\n",
              "      <td></td>\n",
              "      <td>101.76</td>\n",
              "      <td></td>\n",
              "      <td></td>\n",
              "      <td></td>\n",
              "      <td></td>\n",
              "      <td></td>\n",
              "      <td>NA</td>\n",
              "    </tr>\n",
              "  </tbody>\n",
              "</table>\n",
              "<p>40913 rows × 24 columns</p>\n",
              "</div>"
            ],
            "text/plain": [
              "              Date/Time  Year Month  ... Wind Chill Wind Chill Flag Weather\n",
              "0      2016-06-01 00:00  2016    06  ...                                 NA\n",
              "1      2016-06-01 01:00  2016    06  ...                                 NA\n",
              "2      2016-06-01 02:00  2016    06  ...                                 NA\n",
              "3      2016-06-01 03:00  2016    06  ...                                 NA\n",
              "4      2016-06-01 04:00  2016    06  ...                                 NA\n",
              "...                 ...   ...   ...  ...        ...             ...     ...\n",
              "40908  2017-09-30 19:00  2017    09  ...                                 NA\n",
              "40909  2017-09-30 20:00  2017    09  ...                                 NA\n",
              "40910  2017-09-30 21:00  2017    09  ...                                 NA\n",
              "40911  2017-09-30 22:00  2017    09  ...                                 NA\n",
              "40912  2017-09-30 23:00  2017    09  ...                                 NA\n",
              "\n",
              "[40913 rows x 24 columns]"
            ]
          },
          "execution_count": null,
          "metadata": {},
          "output_type": "execute_result"
        }
      ]
    },
    {
      "cell_type": "markdown",
      "metadata": {
        "id": "fePiafxQTUsQ"
      },
      "source": [
        "## Converting the date/time column to python datatime data type"
      ]
    },
    {
      "cell_type": "code",
      "metadata": {
        "colab": {
          "background_save": true
        },
        "id": "KTk4yXTk-gmK"
      },
      "source": [
        "df['Date/Time'] = pd.to_datetime(df['Date/Time'])"
      ],
      "execution_count": null,
      "outputs": []
    },
    {
      "cell_type": "markdown",
      "metadata": {
        "id": "DwtaCq4KTekd"
      },
      "source": [
        "### Sorting rows by the Date/Time column"
      ]
    },
    {
      "cell_type": "code",
      "metadata": {
        "colab": {
          "background_save": true
        },
        "id": "05_5qU8GAwoI"
      },
      "source": [
        "df = df.sort_values(by='Date/Time',ignore_index=True)"
      ],
      "execution_count": null,
      "outputs": []
    },
    {
      "cell_type": "code",
      "metadata": {
        "colab": {
          "background_save": true,
          "base_uri": "https://localhost:8080/",
          "height": 419
        },
        "id": "DOlhs2yoNalw",
        "outputId": "2935ccae-62d3-4aca-fdf1-eadf8c9b0d4c"
      },
      "source": [
        "pd.concat([df['Date/Time'],pd.Series(df['Temp (°C)'].values,name='Temp')],axis=1)"
      ],
      "execution_count": null,
      "outputs": [
        {
          "data": {
            "text/html": [
              "<div>\n",
              "<style scoped>\n",
              "    .dataframe tbody tr th:only-of-type {\n",
              "        vertical-align: middle;\n",
              "    }\n",
              "\n",
              "    .dataframe tbody tr th {\n",
              "        vertical-align: top;\n",
              "    }\n",
              "\n",
              "    .dataframe thead th {\n",
              "        text-align: right;\n",
              "    }\n",
              "</style>\n",
              "<table border=\"1\" class=\"dataframe\">\n",
              "  <thead>\n",
              "    <tr style=\"text-align: right;\">\n",
              "      <th></th>\n",
              "      <th>Date/Time</th>\n",
              "      <th>Temp</th>\n",
              "    </tr>\n",
              "  </thead>\n",
              "  <tbody>\n",
              "    <tr>\n",
              "      <th>0</th>\n",
              "      <td>2015-01-01 00:00:00</td>\n",
              "      <td>-5.9</td>\n",
              "    </tr>\n",
              "    <tr>\n",
              "      <th>1</th>\n",
              "      <td>2015-01-01 01:00:00</td>\n",
              "      <td>-5.9</td>\n",
              "    </tr>\n",
              "    <tr>\n",
              "      <th>2</th>\n",
              "      <td>2015-01-01 02:00:00</td>\n",
              "      <td>-6.1</td>\n",
              "    </tr>\n",
              "    <tr>\n",
              "      <th>3</th>\n",
              "      <td>2015-01-01 03:00:00</td>\n",
              "      <td>-5.8</td>\n",
              "    </tr>\n",
              "    <tr>\n",
              "      <th>4</th>\n",
              "      <td>2015-01-01 04:00:00</td>\n",
              "      <td>-5.7</td>\n",
              "    </tr>\n",
              "    <tr>\n",
              "      <th>...</th>\n",
              "      <td>...</td>\n",
              "      <td>...</td>\n",
              "    </tr>\n",
              "    <tr>\n",
              "      <th>40908</th>\n",
              "      <td>NaT</td>\n",
              "      <td>NaN</td>\n",
              "    </tr>\n",
              "    <tr>\n",
              "      <th>40909</th>\n",
              "      <td>NaT</td>\n",
              "      <td>NaN</td>\n",
              "    </tr>\n",
              "    <tr>\n",
              "      <th>40910</th>\n",
              "      <td>NaT</td>\n",
              "      <td>NaN</td>\n",
              "    </tr>\n",
              "    <tr>\n",
              "      <th>40911</th>\n",
              "      <td>NaT</td>\n",
              "      <td>NaN</td>\n",
              "    </tr>\n",
              "    <tr>\n",
              "      <th>40912</th>\n",
              "      <td>NaT</td>\n",
              "      <td>NaN</td>\n",
              "    </tr>\n",
              "  </tbody>\n",
              "</table>\n",
              "<p>40913 rows × 2 columns</p>\n",
              "</div>"
            ],
            "text/plain": [
              "                Date/Time  Temp\n",
              "0     2015-01-01 00:00:00  -5.9\n",
              "1     2015-01-01 01:00:00  -5.9\n",
              "2     2015-01-01 02:00:00  -6.1\n",
              "3     2015-01-01 03:00:00  -5.8\n",
              "4     2015-01-01 04:00:00  -5.7\n",
              "...                   ...   ...\n",
              "40908                 NaT   NaN\n",
              "40909                 NaT   NaN\n",
              "40910                 NaT   NaN\n",
              "40911                 NaT   NaN\n",
              "40912                 NaT   NaN\n",
              "\n",
              "[40913 rows x 2 columns]"
            ]
          },
          "execution_count": null,
          "metadata": {},
          "output_type": "execute_result"
        }
      ]
    },
    {
      "cell_type": "code",
      "metadata": {
        "colab": {
          "background_save": true,
          "base_uri": "https://localhost:8080/",
          "height": 660
        },
        "id": "IR5OJKZIUxn4",
        "outputId": "3ecf742a-080c-4700-d0d4-f80aa0d80b99"
      },
      "source": [
        "df"
      ],
      "execution_count": null,
      "outputs": [
        {
          "data": {
            "text/html": [
              "<div>\n",
              "<style scoped>\n",
              "    .dataframe tbody tr th:only-of-type {\n",
              "        vertical-align: middle;\n",
              "    }\n",
              "\n",
              "    .dataframe tbody tr th {\n",
              "        vertical-align: top;\n",
              "    }\n",
              "\n",
              "    .dataframe thead th {\n",
              "        text-align: right;\n",
              "    }\n",
              "</style>\n",
              "<table border=\"1\" class=\"dataframe\">\n",
              "  <thead>\n",
              "    <tr style=\"text-align: right;\">\n",
              "      <th></th>\n",
              "      <th>Date/Time</th>\n",
              "      <th>Year</th>\n",
              "      <th>Month</th>\n",
              "      <th>Day</th>\n",
              "      <th>Time</th>\n",
              "      <th>Temp (°C)</th>\n",
              "      <th>Temp Flag</th>\n",
              "      <th>Dew Point Temp (°C)</th>\n",
              "      <th>Dew Point Temp Flag</th>\n",
              "      <th>Rel Hum (%)</th>\n",
              "      <th>Rel Hum Flag</th>\n",
              "      <th>Wind Dir (10s deg)</th>\n",
              "      <th>Wind Dir Flag</th>\n",
              "      <th>Wind Spd (km/h)</th>\n",
              "      <th>Wind Spd Flag</th>\n",
              "      <th>Visibility (km)</th>\n",
              "      <th>Visibility Flag</th>\n",
              "      <th>Stn Press (kPa)</th>\n",
              "      <th>Stn Press Flag</th>\n",
              "      <th>Hmdx</th>\n",
              "      <th>Hmdx Flag</th>\n",
              "      <th>Wind Chill</th>\n",
              "      <th>Wind Chill Flag</th>\n",
              "      <th>Weather</th>\n",
              "    </tr>\n",
              "  </thead>\n",
              "  <tbody>\n",
              "    <tr>\n",
              "      <th>0</th>\n",
              "      <td>2015-01-01 00:00:00</td>\n",
              "      <td>2015</td>\n",
              "      <td>01</td>\n",
              "      <td>01</td>\n",
              "      <td>00:00</td>\n",
              "      <td>-5.9</td>\n",
              "      <td></td>\n",
              "      <td>-11.8</td>\n",
              "      <td></td>\n",
              "      <td>63</td>\n",
              "      <td></td>\n",
              "      <td>26</td>\n",
              "      <td></td>\n",
              "      <td>28</td>\n",
              "      <td></td>\n",
              "      <td></td>\n",
              "      <td></td>\n",
              "      <td>100.21</td>\n",
              "      <td></td>\n",
              "      <td></td>\n",
              "      <td></td>\n",
              "      <td>-14</td>\n",
              "      <td></td>\n",
              "      <td>NA</td>\n",
              "    </tr>\n",
              "    <tr>\n",
              "      <th>1</th>\n",
              "      <td>2015-01-01 01:00:00</td>\n",
              "      <td>2015</td>\n",
              "      <td>01</td>\n",
              "      <td>01</td>\n",
              "      <td>01:00</td>\n",
              "      <td>-5.9</td>\n",
              "      <td></td>\n",
              "      <td>-13.6</td>\n",
              "      <td></td>\n",
              "      <td>54</td>\n",
              "      <td></td>\n",
              "      <td>26</td>\n",
              "      <td></td>\n",
              "      <td>21</td>\n",
              "      <td></td>\n",
              "      <td></td>\n",
              "      <td></td>\n",
              "      <td>100.19</td>\n",
              "      <td></td>\n",
              "      <td></td>\n",
              "      <td></td>\n",
              "      <td>-13</td>\n",
              "      <td></td>\n",
              "      <td>NA</td>\n",
              "    </tr>\n",
              "    <tr>\n",
              "      <th>2</th>\n",
              "      <td>2015-01-01 02:00:00</td>\n",
              "      <td>2015</td>\n",
              "      <td>01</td>\n",
              "      <td>01</td>\n",
              "      <td>02:00</td>\n",
              "      <td>-6.1</td>\n",
              "      <td></td>\n",
              "      <td>-14.2</td>\n",
              "      <td></td>\n",
              "      <td>53</td>\n",
              "      <td></td>\n",
              "      <td>26</td>\n",
              "      <td></td>\n",
              "      <td>27</td>\n",
              "      <td></td>\n",
              "      <td></td>\n",
              "      <td></td>\n",
              "      <td>100.17</td>\n",
              "      <td></td>\n",
              "      <td></td>\n",
              "      <td></td>\n",
              "      <td>-14</td>\n",
              "      <td></td>\n",
              "      <td>NA</td>\n",
              "    </tr>\n",
              "    <tr>\n",
              "      <th>3</th>\n",
              "      <td>2015-01-01 03:00:00</td>\n",
              "      <td>2015</td>\n",
              "      <td>01</td>\n",
              "      <td>01</td>\n",
              "      <td>03:00</td>\n",
              "      <td>-5.8</td>\n",
              "      <td></td>\n",
              "      <td>-13.2</td>\n",
              "      <td></td>\n",
              "      <td>56</td>\n",
              "      <td></td>\n",
              "      <td>25</td>\n",
              "      <td></td>\n",
              "      <td>28</td>\n",
              "      <td></td>\n",
              "      <td></td>\n",
              "      <td></td>\n",
              "      <td>100.14</td>\n",
              "      <td></td>\n",
              "      <td></td>\n",
              "      <td></td>\n",
              "      <td>-14</td>\n",
              "      <td></td>\n",
              "      <td>NA</td>\n",
              "    </tr>\n",
              "    <tr>\n",
              "      <th>4</th>\n",
              "      <td>2015-01-01 04:00:00</td>\n",
              "      <td>2015</td>\n",
              "      <td>01</td>\n",
              "      <td>01</td>\n",
              "      <td>04:00</td>\n",
              "      <td>-5.7</td>\n",
              "      <td></td>\n",
              "      <td>-11.9</td>\n",
              "      <td></td>\n",
              "      <td>62</td>\n",
              "      <td></td>\n",
              "      <td>25</td>\n",
              "      <td></td>\n",
              "      <td>24</td>\n",
              "      <td></td>\n",
              "      <td></td>\n",
              "      <td></td>\n",
              "      <td>100.14</td>\n",
              "      <td></td>\n",
              "      <td></td>\n",
              "      <td></td>\n",
              "      <td>-13</td>\n",
              "      <td></td>\n",
              "      <td>NA</td>\n",
              "    </tr>\n",
              "    <tr>\n",
              "      <th>...</th>\n",
              "      <td>...</td>\n",
              "      <td>...</td>\n",
              "      <td>...</td>\n",
              "      <td>...</td>\n",
              "      <td>...</td>\n",
              "      <td>...</td>\n",
              "      <td>...</td>\n",
              "      <td>...</td>\n",
              "      <td>...</td>\n",
              "      <td>...</td>\n",
              "      <td>...</td>\n",
              "      <td>...</td>\n",
              "      <td>...</td>\n",
              "      <td>...</td>\n",
              "      <td>...</td>\n",
              "      <td>...</td>\n",
              "      <td>...</td>\n",
              "      <td>...</td>\n",
              "      <td>...</td>\n",
              "      <td>...</td>\n",
              "      <td>...</td>\n",
              "      <td>...</td>\n",
              "      <td>...</td>\n",
              "      <td>...</td>\n",
              "    </tr>\n",
              "    <tr>\n",
              "      <th>40908</th>\n",
              "      <td>NaT</td>\n",
              "      <td>NaN</td>\n",
              "      <td>NaN</td>\n",
              "      <td>NaN</td>\n",
              "      <td>NaN</td>\n",
              "      <td>NaN</td>\n",
              "      <td>NaN</td>\n",
              "      <td>NaN</td>\n",
              "      <td>NaN</td>\n",
              "      <td>NaN</td>\n",
              "      <td>NaN</td>\n",
              "      <td>NaN</td>\n",
              "      <td>NaN</td>\n",
              "      <td>NaN</td>\n",
              "      <td>NaN</td>\n",
              "      <td>NaN</td>\n",
              "      <td>NaN</td>\n",
              "      <td>NaN</td>\n",
              "      <td>NaN</td>\n",
              "      <td>NaN</td>\n",
              "      <td>NaN</td>\n",
              "      <td>NaN</td>\n",
              "      <td>NaN</td>\n",
              "      <td>NaN</td>\n",
              "    </tr>\n",
              "    <tr>\n",
              "      <th>40909</th>\n",
              "      <td>NaT</td>\n",
              "      <td>NaN</td>\n",
              "      <td>NaN</td>\n",
              "      <td>NaN</td>\n",
              "      <td>NaN</td>\n",
              "      <td>NaN</td>\n",
              "      <td>NaN</td>\n",
              "      <td>NaN</td>\n",
              "      <td>NaN</td>\n",
              "      <td>NaN</td>\n",
              "      <td>NaN</td>\n",
              "      <td>NaN</td>\n",
              "      <td>NaN</td>\n",
              "      <td>NaN</td>\n",
              "      <td>NaN</td>\n",
              "      <td>NaN</td>\n",
              "      <td>NaN</td>\n",
              "      <td>NaN</td>\n",
              "      <td>NaN</td>\n",
              "      <td>NaN</td>\n",
              "      <td>NaN</td>\n",
              "      <td>NaN</td>\n",
              "      <td>NaN</td>\n",
              "      <td>NaN</td>\n",
              "    </tr>\n",
              "    <tr>\n",
              "      <th>40910</th>\n",
              "      <td>NaT</td>\n",
              "      <td>NaN</td>\n",
              "      <td>NaN</td>\n",
              "      <td>NaN</td>\n",
              "      <td>NaN</td>\n",
              "      <td>NaN</td>\n",
              "      <td>NaN</td>\n",
              "      <td>NaN</td>\n",
              "      <td>NaN</td>\n",
              "      <td>NaN</td>\n",
              "      <td>NaN</td>\n",
              "      <td>NaN</td>\n",
              "      <td>NaN</td>\n",
              "      <td>NaN</td>\n",
              "      <td>NaN</td>\n",
              "      <td>NaN</td>\n",
              "      <td>NaN</td>\n",
              "      <td>NaN</td>\n",
              "      <td>NaN</td>\n",
              "      <td>NaN</td>\n",
              "      <td>NaN</td>\n",
              "      <td>NaN</td>\n",
              "      <td>NaN</td>\n",
              "      <td>NaN</td>\n",
              "    </tr>\n",
              "    <tr>\n",
              "      <th>40911</th>\n",
              "      <td>NaT</td>\n",
              "      <td>NaN</td>\n",
              "      <td>NaN</td>\n",
              "      <td>NaN</td>\n",
              "      <td>NaN</td>\n",
              "      <td>NaN</td>\n",
              "      <td>NaN</td>\n",
              "      <td>NaN</td>\n",
              "      <td>NaN</td>\n",
              "      <td>NaN</td>\n",
              "      <td>NaN</td>\n",
              "      <td>NaN</td>\n",
              "      <td>NaN</td>\n",
              "      <td>NaN</td>\n",
              "      <td>NaN</td>\n",
              "      <td>NaN</td>\n",
              "      <td>NaN</td>\n",
              "      <td>NaN</td>\n",
              "      <td>NaN</td>\n",
              "      <td>NaN</td>\n",
              "      <td>NaN</td>\n",
              "      <td>NaN</td>\n",
              "      <td>NaN</td>\n",
              "      <td>NaN</td>\n",
              "    </tr>\n",
              "    <tr>\n",
              "      <th>40912</th>\n",
              "      <td>NaT</td>\n",
              "      <td>NaN</td>\n",
              "      <td>NaN</td>\n",
              "      <td>NaN</td>\n",
              "      <td>NaN</td>\n",
              "      <td>NaN</td>\n",
              "      <td>NaN</td>\n",
              "      <td>NaN</td>\n",
              "      <td>NaN</td>\n",
              "      <td>NaN</td>\n",
              "      <td>NaN</td>\n",
              "      <td>NaN</td>\n",
              "      <td>NaN</td>\n",
              "      <td>NaN</td>\n",
              "      <td>NaN</td>\n",
              "      <td>NaN</td>\n",
              "      <td>NaN</td>\n",
              "      <td>NaN</td>\n",
              "      <td>NaN</td>\n",
              "      <td>NaN</td>\n",
              "      <td>NaN</td>\n",
              "      <td>NaN</td>\n",
              "      <td>NaN</td>\n",
              "      <td>NaN</td>\n",
              "    </tr>\n",
              "  </tbody>\n",
              "</table>\n",
              "<p>40913 rows × 24 columns</p>\n",
              "</div>"
            ],
            "text/plain": [
              "                Date/Time  Year Month  ... Wind Chill Wind Chill Flag Weather\n",
              "0     2015-01-01 00:00:00  2015    01  ...        -14                      NA\n",
              "1     2015-01-01 01:00:00  2015    01  ...        -13                      NA\n",
              "2     2015-01-01 02:00:00  2015    01  ...        -14                      NA\n",
              "3     2015-01-01 03:00:00  2015    01  ...        -14                      NA\n",
              "4     2015-01-01 04:00:00  2015    01  ...        -13                      NA\n",
              "...                   ...   ...   ...  ...        ...             ...     ...\n",
              "40908                 NaT   NaN   NaN  ...        NaN             NaN     NaN\n",
              "40909                 NaT   NaN   NaN  ...        NaN             NaN     NaN\n",
              "40910                 NaT   NaN   NaN  ...        NaN             NaN     NaN\n",
              "40911                 NaT   NaN   NaN  ...        NaN             NaN     NaN\n",
              "40912                 NaT   NaN   NaN  ...        NaN             NaN     NaN\n",
              "\n",
              "[40913 rows x 24 columns]"
            ]
          },
          "execution_count": null,
          "metadata": {},
          "output_type": "execute_result"
        }
      ]
    },
    {
      "cell_type": "code",
      "metadata": {
        "colab": {
          "background_save": true,
          "base_uri": "https://localhost:8080/",
          "height": 275
        },
        "id": "D_5__Z8AU02D",
        "outputId": "81d3aa49-08cd-4145-aad6-aaab44d249e4"
      },
      "source": [
        "df.tail()"
      ],
      "execution_count": null,
      "outputs": [
        {
          "data": {
            "text/html": [
              "<div>\n",
              "<style scoped>\n",
              "    .dataframe tbody tr th:only-of-type {\n",
              "        vertical-align: middle;\n",
              "    }\n",
              "\n",
              "    .dataframe tbody tr th {\n",
              "        vertical-align: top;\n",
              "    }\n",
              "\n",
              "    .dataframe thead th {\n",
              "        text-align: right;\n",
              "    }\n",
              "</style>\n",
              "<table border=\"1\" class=\"dataframe\">\n",
              "  <thead>\n",
              "    <tr style=\"text-align: right;\">\n",
              "      <th></th>\n",
              "      <th>Date/Time</th>\n",
              "      <th>Year</th>\n",
              "      <th>Month</th>\n",
              "      <th>Day</th>\n",
              "      <th>Time</th>\n",
              "      <th>Temp (°C)</th>\n",
              "      <th>Temp Flag</th>\n",
              "      <th>Dew Point Temp (°C)</th>\n",
              "      <th>Dew Point Temp Flag</th>\n",
              "      <th>Rel Hum (%)</th>\n",
              "      <th>Rel Hum Flag</th>\n",
              "      <th>Wind Dir (10s deg)</th>\n",
              "      <th>Wind Dir Flag</th>\n",
              "      <th>Wind Spd (km/h)</th>\n",
              "      <th>Wind Spd Flag</th>\n",
              "      <th>Visibility (km)</th>\n",
              "      <th>Visibility Flag</th>\n",
              "      <th>Stn Press (kPa)</th>\n",
              "      <th>Stn Press Flag</th>\n",
              "      <th>Hmdx</th>\n",
              "      <th>Hmdx Flag</th>\n",
              "      <th>Wind Chill</th>\n",
              "      <th>Wind Chill Flag</th>\n",
              "      <th>Weather</th>\n",
              "    </tr>\n",
              "  </thead>\n",
              "  <tbody>\n",
              "    <tr>\n",
              "      <th>40908</th>\n",
              "      <td>NaT</td>\n",
              "      <td>NaN</td>\n",
              "      <td>NaN</td>\n",
              "      <td>NaN</td>\n",
              "      <td>NaN</td>\n",
              "      <td>NaN</td>\n",
              "      <td>NaN</td>\n",
              "      <td>NaN</td>\n",
              "      <td>NaN</td>\n",
              "      <td>NaN</td>\n",
              "      <td>NaN</td>\n",
              "      <td>NaN</td>\n",
              "      <td>NaN</td>\n",
              "      <td>NaN</td>\n",
              "      <td>NaN</td>\n",
              "      <td>NaN</td>\n",
              "      <td>NaN</td>\n",
              "      <td>NaN</td>\n",
              "      <td>NaN</td>\n",
              "      <td>NaN</td>\n",
              "      <td>NaN</td>\n",
              "      <td>NaN</td>\n",
              "      <td>NaN</td>\n",
              "      <td>NaN</td>\n",
              "    </tr>\n",
              "    <tr>\n",
              "      <th>40909</th>\n",
              "      <td>NaT</td>\n",
              "      <td>NaN</td>\n",
              "      <td>NaN</td>\n",
              "      <td>NaN</td>\n",
              "      <td>NaN</td>\n",
              "      <td>NaN</td>\n",
              "      <td>NaN</td>\n",
              "      <td>NaN</td>\n",
              "      <td>NaN</td>\n",
              "      <td>NaN</td>\n",
              "      <td>NaN</td>\n",
              "      <td>NaN</td>\n",
              "      <td>NaN</td>\n",
              "      <td>NaN</td>\n",
              "      <td>NaN</td>\n",
              "      <td>NaN</td>\n",
              "      <td>NaN</td>\n",
              "      <td>NaN</td>\n",
              "      <td>NaN</td>\n",
              "      <td>NaN</td>\n",
              "      <td>NaN</td>\n",
              "      <td>NaN</td>\n",
              "      <td>NaN</td>\n",
              "      <td>NaN</td>\n",
              "    </tr>\n",
              "    <tr>\n",
              "      <th>40910</th>\n",
              "      <td>NaT</td>\n",
              "      <td>NaN</td>\n",
              "      <td>NaN</td>\n",
              "      <td>NaN</td>\n",
              "      <td>NaN</td>\n",
              "      <td>NaN</td>\n",
              "      <td>NaN</td>\n",
              "      <td>NaN</td>\n",
              "      <td>NaN</td>\n",
              "      <td>NaN</td>\n",
              "      <td>NaN</td>\n",
              "      <td>NaN</td>\n",
              "      <td>NaN</td>\n",
              "      <td>NaN</td>\n",
              "      <td>NaN</td>\n",
              "      <td>NaN</td>\n",
              "      <td>NaN</td>\n",
              "      <td>NaN</td>\n",
              "      <td>NaN</td>\n",
              "      <td>NaN</td>\n",
              "      <td>NaN</td>\n",
              "      <td>NaN</td>\n",
              "      <td>NaN</td>\n",
              "      <td>NaN</td>\n",
              "    </tr>\n",
              "    <tr>\n",
              "      <th>40911</th>\n",
              "      <td>NaT</td>\n",
              "      <td>NaN</td>\n",
              "      <td>NaN</td>\n",
              "      <td>NaN</td>\n",
              "      <td>NaN</td>\n",
              "      <td>NaN</td>\n",
              "      <td>NaN</td>\n",
              "      <td>NaN</td>\n",
              "      <td>NaN</td>\n",
              "      <td>NaN</td>\n",
              "      <td>NaN</td>\n",
              "      <td>NaN</td>\n",
              "      <td>NaN</td>\n",
              "      <td>NaN</td>\n",
              "      <td>NaN</td>\n",
              "      <td>NaN</td>\n",
              "      <td>NaN</td>\n",
              "      <td>NaN</td>\n",
              "      <td>NaN</td>\n",
              "      <td>NaN</td>\n",
              "      <td>NaN</td>\n",
              "      <td>NaN</td>\n",
              "      <td>NaN</td>\n",
              "      <td>NaN</td>\n",
              "    </tr>\n",
              "    <tr>\n",
              "      <th>40912</th>\n",
              "      <td>NaT</td>\n",
              "      <td>NaN</td>\n",
              "      <td>NaN</td>\n",
              "      <td>NaN</td>\n",
              "      <td>NaN</td>\n",
              "      <td>NaN</td>\n",
              "      <td>NaN</td>\n",
              "      <td>NaN</td>\n",
              "      <td>NaN</td>\n",
              "      <td>NaN</td>\n",
              "      <td>NaN</td>\n",
              "      <td>NaN</td>\n",
              "      <td>NaN</td>\n",
              "      <td>NaN</td>\n",
              "      <td>NaN</td>\n",
              "      <td>NaN</td>\n",
              "      <td>NaN</td>\n",
              "      <td>NaN</td>\n",
              "      <td>NaN</td>\n",
              "      <td>NaN</td>\n",
              "      <td>NaN</td>\n",
              "      <td>NaN</td>\n",
              "      <td>NaN</td>\n",
              "      <td>NaN</td>\n",
              "    </tr>\n",
              "  </tbody>\n",
              "</table>\n",
              "</div>"
            ],
            "text/plain": [
              "      Date/Time Year Month  Day  ... Hmdx Flag Wind Chill Wind Chill Flag Weather\n",
              "40908       NaT  NaN   NaN  NaN  ...       NaN        NaN             NaN     NaN\n",
              "40909       NaT  NaN   NaN  NaN  ...       NaN        NaN             NaN     NaN\n",
              "40910       NaT  NaN   NaN  NaN  ...       NaN        NaN             NaN     NaN\n",
              "40911       NaT  NaN   NaN  NaN  ...       NaN        NaN             NaN     NaN\n",
              "40912       NaT  NaN   NaN  NaN  ...       NaN        NaN             NaN     NaN\n",
              "\n",
              "[5 rows x 24 columns]"
            ]
          },
          "execution_count": null,
          "metadata": {},
          "output_type": "execute_result"
        }
      ]
    },
    {
      "cell_type": "markdown",
      "metadata": {
        "id": "0XEDOrFBTMDh"
      },
      "source": [
        "### Dropping NA rows"
      ]
    },
    {
      "cell_type": "markdown",
      "metadata": {
        "id": "-2Ku9fH1Tnfw"
      },
      "source": [
        "## All rows after 2018 are NAs"
      ]
    },
    {
      "cell_type": "code",
      "metadata": {
        "colab": {
          "background_save": true
        },
        "id": "WTxXQybtAwgt"
      },
      "source": [
        "df = df.dropna(axis=0)"
      ],
      "execution_count": null,
      "outputs": []
    },
    {
      "cell_type": "markdown",
      "metadata": {
        "id": "iNGy-_G-TIxU"
      },
      "source": [
        "## Data Description"
      ]
    },
    {
      "cell_type": "code",
      "metadata": {
        "colab": {
          "background_save": true,
          "base_uri": "https://localhost:8080/"
        },
        "id": "D2ZVfAAKCbzv",
        "outputId": "72d69545-5df4-44d7-9839-08bfc3d3584d"
      },
      "source": [
        "df.info()"
      ],
      "execution_count": null,
      "outputs": [
        {
          "name": "stdout",
          "output_type": "stream",
          "text": [
            "<class 'pandas.core.frame.DataFrame'>\n",
            "Int64Index: 28021 entries, 0 to 28463\n",
            "Data columns (total 24 columns):\n",
            " #   Column               Non-Null Count  Dtype         \n",
            "---  ------               --------------  -----         \n",
            " 0   Date/Time            28021 non-null  datetime64[ns]\n",
            " 1   Year                 28021 non-null  object        \n",
            " 2   Month                28021 non-null  object        \n",
            " 3   Day                  28021 non-null  object        \n",
            " 4   Time                 28021 non-null  object        \n",
            " 5   Temp (°C)            28021 non-null  object        \n",
            " 6   Temp Flag            28021 non-null  object        \n",
            " 7   Dew Point Temp (°C)  28021 non-null  object        \n",
            " 8   Dew Point Temp Flag  28021 non-null  object        \n",
            " 9   Rel Hum (%)          28021 non-null  object        \n",
            " 10  Rel Hum Flag         28021 non-null  object        \n",
            " 11  Wind Dir (10s deg)   28021 non-null  object        \n",
            " 12  Wind Dir Flag        28021 non-null  object        \n",
            " 13  Wind Spd (km/h)      28021 non-null  object        \n",
            " 14  Wind Spd Flag        28021 non-null  object        \n",
            " 15  Visibility (km)      28021 non-null  object        \n",
            " 16  Visibility Flag      28021 non-null  object        \n",
            " 17  Stn Press (kPa)      28021 non-null  object        \n",
            " 18  Stn Press Flag       28021 non-null  object        \n",
            " 19  Hmdx                 28021 non-null  object        \n",
            " 20  Hmdx Flag            28021 non-null  object        \n",
            " 21  Wind Chill           28021 non-null  object        \n",
            " 22  Wind Chill Flag      28021 non-null  object        \n",
            " 23  Weather              28021 non-null  object        \n",
            "dtypes: datetime64[ns](1), object(23)\n",
            "memory usage: 5.3+ MB\n"
          ]
        }
      ]
    },
    {
      "cell_type": "markdown",
      "metadata": {
        "id": "40tlICRtTC2T"
      },
      "source": [
        "## All values in weather column are NA"
      ]
    },
    {
      "cell_type": "code",
      "metadata": {
        "colab": {
          "background_save": true,
          "base_uri": "https://localhost:8080/"
        },
        "id": "fGUM2ILYXFNn",
        "outputId": "de1d51f1-308d-490f-8aad-993411e368ff"
      },
      "source": [
        "sum(df.Weather == 'NA')"
      ],
      "execution_count": null,
      "outputs": [
        {
          "data": {
            "text/plain": [
              "28021"
            ]
          },
          "execution_count": null,
          "metadata": {},
          "output_type": "execute_result"
        }
      ]
    },
    {
      "cell_type": "markdown",
      "metadata": {
        "id": "PqvjivJIS9O2"
      },
      "source": [
        "## Weather Column dropped no info given"
      ]
    },
    {
      "cell_type": "code",
      "metadata": {
        "colab": {
          "background_save": true
        },
        "id": "48Jlhqi-EzOz"
      },
      "source": [
        "df = df.drop('Weather',axis=1)"
      ],
      "execution_count": null,
      "outputs": []
    },
    {
      "cell_type": "markdown",
      "metadata": {
        "id": "RNGRqNPRS41l"
      },
      "source": [
        "## Columns with Missing Data"
      ]
    },
    {
      "cell_type": "code",
      "metadata": {
        "colab": {
          "background_save": true
        },
        "id": "bLP03C0fEzGf"
      },
      "source": [
        "columns = ['Temp Flag','Dew Point Temp Flag','Rel Hum Flag','Wind Dir Flag','Wind Spd Flag','Visibility (km)','Visibility Flag','Stn Press Flag','Hmdx','Hmdx Flag','Wind Chill Flag']"
      ],
      "execution_count": null,
      "outputs": []
    },
    {
      "cell_type": "markdown",
      "metadata": {
        "id": "2LGMN8CNS0xS"
      },
      "source": [
        "### Missing Values Check"
      ]
    },
    {
      "cell_type": "code",
      "metadata": {
        "colab": {
          "background_save": true,
          "base_uri": "https://localhost:8080/"
        },
        "id": "Ep4Hj2zfGBSi",
        "outputId": "6cdb83fe-c832-4028-8e8d-5380617f8fa7"
      },
      "source": [
        "(df[columns] == '').sum() #As is show most of this columns data are missing"
      ],
      "execution_count": null,
      "outputs": [
        {
          "data": {
            "text/plain": [
              "Temp Flag              28011\n",
              "Dew Point Temp Flag    28021\n",
              "Rel Hum Flag           28021\n",
              "Wind Dir Flag          28021\n",
              "Wind Spd Flag          28021\n",
              "Visibility (km)        28021\n",
              "Visibility Flag        28021\n",
              "Stn Press Flag         28021\n",
              "Hmdx                   24454\n",
              "Hmdx Flag              28021\n",
              "Wind Chill Flag        28021\n",
              "dtype: int64"
            ]
          },
          "execution_count": null,
          "metadata": {},
          "output_type": "execute_result"
        }
      ]
    },
    {
      "cell_type": "markdown",
      "metadata": {
        "id": "dagsoCeBScyl"
      },
      "source": [
        "## Dropping the columns with over 80 percent missing data values"
      ]
    },
    {
      "cell_type": "code",
      "metadata": {
        "colab": {
          "background_save": true,
          "base_uri": "https://localhost:8080/"
        },
        "id": "D_ZaWC_LHc15",
        "outputId": "d92ac7af-35d8-42ec-a144-6f3a3293c832"
      },
      "source": [
        "(df[columns] == '').sum()/28011 * 100 #Over 80% data are missing for all so i will be dropping all columns"
      ],
      "execution_count": null,
      "outputs": [
        {
          "data": {
            "text/plain": [
              "Temp Flag              100.000000\n",
              "Dew Point Temp Flag    100.035700\n",
              "Rel Hum Flag           100.035700\n",
              "Wind Dir Flag          100.035700\n",
              "Wind Spd Flag          100.035700\n",
              "Visibility (km)        100.035700\n",
              "Visibility Flag        100.035700\n",
              "Stn Press Flag         100.035700\n",
              "Hmdx                    87.301417\n",
              "Hmdx Flag              100.035700\n",
              "Wind Chill Flag        100.035700\n",
              "dtype: float64"
            ]
          },
          "execution_count": null,
          "metadata": {},
          "output_type": "execute_result"
        }
      ]
    },
    {
      "cell_type": "code",
      "metadata": {
        "colab": {
          "background_save": true
        },
        "id": "nGOS228CFvpm"
      },
      "source": [
        "df = df.drop(columns=columns,axis=1)"
      ],
      "execution_count": null,
      "outputs": []
    },
    {
      "cell_type": "code",
      "metadata": {
        "colab": {
          "background_save": true
        },
        "id": "HCFN1YKUH2Ap"
      },
      "source": [
        "df = df.replace(r'^\\s*$', np.nan, regex=True)"
      ],
      "execution_count": null,
      "outputs": []
    },
    {
      "cell_type": "markdown",
      "metadata": {
        "id": "6Em_5BuaSVr3"
      },
      "source": [
        "## Boolean Check of Data with Missing Values"
      ]
    },
    {
      "cell_type": "code",
      "metadata": {
        "colab": {
          "base_uri": "https://localhost:8080/"
        },
        "id": "bVKBaVuvCcAC",
        "outputId": "4f63c6f2-a64c-4986-9569-cfd142b6378c"
      },
      "source": [
        "df.isna().any()"
      ],
      "execution_count": null,
      "outputs": [
        {
          "data": {
            "text/plain": [
              "Date/Time              False\n",
              "Year                   False\n",
              "Month                  False\n",
              "Day                    False\n",
              "Time                   False\n",
              "Temp (°C)               True\n",
              "Dew Point Temp (°C)     True\n",
              "Rel Hum (%)            False\n",
              "Wind Dir (10s deg)      True\n",
              "Wind Spd (km/h)        False\n",
              "Stn Press (kPa)         True\n",
              "Wind Chill              True\n",
              "dtype: bool"
            ]
          },
          "execution_count": 23,
          "metadata": {},
          "output_type": "execute_result"
        }
      ]
    },
    {
      "cell_type": "markdown",
      "metadata": {
        "id": "UTzd-UjNSHZ7"
      },
      "source": [
        "## Percentage of Missing Values by column after dropping the first batch of missing data"
      ]
    },
    {
      "cell_type": "code",
      "metadata": {
        "colab": {
          "base_uri": "https://localhost:8080/"
        },
        "id": "ZkVb4QDgJKii",
        "outputId": "42e5c85b-23b4-4daa-f876-918a13062861"
      },
      "source": [
        "df.isna().sum()/28011 * 100 #72 percent of Wind Chill Data is missing thats too large so i will be dropping the column"
      ],
      "execution_count": null,
      "outputs": [
        {
          "data": {
            "text/plain": [
              "Date/Time               0.000000\n",
              "Year                    0.000000\n",
              "Month                   0.000000\n",
              "Day                     0.000000\n",
              "Time                    0.000000\n",
              "Temp (°C)               0.035700\n",
              "Dew Point Temp (°C)     0.003570\n",
              "Rel Hum (%)             0.000000\n",
              "Wind Dir (10s deg)      0.528364\n",
              "Wind Spd (km/h)         0.000000\n",
              "Stn Press (kPa)         0.003570\n",
              "Wind Chill             72.953483\n",
              "dtype: float64"
            ]
          },
          "execution_count": 24,
          "metadata": {},
          "output_type": "execute_result"
        }
      ]
    },
    {
      "cell_type": "markdown",
      "metadata": {
        "id": "YLGjoO8nSAs0"
      },
      "source": [
        "## Dropping Missing Columns"
      ]
    },
    {
      "cell_type": "code",
      "metadata": {
        "id": "1MpxNqEnTaZA"
      },
      "source": [
        "df = df.drop(['Wind Dir (10s deg)','Wind Chill'],axis=1)"
      ],
      "execution_count": null,
      "outputs": []
    },
    {
      "cell_type": "markdown",
      "metadata": {
        "id": "RPJazL26R4mS"
      },
      "source": [
        "# Exploratory Data Analysis and Data Types Adjustment"
      ]
    },
    {
      "cell_type": "code",
      "metadata": {
        "colab": {
          "background_save": true
        },
        "id": "xa2Z7WtYWP21"
      },
      "source": [
        "df_cols = ['Year','Month','Day','Temp (°C)','Dew Point Temp (°C)','Rel Hum (%)','Wind Spd (km/h)','Stn Press (kPa)']"
      ],
      "execution_count": null,
      "outputs": []
    },
    {
      "cell_type": "code",
      "metadata": {
        "id": "OPsBkBDRVJPG"
      },
      "source": [
        "df[df_cols] = df[df_cols].apply(pd.to_numeric)"
      ],
      "execution_count": null,
      "outputs": []
    },
    {
      "cell_type": "code",
      "metadata": {
        "colab": {
          "base_uri": "https://localhost:8080/"
        },
        "id": "jP2SMWUoXCHY",
        "outputId": "a658ed64-1155-4381-d311-563f7f3bf825"
      },
      "source": [
        "df.info()"
      ],
      "execution_count": null,
      "outputs": [
        {
          "name": "stdout",
          "output_type": "stream",
          "text": [
            "<class 'pandas.core.frame.DataFrame'>\n",
            "Int64Index: 28021 entries, 0 to 28463\n",
            "Data columns (total 10 columns):\n",
            " #   Column               Non-Null Count  Dtype         \n",
            "---  ------               --------------  -----         \n",
            " 0   Date/Time            28021 non-null  datetime64[ns]\n",
            " 1   Year                 28021 non-null  int64         \n",
            " 2   Month                28021 non-null  int64         \n",
            " 3   Day                  28021 non-null  int64         \n",
            " 4   Time                 28021 non-null  object        \n",
            " 5   Temp (°C)            28011 non-null  float64       \n",
            " 6   Dew Point Temp (°C)  28020 non-null  float64       \n",
            " 7   Rel Hum (%)          28021 non-null  int64         \n",
            " 8   Wind Spd (km/h)      28021 non-null  int64         \n",
            " 9   Stn Press (kPa)      28020 non-null  float64       \n",
            "dtypes: datetime64[ns](1), float64(3), int64(5), object(1)\n",
            "memory usage: 2.4+ MB\n"
          ]
        }
      ]
    },
    {
      "cell_type": "code",
      "metadata": {
        "id": "VqsdCCDhav1K"
      },
      "source": [
        "# pd.get_dummies(pd.to_datetime(df['Time'],unit='ns'))"
      ],
      "execution_count": null,
      "outputs": []
    },
    {
      "cell_type": "code",
      "metadata": {
        "colab": {
          "base_uri": "https://localhost:8080/",
          "height": 530
        },
        "id": "zENBFOmwa4xB",
        "outputId": "370c10eb-a2cf-48b9-b729-94b7bc4cf544"
      },
      "source": [
        "fig,ax = plt.subplots(figsize=(12,8))\n",
        "ax.plot(df['Date/Time'],df['Temp (°C)'],label='Temperature')\n",
        "ax.plot(df['Date/Time'],df['Dew Point Temp (°C)'],color='orange',label='Dew Point Temp')\n",
        "ax.set_title('Temperature VS Dew Point Correlation Over Time')\n",
        "ax.set_xlabel('Date/Time')\n",
        "ax.set_ylabel('Temp/Dew Point')\n",
        "ax.legend()"
      ],
      "execution_count": null,
      "outputs": [
        {
          "data": {
            "text/plain": [
              "<matplotlib.legend.Legend at 0x7f5dde0fc1d0>"
            ]
          },
          "execution_count": 30,
          "metadata": {},
          "output_type": "execute_result"
        },
        {
          "data": {
            "image/png": "[encoded data removed]",
            "text/plain": [
              "<Figure size 864x576 with 1 Axes>"
            ]
          },
          "metadata": {},
          "output_type": "display_data"
        }
      ]
    },
    {
      "cell_type": "code",
      "metadata": {
        "id": "mocbXqnZui68"
      },
      "source": [
        "df = df.set_index('Date/Time')"
      ],
      "execution_count": null,
      "outputs": []
    },
    {
      "cell_type": "code",
      "metadata": {
        "id": "wCPG-rgpnvrF"
      },
      "source": [
        "one_day = df['Temp (°C)'].iloc[0:24]"
      ],
      "execution_count": null,
      "outputs": []
    },
    {
      "cell_type": "code",
      "metadata": {
        "colab": {
          "base_uri": "https://localhost:8080/"
        },
        "id": "bs1I5noXvGX5",
        "outputId": "256c85da-87e6-4120-f011-9a83ce59724a"
      },
      "source": [
        "one_day"
      ],
      "execution_count": null,
      "outputs": [
        {
          "data": {
            "text/plain": [
              "Date/Time\n",
              "2015-01-01 00:00:00   -5.9\n",
              "2015-01-01 01:00:00   -5.9\n",
              "2015-01-01 02:00:00   -6.1\n",
              "2015-01-01 03:00:00   -5.8\n",
              "2015-01-01 04:00:00   -5.7\n",
              "2015-01-01 05:00:00   -5.3\n",
              "2015-01-01 06:00:00   -4.2\n",
              "2015-01-01 07:00:00   -3.8\n",
              "2015-01-01 08:00:00   -3.7\n",
              "2015-01-01 09:00:00   -3.2\n",
              "2015-01-01 10:00:00   -2.8\n",
              "2015-01-01 11:00:00   -3.5\n",
              "2015-01-01 12:00:00   -3.5\n",
              "2015-01-01 13:00:00   -3.4\n",
              "2015-01-01 14:00:00   -3.3\n",
              "2015-01-01 15:00:00   -2.7\n",
              "2015-01-01 16:00:00   -2.6\n",
              "2015-01-01 17:00:00   -2.7\n",
              "2015-01-01 18:00:00   -2.3\n",
              "2015-01-01 19:00:00   -2.4\n",
              "2015-01-01 20:00:00   -1.8\n",
              "2015-01-01 21:00:00   -1.3\n",
              "2015-01-01 22:00:00   -0.9\n",
              "2015-01-01 23:00:00   -0.9\n",
              "Name: Temp (°C), dtype: float64"
            ]
          },
          "execution_count": 33,
          "metadata": {},
          "output_type": "execute_result"
        }
      ]
    },
    {
      "cell_type": "code",
      "metadata": {
        "colab": {
          "base_uri": "https://localhost:8080/",
          "height": 391
        },
        "id": "45hyUbTdmGKK",
        "outputId": "228b4b7e-da40-4af4-ce94-f89834e8adab"
      },
      "source": [
        "plt.figure(figsize=(8,6))\n",
        "plt.plot(one_day)"
      ],
      "execution_count": null,
      "outputs": [
        {
          "data": {
            "text/plain": [
              "[<matplotlib.lines.Line2D at 0x7f5dde05ddd0>]"
            ]
          },
          "execution_count": 34,
          "metadata": {},
          "output_type": "execute_result"
        },
        {
          "data": {
            "image/png": "[encoded data removed]",
            "text/plain": [
              "<Figure size 576x432 with 1 Axes>"
            ]
          },
          "metadata": {},
          "output_type": "display_data"
        }
      ]
    },
    {
      "cell_type": "code",
      "metadata": {
        "id": "XlksI5TRs9X8"
      },
      "source": [
        "test = df['Temp (°C)'].rolling(24).mean()"
      ],
      "execution_count": null,
      "outputs": []
    },
    {
      "cell_type": "code",
      "metadata": {
        "id": "qY-ppGSWuYrb"
      },
      "source": [
        "test.dropna(inplace=True)"
      ],
      "execution_count": null,
      "outputs": []
    },
    {
      "cell_type": "code",
      "metadata": {
        "colab": {
          "base_uri": "https://localhost:8080/",
          "height": 391
        },
        "id": "d6TSwTIdvt42",
        "outputId": "e7606e0a-8575-4ae0-b189-3da8c52dec9a"
      },
      "source": [
        "plt.figure(figsize=(8,6))\n",
        "plt.plot(df['Temp (°C)'])"
      ],
      "execution_count": null,
      "outputs": [
        {
          "data": {
            "text/plain": [
              "[<matplotlib.lines.Line2D at 0x7f5ddf117c10>]"
            ]
          },
          "execution_count": 37,
          "metadata": {},
          "output_type": "execute_result"
        },
        {
          "data": {
            "image/png": "[encoded data removed]",
            "text/plain": [
              "<Figure size 576x432 with 1 Axes>"
            ]
          },
          "metadata": {},
          "output_type": "display_data"
        }
      ]
    },
    {
      "cell_type": "code",
      "metadata": {
        "colab": {
          "base_uri": "https://localhost:8080/",
          "height": 393
        },
        "id": "kk8qDknDuXPi",
        "outputId": "e11a8895-6997-45a5-cb30-f67482433d8d"
      },
      "source": [
        "plt.figure(figsize=(8,6))\n",
        "plt.plot(test)"
      ],
      "execution_count": null,
      "outputs": [
        {
          "data": {
            "text/plain": [
              "[<matplotlib.lines.Line2D at 0x7f5dddc55350>]"
            ]
          },
          "execution_count": 38,
          "metadata": {},
          "output_type": "execute_result"
        },
        {
          "data": {
            "image/png": "[encoded data removed]",
            "text/plain": [
              "<Figure size 576x432 with 1 Axes>"
            ]
          },
          "metadata": {},
          "output_type": "display_data"
        }
      ]
    },
    {
      "cell_type": "markdown",
      "metadata": {
        "id": "pjYCAT7CRS7l"
      },
      "source": [
        "### Categorizing the time column"
      ]
    },
    {
      "cell_type": "code",
      "metadata": {
        "colab": {
          "base_uri": "https://localhost:8080/",
          "height": 810
        },
        "id": "wt9kQS8qwmrj",
        "outputId": "675aab74-35d3-4d9b-8784-44233f464b6a"
      },
      "source": [
        "pd.get_dummies(df['Time'])"
      ],
      "execution_count": null,
      "outputs": [
        {
          "data": {
            "text/html": [
              "<div>\n",
              "<style scoped>\n",
              "    .dataframe tbody tr th:only-of-type {\n",
              "        vertical-align: middle;\n",
              "    }\n",
              "\n",
              "    .dataframe tbody tr th {\n",
              "        vertical-align: top;\n",
              "    }\n",
              "\n",
              "    .dataframe thead th {\n",
              "        text-align: right;\n",
              "    }\n",
              "</style>\n",
              "<table border=\"1\" class=\"dataframe\">\n",
              "  <thead>\n",
              "    <tr style=\"text-align: right;\">\n",
              "      <th></th>\n",
              "      <th>00:00</th>\n",
              "      <th>01:00</th>\n",
              "      <th>02:00</th>\n",
              "      <th>03:00</th>\n",
              "      <th>04:00</th>\n",
              "      <th>05:00</th>\n",
              "      <th>06:00</th>\n",
              "      <th>07:00</th>\n",
              "      <th>08:00</th>\n",
              "      <th>09:00</th>\n",
              "      <th>10:00</th>\n",
              "      <th>11:00</th>\n",
              "      <th>12:00</th>\n",
              "      <th>13:00</th>\n",
              "      <th>14:00</th>\n",
              "      <th>15:00</th>\n",
              "      <th>16:00</th>\n",
              "      <th>17:00</th>\n",
              "      <th>18:00</th>\n",
              "      <th>19:00</th>\n",
              "      <th>20:00</th>\n",
              "      <th>21:00</th>\n",
              "      <th>22:00</th>\n",
              "      <th>23:00</th>\n",
              "    </tr>\n",
              "    <tr>\n",
              "      <th>Date/Time</th>\n",
              "      <th></th>\n",
              "      <th></th>\n",
              "      <th></th>\n",
              "      <th></th>\n",
              "      <th></th>\n",
              "      <th></th>\n",
              "      <th></th>\n",
              "      <th></th>\n",
              "      <th></th>\n",
              "      <th></th>\n",
              "      <th></th>\n",
              "      <th></th>\n",
              "      <th></th>\n",
              "      <th></th>\n",
              "      <th></th>\n",
              "      <th></th>\n",
              "      <th></th>\n",
              "      <th></th>\n",
              "      <th></th>\n",
              "      <th></th>\n",
              "      <th></th>\n",
              "      <th></th>\n",
              "      <th></th>\n",
              "      <th></th>\n",
              "    </tr>\n",
              "  </thead>\n",
              "  <tbody>\n",
              "    <tr>\n",
              "      <th>2015-01-01 00:00:00</th>\n",
              "      <td>1</td>\n",
              "      <td>0</td>\n",
              "      <td>0</td>\n",
              "      <td>0</td>\n",
              "      <td>0</td>\n",
              "      <td>0</td>\n",
              "      <td>0</td>\n",
              "      <td>0</td>\n",
              "      <td>0</td>\n",
              "      <td>0</td>\n",
              "      <td>0</td>\n",
              "      <td>0</td>\n",
              "      <td>0</td>\n",
              "      <td>0</td>\n",
              "      <td>0</td>\n",
              "      <td>0</td>\n",
              "      <td>0</td>\n",
              "      <td>0</td>\n",
              "      <td>0</td>\n",
              "      <td>0</td>\n",
              "      <td>0</td>\n",
              "      <td>0</td>\n",
              "      <td>0</td>\n",
              "      <td>0</td>\n",
              "    </tr>\n",
              "    <tr>\n",
              "      <th>2015-01-01 01:00:00</th>\n",
              "      <td>0</td>\n",
              "      <td>1</td>\n",
              "      <td>0</td>\n",
              "      <td>0</td>\n",
              "      <td>0</td>\n",
              "      <td>0</td>\n",
              "      <td>0</td>\n",
              "      <td>0</td>\n",
              "      <td>0</td>\n",
              "      <td>0</td>\n",
              "      <td>0</td>\n",
              "      <td>0</td>\n",
              "      <td>0</td>\n",
              "      <td>0</td>\n",
              "      <td>0</td>\n",
              "      <td>0</td>\n",
              "      <td>0</td>\n",
              "      <td>0</td>\n",
              "      <td>0</td>\n",
              "      <td>0</td>\n",
              "      <td>0</td>\n",
              "      <td>0</td>\n",
              "      <td>0</td>\n",
              "      <td>0</td>\n",
              "    </tr>\n",
              "    <tr>\n",
              "      <th>2015-01-01 02:00:00</th>\n",
              "      <td>0</td>\n",
              "      <td>0</td>\n",
              "      <td>1</td>\n",
              "      <td>0</td>\n",
              "      <td>0</td>\n",
              "      <td>0</td>\n",
              "      <td>0</td>\n",
              "      <td>0</td>\n",
              "      <td>0</td>\n",
              "      <td>0</td>\n",
              "      <td>0</td>\n",
              "      <td>0</td>\n",
              "      <td>0</td>\n",
              "      <td>0</td>\n",
              "      <td>0</td>\n",
              "      <td>0</td>\n",
              "      <td>0</td>\n",
              "      <td>0</td>\n",
              "      <td>0</td>\n",
              "      <td>0</td>\n",
              "      <td>0</td>\n",
              "      <td>0</td>\n",
              "      <td>0</td>\n",
              "      <td>0</td>\n",
              "    </tr>\n",
              "    <tr>\n",
              "      <th>2015-01-01 03:00:00</th>\n",
              "      <td>0</td>\n",
              "      <td>0</td>\n",
              "      <td>0</td>\n",
              "      <td>1</td>\n",
              "      <td>0</td>\n",
              "      <td>0</td>\n",
              "      <td>0</td>\n",
              "      <td>0</td>\n",
              "      <td>0</td>\n",
              "      <td>0</td>\n",
              "      <td>0</td>\n",
              "      <td>0</td>\n",
              "      <td>0</td>\n",
              "      <td>0</td>\n",
              "      <td>0</td>\n",
              "      <td>0</td>\n",
              "      <td>0</td>\n",
              "      <td>0</td>\n",
              "      <td>0</td>\n",
              "      <td>0</td>\n",
              "      <td>0</td>\n",
              "      <td>0</td>\n",
              "      <td>0</td>\n",
              "      <td>0</td>\n",
              "    </tr>\n",
              "    <tr>\n",
              "      <th>2015-01-01 04:00:00</th>\n",
              "      <td>0</td>\n",
              "      <td>0</td>\n",
              "      <td>0</td>\n",
              "      <td>0</td>\n",
              "      <td>1</td>\n",
              "      <td>0</td>\n",
              "      <td>0</td>\n",
              "      <td>0</td>\n",
              "      <td>0</td>\n",
              "      <td>0</td>\n",
              "      <td>0</td>\n",
              "      <td>0</td>\n",
              "      <td>0</td>\n",
              "      <td>0</td>\n",
              "      <td>0</td>\n",
              "      <td>0</td>\n",
              "      <td>0</td>\n",
              "      <td>0</td>\n",
              "      <td>0</td>\n",
              "      <td>0</td>\n",
              "      <td>0</td>\n",
              "      <td>0</td>\n",
              "      <td>0</td>\n",
              "      <td>0</td>\n",
              "    </tr>\n",
              "    <tr>\n",
              "      <th>...</th>\n",
              "      <td>...</td>\n",
              "      <td>...</td>\n",
              "      <td>...</td>\n",
              "      <td>...</td>\n",
              "      <td>...</td>\n",
              "      <td>...</td>\n",
              "      <td>...</td>\n",
              "      <td>...</td>\n",
              "      <td>...</td>\n",
              "      <td>...</td>\n",
              "      <td>...</td>\n",
              "      <td>...</td>\n",
              "      <td>...</td>\n",
              "      <td>...</td>\n",
              "      <td>...</td>\n",
              "      <td>...</td>\n",
              "      <td>...</td>\n",
              "      <td>...</td>\n",
              "      <td>...</td>\n",
              "      <td>...</td>\n",
              "      <td>...</td>\n",
              "      <td>...</td>\n",
              "      <td>...</td>\n",
              "      <td>...</td>\n",
              "    </tr>\n",
              "    <tr>\n",
              "      <th>2018-03-31 19:00:00</th>\n",
              "      <td>0</td>\n",
              "      <td>0</td>\n",
              "      <td>0</td>\n",
              "      <td>0</td>\n",
              "      <td>0</td>\n",
              "      <td>0</td>\n",
              "      <td>0</td>\n",
              "      <td>0</td>\n",
              "      <td>0</td>\n",
              "      <td>0</td>\n",
              "      <td>0</td>\n",
              "      <td>0</td>\n",
              "      <td>0</td>\n",
              "      <td>0</td>\n",
              "      <td>0</td>\n",
              "      <td>0</td>\n",
              "      <td>0</td>\n",
              "      <td>0</td>\n",
              "      <td>0</td>\n",
              "      <td>1</td>\n",
              "      <td>0</td>\n",
              "      <td>0</td>\n",
              "      <td>0</td>\n",
              "      <td>0</td>\n",
              "    </tr>\n",
              "    <tr>\n",
              "      <th>2018-03-31 20:00:00</th>\n",
              "      <td>0</td>\n",
              "      <td>0</td>\n",
              "      <td>0</td>\n",
              "      <td>0</td>\n",
              "      <td>0</td>\n",
              "      <td>0</td>\n",
              "      <td>0</td>\n",
              "      <td>0</td>\n",
              "      <td>0</td>\n",
              "      <td>0</td>\n",
              "      <td>0</td>\n",
              "      <td>0</td>\n",
              "      <td>0</td>\n",
              "      <td>0</td>\n",
              "      <td>0</td>\n",
              "      <td>0</td>\n",
              "      <td>0</td>\n",
              "      <td>0</td>\n",
              "      <td>0</td>\n",
              "      <td>0</td>\n",
              "      <td>1</td>\n",
              "      <td>0</td>\n",
              "      <td>0</td>\n",
              "      <td>0</td>\n",
              "    </tr>\n",
              "    <tr>\n",
              "      <th>2018-03-31 21:00:00</th>\n",
              "      <td>0</td>\n",
              "      <td>0</td>\n",
              "      <td>0</td>\n",
              "      <td>0</td>\n",
              "      <td>0</td>\n",
              "      <td>0</td>\n",
              "      <td>0</td>\n",
              "      <td>0</td>\n",
              "      <td>0</td>\n",
              "      <td>0</td>\n",
              "      <td>0</td>\n",
              "      <td>0</td>\n",
              "      <td>0</td>\n",
              "      <td>0</td>\n",
              "      <td>0</td>\n",
              "      <td>0</td>\n",
              "      <td>0</td>\n",
              "      <td>0</td>\n",
              "      <td>0</td>\n",
              "      <td>0</td>\n",
              "      <td>0</td>\n",
              "      <td>1</td>\n",
              "      <td>0</td>\n",
              "      <td>0</td>\n",
              "    </tr>\n",
              "    <tr>\n",
              "      <th>2018-03-31 22:00:00</th>\n",
              "      <td>0</td>\n",
              "      <td>0</td>\n",
              "      <td>0</td>\n",
              "      <td>0</td>\n",
              "      <td>0</td>\n",
              "      <td>0</td>\n",
              "      <td>0</td>\n",
              "      <td>0</td>\n",
              "      <td>0</td>\n",
              "      <td>0</td>\n",
              "      <td>0</td>\n",
              "      <td>0</td>\n",
              "      <td>0</td>\n",
              "      <td>0</td>\n",
              "      <td>0</td>\n",
              "      <td>0</td>\n",
              "      <td>0</td>\n",
              "      <td>0</td>\n",
              "      <td>0</td>\n",
              "      <td>0</td>\n",
              "      <td>0</td>\n",
              "      <td>0</td>\n",
              "      <td>1</td>\n",
              "      <td>0</td>\n",
              "    </tr>\n",
              "    <tr>\n",
              "      <th>2018-03-31 23:00:00</th>\n",
              "      <td>0</td>\n",
              "      <td>0</td>\n",
              "      <td>0</td>\n",
              "      <td>0</td>\n",
              "      <td>0</td>\n",
              "      <td>0</td>\n",
              "      <td>0</td>\n",
              "      <td>0</td>\n",
              "      <td>0</td>\n",
              "      <td>0</td>\n",
              "      <td>0</td>\n",
              "      <td>0</td>\n",
              "      <td>0</td>\n",
              "      <td>0</td>\n",
              "      <td>0</td>\n",
              "      <td>0</td>\n",
              "      <td>0</td>\n",
              "      <td>0</td>\n",
              "      <td>0</td>\n",
              "      <td>0</td>\n",
              "      <td>0</td>\n",
              "      <td>0</td>\n",
              "      <td>0</td>\n",
              "      <td>1</td>\n",
              "    </tr>\n",
              "  </tbody>\n",
              "</table>\n",
              "<p>28021 rows × 24 columns</p>\n",
              "</div>"
            ],
            "text/plain": [
              "                     00:00  01:00  02:00  03:00  ...  20:00  21:00  22:00  23:00\n",
              "Date/Time                                        ...                            \n",
              "2015-01-01 00:00:00      1      0      0      0  ...      0      0      0      0\n",
              "2015-01-01 01:00:00      0      1      0      0  ...      0      0      0      0\n",
              "2015-01-01 02:00:00      0      0      1      0  ...      0      0      0      0\n",
              "2015-01-01 03:00:00      0      0      0      1  ...      0      0      0      0\n",
              "2015-01-01 04:00:00      0      0      0      0  ...      0      0      0      0\n",
              "...                    ...    ...    ...    ...  ...    ...    ...    ...    ...\n",
              "2018-03-31 19:00:00      0      0      0      0  ...      0      0      0      0\n",
              "2018-03-31 20:00:00      0      0      0      0  ...      1      0      0      0\n",
              "2018-03-31 21:00:00      0      0      0      0  ...      0      1      0      0\n",
              "2018-03-31 22:00:00      0      0      0      0  ...      0      0      1      0\n",
              "2018-03-31 23:00:00      0      0      0      0  ...      0      0      0      1\n",
              "\n",
              "[28021 rows x 24 columns]"
            ]
          },
          "execution_count": 39,
          "metadata": {},
          "output_type": "execute_result"
        }
      ]
    },
    {
      "cell_type": "markdown",
      "metadata": {
        "id": "x956Gsb4Q27d"
      },
      "source": [
        "### The Year and Time Columns are dropped"
      ]
    },
    {
      "cell_type": "code",
      "metadata": {
        "id": "lB9kht1PwQGN"
      },
      "source": [
        "df_train = df.drop(['Year','Time','Temp (°C)'],axis=1) #Dropping time for test case\n",
        "temp = df['Temp (°C)']\n",
        "df_train = pd.concat([df_train,temp],axis=1)"
      ],
      "execution_count": null,
      "outputs": []
    },
    {
      "cell_type": "markdown",
      "metadata": {
        "id": "pgEuQoExQwpf"
      },
      "source": [
        "## Data Description"
      ]
    },
    {
      "cell_type": "code",
      "metadata": {
        "colab": {
          "base_uri": "https://localhost:8080/"
        },
        "id": "54G5UsLNycPF",
        "outputId": "b89e93e5-399f-47af-d72a-5563ec3d7bcb"
      },
      "source": [
        "df_train.info()"
      ],
      "execution_count": null,
      "outputs": [
        {
          "name": "stdout",
          "output_type": "stream",
          "text": [
            "<class 'pandas.core.frame.DataFrame'>\n",
            "DatetimeIndex: 28021 entries, 2015-01-01 00:00:00 to 2018-03-31 23:00:00\n",
            "Data columns (total 7 columns):\n",
            " #   Column               Non-Null Count  Dtype  \n",
            "---  ------               --------------  -----  \n",
            " 0   Month                28021 non-null  int64  \n",
            " 1   Day                  28021 non-null  int64  \n",
            " 2   Dew Point Temp (°C)  28020 non-null  float64\n",
            " 3   Rel Hum (%)          28021 non-null  int64  \n",
            " 4   Wind Spd (km/h)      28021 non-null  int64  \n",
            " 5   Stn Press (kPa)      28020 non-null  float64\n",
            " 6   Temp (°C)            28011 non-null  float64\n",
            "dtypes: float64(3), int64(4)\n",
            "memory usage: 1.7 MB\n"
          ]
        }
      ]
    },
    {
      "cell_type": "markdown",
      "metadata": {
        "id": "gMwr5o3nQfx2"
      },
      "source": [
        "### Filling missing column values with the mean of 6 hr lag temperature values"
      ]
    },
    {
      "cell_type": "code",
      "metadata": {
        "colab": {
          "background_save": true
        },
        "id": "-RVuz2xUJ__r"
      },
      "source": [
        "df_train = df_train.fillna(df_train.rolling(6,min_periods=1).mean())"
      ],
      "execution_count": null,
      "outputs": []
    },
    {
      "cell_type": "markdown",
      "metadata": {
        "id": "3zGjMh7pQXET"
      },
      "source": [
        "### Cross-Checking If Missing Values are still Present"
      ]
    },
    {
      "cell_type": "code",
      "metadata": {
        "colab": {
          "background_save": true,
          "base_uri": "https://localhost:8080/"
        },
        "id": "dtcj34WWM_Ml",
        "outputId": "781e6f06-d014-4708-d3d2-5f91418fe115"
      },
      "source": [
        "df_train.isna().any()"
      ],
      "execution_count": null,
      "outputs": [
        {
          "data": {
            "text/plain": [
              "Month                  False\n",
              "Day                    False\n",
              "Dew Point Temp (°C)    False\n",
              "Rel Hum (%)            False\n",
              "Wind Spd (km/h)        False\n",
              "Stn Press (kPa)        False\n",
              "Temp (°C)              False\n",
              "dtype: bool"
            ]
          },
          "execution_count": null,
          "metadata": {},
          "output_type": "execute_result"
        }
      ]
    },
    {
      "cell_type": "markdown",
      "metadata": {
        "id": "la608WT3QLR3"
      },
      "source": [
        "### Splitting Data into Train Data and Validation Data"
      ]
    },
    {
      "cell_type": "code",
      "metadata": {
        "colab": {
          "background_save": true
        },
        "id": "Hd5l1xXRV1hM"
      },
      "source": [
        "split_time = sum(df_train.index.year == 2015) + sum(df_train.index.year == 2016) + sum(df_train.index.year == 2017)\n",
        "time_train = df_train.index[:split_time]\n",
        "x_train = df_train.iloc[:split_time]\n",
        "time_valid = df_train.index[split_time:]\n",
        "x_valid = df_train.iloc[split_time:]\n",
        "\n",
        "window_size = 14\n",
        "batch_size = 120\n",
        "shuffle_buffer = 42"
      ],
      "execution_count": null,
      "outputs": []
    },
    {
      "cell_type": "markdown",
      "metadata": {
        "id": "GXMtiN2DQCAR"
      },
      "source": [
        "### Helper Function for preparing the dataset into a form acceptable by the model"
      ]
    },
    {
      "cell_type": "code",
      "metadata": {
        "id": "mbBiQ8LzVvGn"
      },
      "source": [
        "def windowed_dataset(series, window_size, batch_size, shuffle_buffer):\n",
        "  dataset = tf.data.Dataset.from_tensor_slices(series)\n",
        "  dataset = dataset.window(window_size + 1, shift=1, drop_remainder=True)\n",
        "  dataset = dataset.flat_map(lambda window: window.batch(window_size + 1))\n",
        "  dataset = dataset.shuffle(shuffle_buffer).map(lambda window: (window[:,:-1], window[-1,-1]))\n",
        "  dataset = dataset.batch(batch_size).prefetch(1)\n",
        "  return dataset"
      ],
      "execution_count": null,
      "outputs": []
    },
    {
      "cell_type": "markdown",
      "metadata": {
        "id": "sG1wM4LNP22u"
      },
      "source": [
        "### Dataset Preparation and Model Build"
      ]
    },
    {
      "cell_type": "code",
      "metadata": {
        "colab": {
          "background_save": true,
          "base_uri": "https://localhost:8080/"
        },
        "id": "lM2foMw2Wt9P",
        "outputId": "7915045b-35fe-4fc8-afb5-a56a35c625cf"
      },
      "source": [
        "tf.keras.backend.clear_session()\n",
        "dataset = windowed_dataset(x_train, window_size, batch_size, shuffle_buffer)\n",
        "dataset_test = windowed_dataset(x_valid, window_size, batch_size, shuffle_buffer)\n",
        "model = tf.keras.models.Sequential([\n",
        "  tf.keras.layers.Lambda(lambda x: x * 0.1,\n",
        "                      input_shape=[None,6]),\n",
        "  tf.keras.layers.Conv1D(filters=32, kernel_size=5,\n",
        "                      strides=1, padding=\"causal\",\n",
        "                      activation=\"relu\"),\n",
        "  tf.keras.layers.Bidirectional(tf.keras.layers.LSTM(64,activation='relu',return_sequences=True,input_shape=[None])),\n",
        "  tf.keras.layers.Dropout(0.3),\n",
        "  tf.keras.layers.Bidirectional(tf.keras.layers.LSTM(64,activation='relu', return_sequences=True)),\n",
        "  tf.keras.layers.Bidirectional(tf.keras.layers.LSTM(32,activation='relu')),\n",
        "  tf.keras.layers.Dropout(0.1),\n",
        "  tf.keras.layers.Dense(16,activation='relu'),\n",
        "  tf.keras.layers.Dense(1),\n",
        "  tf.keras.layers.Lambda(lambda x: x * 10)\n",
        "])\n",
        "\n",
        "# 4e-4\n",
        "# lr_schedule = tf.keras.callbacks.LearningRateScheduler(\n",
        "#     lambda epoch: 1e-10 * 10**(epoch / 20))\n",
        "optimizer = tf.keras.optimizers.Adam(learning_rate=0.00034)\n",
        "\n",
        "# [tf.keras.metrics.RootMeanSquaredError()]\n",
        "# tf.keras.losses.Huber()\n",
        "\n",
        "model.compile(loss=tf.keras.losses.Huber(), optimizer=optimizer,metrics=[tf.keras.metrics.RootMeanSquaredError()])\n",
        "history = model.fit(dataset,validation_data=dataset_test,epochs=50)"
      ],
      "execution_count": null,
      "outputs": [
        {
          "name": "stdout",
          "output_type": "stream",
          "text": [
            "Epoch 1/50\n",
            "216/216 [==============================] - 36s 133ms/step - loss: 7.5125 - root_mean_squared_error: 10.0033 - val_loss: 7.4582 - val_root_mean_squared_error: 10.0400\n",
            "Epoch 2/50\n",
            "216/216 [==============================] - 27s 127ms/step - loss: 7.6546 - root_mean_squared_error: 10.0190 - val_loss: 5.9020 - val_root_mean_squared_error: 8.6709\n",
            "Epoch 3/50\n",
            "216/216 [==============================] - 27s 127ms/step - loss: 6.4184 - root_mean_squared_error: 8.4175 - val_loss: 3.7039 - val_root_mean_squared_error: 5.1655\n",
            "Epoch 4/50\n",
            "216/216 [==============================] - 27s 125ms/step - loss: 4.4462 - root_mean_squared_error: 6.2954 - val_loss: 6.5650 - val_root_mean_squared_error: 8.4461\n",
            "Epoch 5/50\n",
            "216/216 [==============================] - 27s 126ms/step - loss: 4.2483 - root_mean_squared_error: 5.9643 - val_loss: 4.9931 - val_root_mean_squared_error: 6.8296\n",
            "Epoch 6/50\n",
            "216/216 [==============================] - 27s 127ms/step - loss: 3.7168 - root_mean_squared_error: 5.3421 - val_loss: 3.7633 - val_root_mean_squared_error: 5.1701\n",
            "Epoch 7/50\n",
            "216/216 [==============================] - 28s 130ms/step - loss: 3.1461 - root_mean_squared_error: 4.6086 - val_loss: 3.4192 - val_root_mean_squared_error: 4.7330\n",
            "Epoch 8/50\n",
            "216/216 [==============================] - 28s 130ms/step - loss: 3.0555 - root_mean_squared_error: 4.4858 - val_loss: 3.5905 - val_root_mean_squared_error: 4.8748\n",
            "Epoch 9/50\n",
            "216/216 [==============================] - 28s 128ms/step - loss: 2.9004 - root_mean_squared_error: 4.2881 - val_loss: 3.5120 - val_root_mean_squared_error: 4.7305\n",
            "Epoch 10/50\n",
            "216/216 [==============================] - 27s 127ms/step - loss: 2.8043 - root_mean_squared_error: 4.1766 - val_loss: 3.4570 - val_root_mean_squared_error: 4.6463\n",
            "Epoch 11/50\n",
            "216/216 [==============================] - 28s 128ms/step - loss: 2.6156 - root_mean_squared_error: 3.9431 - val_loss: 3.0706 - val_root_mean_squared_error: 4.2491\n",
            "Epoch 12/50\n",
            "216/216 [==============================] - 27s 127ms/step - loss: 2.5717 - root_mean_squared_error: 3.8791 - val_loss: 2.6730 - val_root_mean_squared_error: 3.8420\n",
            "Epoch 13/50\n",
            "216/216 [==============================] - 27s 127ms/step - loss: 2.3281 - root_mean_squared_error: 3.5572 - val_loss: 2.6487 - val_root_mean_squared_error: 3.8375\n",
            "Epoch 14/50\n",
            "216/216 [==============================] - 28s 128ms/step - loss: 2.1560 - root_mean_squared_error: 3.3590 - val_loss: 2.6785 - val_root_mean_squared_error: 3.8529\n",
            "Epoch 15/50\n",
            "216/216 [==============================] - 27s 125ms/step - loss: 2.1134 - root_mean_squared_error: 3.3074 - val_loss: 2.6297 - val_root_mean_squared_error: 3.7879\n",
            "Epoch 16/50\n",
            "216/216 [==============================] - 27s 124ms/step - loss: 1.9906 - root_mean_squared_error: 3.1328 - val_loss: 2.3401 - val_root_mean_squared_error: 3.4835\n",
            "Epoch 17/50\n",
            "216/216 [==============================] - 29s 133ms/step - loss: 1.9246 - root_mean_squared_error: 3.0553 - val_loss: 2.3295 - val_root_mean_squared_error: 3.4459\n",
            "Epoch 18/50\n",
            "216/216 [==============================] - 27s 125ms/step - loss: 1.7929 - root_mean_squared_error: 2.9004 - val_loss: 2.3707 - val_root_mean_squared_error: 3.4931\n",
            "Epoch 19/50\n",
            "216/216 [==============================] - 27s 123ms/step - loss: 1.6039 - root_mean_squared_error: 2.6418 - val_loss: 2.4551 - val_root_mean_squared_error: 3.5375\n",
            "Epoch 20/50\n",
            "216/216 [==============================] - 32s 149ms/step - loss: 1.3253 - root_mean_squared_error: 2.3241 - val_loss: 2.3316 - val_root_mean_squared_error: 3.3774\n",
            "Epoch 21/50\n",
            "216/216 [==============================] - 27s 123ms/step - loss: 1.1718 - root_mean_squared_error: 2.1477 - val_loss: 2.4365 - val_root_mean_squared_error: 3.4726\n",
            "Epoch 22/50\n",
            "216/216 [==============================] - 27s 123ms/step - loss: 1.0944 - root_mean_squared_error: 2.0565 - val_loss: 2.3351 - val_root_mean_squared_error: 3.3437\n",
            "Epoch 23/50\n",
            "216/216 [==============================] - 27s 123ms/step - loss: 0.9993 - root_mean_squared_error: 1.9527 - val_loss: 2.1394 - val_root_mean_squared_error: 3.1420\n",
            "Epoch 24/50\n",
            "216/216 [==============================] - 27s 124ms/step - loss: 0.9440 - root_mean_squared_error: 1.8656 - val_loss: 1.9177 - val_root_mean_squared_error: 2.8756\n",
            "Epoch 25/50\n",
            "216/216 [==============================] - 27s 124ms/step - loss: 0.8746 - root_mean_squared_error: 1.7893 - val_loss: 1.7190 - val_root_mean_squared_error: 2.6520\n",
            "Epoch 26/50\n",
            "216/216 [==============================] - 27s 123ms/step - loss: 0.8075 - root_mean_squared_error: 1.6806 - val_loss: 1.6816 - val_root_mean_squared_error: 2.6594\n",
            "Epoch 27/50\n",
            "216/216 [==============================] - 27s 124ms/step - loss: 0.7817 - root_mean_squared_error: 1.6258 - val_loss: 1.7434 - val_root_mean_squared_error: 2.6759\n",
            "Epoch 28/50\n",
            "216/216 [==============================] - 27s 123ms/step - loss: 0.6983 - root_mean_squared_error: 1.5154 - val_loss: 1.3736 - val_root_mean_squared_error: 2.2591\n",
            "Epoch 29/50\n",
            "216/216 [==============================] - 27s 124ms/step - loss: 0.6530 - root_mean_squared_error: 1.4412 - val_loss: 1.2820 - val_root_mean_squared_error: 2.1414\n",
            "Epoch 30/50\n",
            "216/216 [==============================] - 27s 125ms/step - loss: 0.6242 - root_mean_squared_error: 1.4062 - val_loss: 0.9496 - val_root_mean_squared_error: 1.7903\n",
            "Epoch 31/50\n",
            "216/216 [==============================] - 27s 125ms/step - loss: 0.5494 - root_mean_squared_error: 1.2781 - val_loss: 1.2317 - val_root_mean_squared_error: 2.1261\n",
            "Epoch 32/50\n",
            "216/216 [==============================] - 27s 124ms/step - loss: 0.5653 - root_mean_squared_error: 1.3193 - val_loss: 1.1111 - val_root_mean_squared_error: 1.8834\n",
            "Epoch 33/50\n",
            "216/216 [==============================] - 27s 125ms/step - loss: 0.4982 - root_mean_squared_error: 1.2066 - val_loss: 1.1127 - val_root_mean_squared_error: 1.9980\n",
            "Epoch 34/50\n",
            "216/216 [==============================] - 27s 124ms/step - loss: 0.5139 - root_mean_squared_error: 1.2469 - val_loss: 0.9643 - val_root_mean_squared_error: 1.7535\n",
            "Epoch 35/50\n",
            "216/216 [==============================] - 27s 125ms/step - loss: 0.4437 - root_mean_squared_error: 1.1221 - val_loss: 0.9274 - val_root_mean_squared_error: 1.8060\n",
            "Epoch 36/50\n",
            "216/216 [==============================] - 27s 124ms/step - loss: 0.4263 - root_mean_squared_error: 1.0910 - val_loss: 0.7611 - val_root_mean_squared_error: 1.6018\n",
            "Epoch 37/50\n",
            "216/216 [==============================] - 27s 124ms/step - loss: 0.3909 - root_mean_squared_error: 1.0236 - val_loss: 0.9382 - val_root_mean_squared_error: 1.8226\n",
            "Epoch 38/50\n",
            "216/216 [==============================] - 27s 125ms/step - loss: 0.3770 - root_mean_squared_error: 1.0022 - val_loss: 0.6701 - val_root_mean_squared_error: 1.5456\n",
            "Epoch 39/50\n",
            "216/216 [==============================] - 27s 124ms/step - loss: 0.3498 - root_mean_squared_error: 0.9531 - val_loss: 0.8047 - val_root_mean_squared_error: 1.7710\n",
            "Epoch 40/50\n",
            "216/216 [==============================] - 27s 124ms/step - loss: 0.3466 - root_mean_squared_error: 0.9523 - val_loss: 0.4300 - val_root_mean_squared_error: 1.1597\n",
            "Epoch 41/50\n",
            "216/216 [==============================] - 26s 122ms/step - loss: 0.3229 - root_mean_squared_error: 0.9350 - val_loss: 0.9616 - val_root_mean_squared_error: 1.8817\n",
            "Epoch 42/50\n",
            "216/216 [==============================] - 27s 124ms/step - loss: 0.2973 - root_mean_squared_error: 0.8736 - val_loss: 0.7354 - val_root_mean_squared_error: 1.6401\n",
            "Epoch 43/50\n",
            "216/216 [==============================] - 27s 124ms/step - loss: 0.2789 - root_mean_squared_error: 0.8361 - val_loss: 0.7044 - val_root_mean_squared_error: 1.5363\n",
            "Epoch 44/50\n",
            "216/216 [==============================] - 27s 124ms/step - loss: 0.2675 - root_mean_squared_error: 0.8226 - val_loss: 0.5781 - val_root_mean_squared_error: 1.3773\n",
            "Epoch 45/50\n",
            "216/216 [==============================] - 27s 124ms/step - loss: 0.2541 - root_mean_squared_error: 0.8091 - val_loss: 0.6090 - val_root_mean_squared_error: 1.4267\n",
            "Epoch 46/50\n",
            "216/216 [==============================] - 27s 124ms/step - loss: 0.2443 - root_mean_squared_error: 0.7961 - val_loss: 0.8221 - val_root_mean_squared_error: 1.6440\n",
            "Epoch 47/50\n",
            "216/216 [==============================] - 33s 152ms/step - loss: 0.2262 - root_mean_squared_error: 0.7612 - val_loss: 0.6526 - val_root_mean_squared_error: 1.5441\n",
            "Epoch 48/50\n",
            "216/216 [==============================] - 27s 124ms/step - loss: 0.2330 - root_mean_squared_error: 0.7649 - val_loss: 0.5690 - val_root_mean_squared_error: 1.4333\n",
            "Epoch 49/50\n",
            "216/216 [==============================] - 27s 124ms/step - loss: 0.2333 - root_mean_squared_error: 0.7574 - val_loss: 0.6255 - val_root_mean_squared_error: 1.5820\n",
            "Epoch 50/50\n",
            "216/216 [==============================] - 27s 124ms/step - loss: 0.2047 - root_mean_squared_error: 0.7050 - val_loss: 0.4867 - val_root_mean_squared_error: 1.2968\n"
          ]
        }
      ]
    },
    {
      "cell_type": "markdown",
      "metadata": {
        "id": "j2AbJF0zPtd5"
      },
      "source": [
        "### Model Evaluation for Multi-Variate Approach"
      ]
    },
    {
      "cell_type": "code",
      "metadata": {
        "colab": {
          "background_save": true
        },
        "id": "mA2wGIWlnxeA",
        "outputId": "85b4295c-a8f7-4ec4-86e6-7fee858c5b1e"
      },
      "source": [
        "epochs =  range(50)\n",
        "plt.figure(figsize=(12,8))\n",
        "plt.title('Epochs VS Huber Loss')\n",
        "plt.plot(epochs, history.history[\"val_loss\"],color='b',label='val_loss')\n",
        "plt.plot(epochs, history.history[\"loss\"],color='r',label='train_loss')\n",
        "plt.legend()"
      ],
      "execution_count": null,
      "outputs": [
        {
          "data": {
            "text/plain": [
              "<matplotlib.legend.Legend at 0x7f5dd0800e90>"
            ]
          },
          "execution_count": null,
          "metadata": {},
          "output_type": "execute_result"
        },
        {
          "data": {
            "image/png": "[encoded data removed]",
            "text/plain": [
              "<Figure size 864x576 with 1 Axes>"
            ]
          },
          "metadata": {},
          "output_type": "display_data"
        }
      ]
    },
    {
      "cell_type": "code",
      "metadata": {
        "colab": {
          "background_save": true
        },
        "id": "oy_UjMUQcu_D",
        "outputId": "60108d36-fa07-48d2-bd95-428fd613bdd7"
      },
      "source": [
        "epochs =  range(50)\n",
        "plt.figure(figsize=(12,8))\n",
        "plt.title('Epochs VS Root Mean Squared Error')\n",
        "plt.plot(epochs, history.history[\"val_root_mean_squared_error\"],color='b',label='val_error')\n",
        "plt.plot(epochs, history.history[\"root_mean_squared_error\"],color='r',label='train_error')\n",
        "plt.legend()"
      ],
      "execution_count": null,
      "outputs": [
        {
          "data": {
            "text/plain": [
              "<matplotlib.legend.Legend at 0x7f5dd380e190>"
            ]
          },
          "execution_count": null,
          "metadata": {},
          "output_type": "execute_result"
        },
        {
          "data": {
            "image/png": "[encoded data removed]",
            "text/plain": [
              "<Figure size 864x576 with 1 Axes>"
            ]
          },
          "metadata": {},
          "output_type": "display_data"
        }
      ]
    },
    {
      "cell_type": "markdown",
      "metadata": {
        "id": "BhXuucqyW-nd"
      },
      "source": [
        "### Saving the model and weights"
      ]
    },
    {
      "cell_type": "code",
      "metadata": {
        "colab": {
          "background_save": true
        },
        "id": "XPfeJdEgHtP-"
      },
      "source": [
        "# model.save_weights('/gdrive/MyDrive/Colab Notebooks/Tensorflow_in_practice/Mr_Kebou_Project/models/conv_net_lstm_weights_epochs_50')"
      ],
      "execution_count": null,
      "outputs": []
    },
    {
      "cell_type": "code",
      "metadata": {
        "colab": {
          "background_save": true
        },
        "id": "KooRlkFkIhRf"
      },
      "source": [
        "# model.save('/gdrive/MyDrive/Colab Notebooks/Tensorflow_in_practice/Mr_Kebou_Project/models/conv_net_lstm_model_epochs_50')"
      ],
      "execution_count": null,
      "outputs": []
    },
    {
      "cell_type": "markdown",
      "metadata": {
        "id": "cwt-6Y3qBOtX"
      },
      "source": [
        "### Load Saved Model"
      ]
    },
    {
      "cell_type": "code",
      "metadata": {
        "colab": {
          "base_uri": "https://localhost:8080/"
        },
        "id": "dNZR4fbnCCDs",
        "outputId": "81ee1b92-0e6f-4a91-f8f9-305b7a3e4de8"
      },
      "source": [
        "new_model = tf.keras.models.Sequential([\n",
        "  tf.keras.layers.Lambda(lambda x: x * 0.1,\n",
        "                      input_shape=[None,6]),\n",
        "  tf.keras.layers.Conv1D(filters=32, kernel_size=5,\n",
        "                      strides=1, padding=\"causal\",\n",
        "                      activation=\"relu\"),\n",
        "  tf.keras.layers.Bidirectional(tf.keras.layers.LSTM(64,activation='relu',return_sequences=True,input_shape=[None])),\n",
        "  tf.keras.layers.Dropout(0.3),\n",
        "  tf.keras.layers.Bidirectional(tf.keras.layers.LSTM(64,activation='relu', return_sequences=True)),\n",
        "  tf.keras.layers.Bidirectional(tf.keras.layers.LSTM(32,activation='relu')),\n",
        "  tf.keras.layers.Dropout(0.1),\n",
        "  tf.keras.layers.Dense(16,activation='relu'),\n",
        "  tf.keras.layers.Dense(1),\n",
        "  tf.keras.layers.Lambda(lambda x: x * 10)\n",
        "])\n",
        "\n",
        "optimizer = tf.keras.optimizers.Adam(learning_rate=0.00034)\n",
        "\n",
        "new_model.compile(loss=tf.keras.losses.Huber(), optimizer=optimizer,metrics=[tf.keras.metrics.RootMeanSquaredError()])\n",
        "\n",
        "# Check its architecture\n",
        "new_model.summary()"
      ],
      "execution_count": null,
      "outputs": [
        {
          "name": "stdout",
          "output_type": "stream",
          "text": [
            "Model: \"sequential\"\n",
            "_________________________________________________________________\n",
            "Layer (type)                 Output Shape              Param #   \n",
            "=================================================================\n",
            "lambda (Lambda)              (None, None, 6)           0         \n",
            "_________________________________________________________________\n",
            "conv1d (Conv1D)              (None, None, 32)          992       \n",
            "_________________________________________________________________\n",
            "bidirectional (Bidirectional (None, None, 128)         49664     \n",
            "_________________________________________________________________\n",
            "dropout (Dropout)            (None, None, 128)         0         \n",
            "_________________________________________________________________\n",
            "bidirectional_1 (Bidirection (None, None, 128)         98816     \n",
            "_________________________________________________________________\n",
            "bidirectional_2 (Bidirection (None, 64)                41216     \n",
            "_________________________________________________________________\n",
            "dropout_1 (Dropout)          (None, 64)                0         \n",
            "_________________________________________________________________\n",
            "dense (Dense)                (None, 16)                1040      \n",
            "_________________________________________________________________\n",
            "dense_1 (Dense)              (None, 1)                 17        \n",
            "_________________________________________________________________\n",
            "lambda_1 (Lambda)            (None, 1)                 0         \n",
            "=================================================================\n",
            "Total params: 191,745\n",
            "Trainable params: 191,745\n",
            "Non-trainable params: 0\n",
            "_________________________________________________________________\n"
          ]
        }
      ]
    },
    {
      "cell_type": "code",
      "metadata": {
        "id": "9ufaC7RVYyir"
      },
      "source": [
        "new_model.load_weights(\"/gdrive/MyDrive/Colab Notebooks/Tensorflow_in_practice/Mr_Kebou_Project/models/model.h5\")"
      ],
      "execution_count": null,
      "outputs": []
    },
    {
      "cell_type": "code",
      "metadata": {
        "colab": {
          "base_uri": "https://localhost:8080/"
        },
        "id": "VWtuIC34vdQs",
        "outputId": "ad680b21-fbdd-487d-fb1e-ca4a2ca90e4d"
      },
      "source": [
        "# serialize model to JSON\n",
        "model_json = new_model.to_json()\n",
        "with open(\"/gdrive/MyDrive/Colab Notebooks/Tensorflow_in_practice/Mr_Kebou_Project/models/model.json\", \"w\") as json_file:\n",
        "    json_file.write(model_json)\n",
        "# serialize weights to HDF5\n",
        "new_model.save_weights(\"/gdrive/MyDrive/Colab Notebooks/Tensorflow_in_practice/Mr_Kebou_Project/models/model.h5\")\n",
        "print(\"Saved model to disk\")"
      ],
      "execution_count": null,
      "outputs": [
        {
          "name": "stdout",
          "output_type": "stream",
          "text": [
            "Saved model to disk\n"
          ]
        }
      ]
    },
    {
      "cell_type": "code",
      "metadata": {
        "colab": {
          "base_uri": "https://localhost:8080/"
        },
        "id": "_pRzVzH9wHp2",
        "outputId": "9b10b06c-2d98-4577-f69b-43ed629c90a1"
      },
      "source": [
        "# load json and create model\n",
        "from tensorflow.keras.models import model_from_json\n",
        "json_file = open('/gdrive/MyDrive/Colab Notebooks/Tensorflow_in_practice/Mr_Kebou_Project/models/model.json', 'r')\n",
        "loaded_model_json = json_file.read()\n",
        "json_file.close()\n",
        "loaded_model = model_from_json(loaded_model_json)\n",
        "# load weights into new model\n",
        "loaded_model.load_weights(\"/gdrive/MyDrive/Colab Notebooks/Tensorflow_in_practice/Mr_Kebou_Project/models/model.h5\")\n",
        "print(\"Loaded model from disk\")"
      ],
      "execution_count": null,
      "outputs": [
        {
          "name": "stdout",
          "output_type": "stream",
          "text": [
            "Loaded model from disk\n"
          ]
        }
      ]
    },
    {
      "cell_type": "code",
      "metadata": {
        "colab": {
          "base_uri": "https://localhost:8080/"
        },
        "id": "RF6wiDLWw3c8",
        "outputId": "07049613-0a1c-44c6-cc79-458683524cab"
      },
      "source": [
        "loaded_model.summary()"
      ],
      "execution_count": null,
      "outputs": [
        {
          "name": "stdout",
          "output_type": "stream",
          "text": [
            "Model: \"sequential\"\n",
            "_________________________________________________________________\n",
            "Layer (type)                 Output Shape              Param #   \n",
            "=================================================================\n",
            "lambda (Lambda)              (None, None, 6)           0         \n",
            "_________________________________________________________________\n",
            "conv1d (Conv1D)              (None, None, 32)          992       \n",
            "_________________________________________________________________\n",
            "bidirectional (Bidirectional (None, None, 128)         49664     \n",
            "_________________________________________________________________\n",
            "dropout (Dropout)            (None, None, 128)         0         \n",
            "_________________________________________________________________\n",
            "bidirectional_1 (Bidirection (None, None, 128)         98816     \n",
            "_________________________________________________________________\n",
            "bidirectional_2 (Bidirection (None, 64)                41216     \n",
            "_________________________________________________________________\n",
            "dropout_1 (Dropout)          (None, 64)                0         \n",
            "_________________________________________________________________\n",
            "dense (Dense)                (None, 16)                1040      \n",
            "_________________________________________________________________\n",
            "dense_1 (Dense)              (None, 1)                 17        \n",
            "_________________________________________________________________\n",
            "lambda_1 (Lambda)            (None, 1)                 0         \n",
            "=================================================================\n",
            "Total params: 191,745\n",
            "Trainable params: 191,745\n",
            "Non-trainable params: 0\n",
            "_________________________________________________________________\n"
          ]
        }
      ]
    },
    {
      "cell_type": "markdown",
      "metadata": {
        "id": "L7hK62AGnFmO"
      },
      "source": [
        "Train Model for one Time Lag"
      ]
    },
    {
      "cell_type": "code",
      "metadata": {
        "colab": {
          "base_uri": "https://localhost:8080/"
        },
        "id": "k9A_NCeLaGbs",
        "outputId": "e599660e-7678-468e-dc05-3adc9d6aab3e"
      },
      "source": [
        "tf.keras.backend.clear_session()\n",
        "dataset = windowed_dataset(x_train, 0, batch_size, shuffle_buffer)\n",
        "dataset_test = windowed_dataset(x_valid, 0, batch_size, shuffle_buffer)\n",
        "model = tf.keras.models.Sequential([\n",
        "  tf.keras.layers.Lambda(lambda x: x * 0.1,\n",
        "                      input_shape=[None,6]),\n",
        "  tf.keras.layers.Conv1D(filters=32, kernel_size=5,\n",
        "                      strides=1, padding=\"causal\",\n",
        "                      activation=\"relu\"),\n",
        "  tf.keras.layers.Bidirectional(tf.keras.layers.LSTM(64,activation='relu',return_sequences=True,input_shape=[None])),\n",
        "  tf.keras.layers.Dropout(0.3),\n",
        "  tf.keras.layers.Bidirectional(tf.keras.layers.LSTM(64,activation='relu', return_sequences=True)),\n",
        "  tf.keras.layers.Bidirectional(tf.keras.layers.LSTM(32,activation='relu')),\n",
        "  tf.keras.layers.Dropout(0.1),\n",
        "  tf.keras.layers.Dense(16,activation='relu'),\n",
        "  tf.keras.layers.Dense(1),\n",
        "  tf.keras.layers.Lambda(lambda x: x * 10)\n",
        "])\n",
        "\n",
        "# 4e-4\n",
        "# lr_schedule = tf.keras.callbacks.LearningRateScheduler(\n",
        "#     lambda epoch: 1e-10 * 10**(epoch / 20))\n",
        "optimizer = tf.keras.optimizers.Adam(learning_rate=0.00034)\n",
        "\n",
        "# [tf.keras.metrics.RootMeanSquaredError()]\n",
        "# tf.keras.losses.Huber()\n",
        "\n",
        "model.compile(loss=tf.keras.losses.Huber(), optimizer=optimizer,metrics=[tf.keras.metrics.RootMeanSquaredError()])\n",
        "history = model.fit(dataset,validation_data=dataset_test,epochs=23)"
      ],
      "execution_count": null,
      "outputs": [
        {
          "name": "stdout",
          "output_type": "stream",
          "text": [
            "Epoch 1/23\n",
            "216/216 [==============================] - 13s 29ms/step - loss: 10.6801 - root_mean_squared_error: 13.3167 - val_loss: 8.0691 - val_root_mean_squared_error: 10.6424\n",
            "Epoch 2/23\n",
            "216/216 [==============================] - 5s 24ms/step - loss: 8.7524 - root_mean_squared_error: 11.1192 - val_loss: 6.6815 - val_root_mean_squared_error: 9.3437\n",
            "Epoch 3/23\n",
            "216/216 [==============================] - 5s 25ms/step - loss: 5.7842 - root_mean_squared_error: 7.9309 - val_loss: 5.3122 - val_root_mean_squared_error: 7.4937\n",
            "Epoch 4/23\n",
            "216/216 [==============================] - 5s 24ms/step - loss: 4.0797 - root_mean_squared_error: 5.7399 - val_loss: 2.5825 - val_root_mean_squared_error: 3.6137\n",
            "Epoch 5/23\n",
            "216/216 [==============================] - 6s 25ms/step - loss: 3.4145 - root_mean_squared_error: 4.9209 - val_loss: 2.5026 - val_root_mean_squared_error: 3.3825\n",
            "Epoch 6/23\n",
            "216/216 [==============================] - 5s 25ms/step - loss: 2.7891 - root_mean_squared_error: 4.1632 - val_loss: 1.7218 - val_root_mean_squared_error: 2.4919\n",
            "Epoch 7/23\n",
            "216/216 [==============================] - 5s 25ms/step - loss: 2.2494 - root_mean_squared_error: 3.5042 - val_loss: 1.6116 - val_root_mean_squared_error: 2.4226\n",
            "Epoch 8/23\n",
            "216/216 [==============================] - 5s 25ms/step - loss: 1.8771 - root_mean_squared_error: 3.0393 - val_loss: 1.7032 - val_root_mean_squared_error: 2.4710\n",
            "Epoch 9/23\n",
            "216/216 [==============================] - 6s 26ms/step - loss: 1.5556 - root_mean_squared_error: 2.6453 - val_loss: 1.9353 - val_root_mean_squared_error: 2.6804\n",
            "Epoch 10/23\n",
            "216/216 [==============================] - 6s 26ms/step - loss: 1.2433 - root_mean_squared_error: 2.3009 - val_loss: 2.3957 - val_root_mean_squared_error: 3.1340\n",
            "Epoch 11/23\n",
            "216/216 [==============================] - 5s 25ms/step - loss: 1.0267 - root_mean_squared_error: 2.0356 - val_loss: 2.3814 - val_root_mean_squared_error: 3.0969\n",
            "Epoch 12/23\n",
            "216/216 [==============================] - 6s 25ms/step - loss: 0.9197 - root_mean_squared_error: 1.9033 - val_loss: 2.2557 - val_root_mean_squared_error: 2.9876\n",
            "Epoch 13/23\n",
            "216/216 [==============================] - 6s 26ms/step - loss: 0.8558 - root_mean_squared_error: 1.8111 - val_loss: 2.1383 - val_root_mean_squared_error: 2.8452\n",
            "Epoch 14/23\n",
            "216/216 [==============================] - 5s 25ms/step - loss: 0.7914 - root_mean_squared_error: 1.6932 - val_loss: 1.9510 - val_root_mean_squared_error: 2.6859\n",
            "Epoch 15/23\n",
            "216/216 [==============================] - 6s 26ms/step - loss: 0.7043 - root_mean_squared_error: 1.5713 - val_loss: 1.8688 - val_root_mean_squared_error: 2.6511\n",
            "Epoch 16/23\n",
            "216/216 [==============================] - 5s 25ms/step - loss: 0.6379 - root_mean_squared_error: 1.4827 - val_loss: 1.8288 - val_root_mean_squared_error: 2.6756\n",
            "Epoch 17/23\n",
            "216/216 [==============================] - 6s 26ms/step - loss: 0.5940 - root_mean_squared_error: 1.4139 - val_loss: 1.7793 - val_root_mean_squared_error: 2.6110\n",
            "Epoch 18/23\n",
            "216/216 [==============================] - 5s 25ms/step - loss: 0.5378 - root_mean_squared_error: 1.3091 - val_loss: 1.5652 - val_root_mean_squared_error: 2.4135\n",
            "Epoch 19/23\n",
            "216/216 [==============================] - 5s 25ms/step - loss: 0.5062 - root_mean_squared_error: 1.2533 - val_loss: 1.4747 - val_root_mean_squared_error: 2.3590\n",
            "Epoch 20/23\n",
            "216/216 [==============================] - 5s 25ms/step - loss: 0.4585 - root_mean_squared_error: 1.1814 - val_loss: 1.5226 - val_root_mean_squared_error: 2.4456\n",
            "Epoch 21/23\n",
            "216/216 [==============================] - 5s 24ms/step - loss: 0.4270 - root_mean_squared_error: 1.1298 - val_loss: 1.5257 - val_root_mean_squared_error: 2.3930\n",
            "Epoch 22/23\n",
            "216/216 [==============================] - 5s 24ms/step - loss: 0.3990 - root_mean_squared_error: 1.0852 - val_loss: 1.5903 - val_root_mean_squared_error: 2.4894\n",
            "Epoch 23/23\n",
            "216/216 [==============================] - 5s 25ms/step - loss: 0.3733 - root_mean_squared_error: 1.0415 - val_loss: 1.5064 - val_root_mean_squared_error: 2.3854\n"
          ]
        }
      ]
    },
    {
      "cell_type": "code",
      "metadata": {
        "colab": {
          "base_uri": "https://localhost:8080/",
          "height": 516
        },
        "id": "5ApiHRk1cELb",
        "outputId": "c203a98c-e9f8-408b-ef46-581111dfc6d2"
      },
      "source": [
        "epochs =  range(23)\n",
        "plt.figure(figsize=(12,8))\n",
        "plt.title('Epochs VS Huber Loss')\n",
        "plt.plot(epochs, history.history[\"val_loss\"],color='b',label='val_loss')\n",
        "plt.plot(epochs, history.history[\"loss\"],color='r',label='train_loss')\n",
        "plt.legend()"
      ],
      "execution_count": null,
      "outputs": [
        {
          "data": {
            "text/plain": [
              "<matplotlib.legend.Legend at 0x7f2a59dc7a10>"
            ]
          },
          "execution_count": 147,
          "metadata": {},
          "output_type": "execute_result"
        },
        {
          "data": {
            "image/png": "[encoded data removed]",
            "text/plain": [
              "<Figure size 864x576 with 1 Axes>"
            ]
          },
          "metadata": {},
          "output_type": "display_data"
        }
      ]
    },
    {
      "cell_type": "code",
      "metadata": {
        "colab": {
          "base_uri": "https://localhost:8080/"
        },
        "id": "zommqjoVNg93",
        "outputId": "f49623ae-be5e-4d07-d17d-7db2f435cc93"
      },
      "source": [
        "# model.save('/gdrive/MyDrive/Colab Notebooks/Tensorflow_in_practice/Mr_Kebou_Project/models/hourly_lstm_weights_epochs_23')"
      ],
      "execution_count": null,
      "outputs": [
        {
          "name": "stdout",
          "output_type": "stream",
          "text": [
            "INFO:tensorflow:Assets written to: /gdrive/MyDrive/Colab Notebooks/Tensorflow_in_practice/Mr_Kebou_Project/models/hourly_lstm_weights_epochs_23/assets\n"
          ]
        }
      ]
    },
    {
      "cell_type": "markdown",
      "metadata": {
        "id": "E4AANwD-Nee-"
      },
      "source": [
        "## Model Forecast And Prediction Section"
      ]
    },
    {
      "cell_type": "code",
      "metadata": {
        "id": "kK4u1dczj8jD"
      },
      "source": [
        "series = x_valid.values[:,:-1]\n",
        "y_valid = x_valid.values[:,-1]"
      ],
      "execution_count": null,
      "outputs": []
    },
    {
      "cell_type": "code",
      "metadata": {
        "id": "8Fwjm-L7FXIm"
      },
      "source": [
        "def model_forecast(model, series, window_size):\n",
        "    ds = tf.data.Dataset.from_tensor_slices(series)\n",
        "    ds = ds.window(window_size + 1, shift=1, drop_remainder=True)\n",
        "    ds = ds.flat_map(lambda w: w.batch(window_size + 1))\n",
        "    ds = ds.batch(32).prefetch(1)\n",
        "    forecast = model.predict(ds)\n",
        "    return forecast"
      ],
      "execution_count": null,
      "outputs": []
    },
    {
      "cell_type": "code",
      "metadata": {
        "colab": {
          "base_uri": "https://localhost:8080/"
        },
        "id": "qs2FXmQoh400",
        "outputId": "be42a2c5-da52-4691-f826-d101c3f47bd3"
      },
      "source": [
        "model_forecast(model, series[0][np.newaxis,...], 0)[0][0]"
      ],
      "execution_count": null,
      "outputs": [
        {
          "data": {
            "text/plain": [
              "-19.221573"
            ]
          },
          "execution_count": 168,
          "metadata": {},
          "output_type": "execute_result"
        }
      ]
    },
    {
      "cell_type": "code",
      "metadata": {
        "id": "pjHskRt7XsUm"
      },
      "source": [
        "rnn_forecast = model_forecast(model, series[..., np.newaxis], 0)\n",
        "rnn_forecast = rnn_forecast[:,0]"
      ],
      "execution_count": null,
      "outputs": []
    },
    {
      "cell_type": "code",
      "metadata": {
        "colab": {
          "base_uri": "https://localhost:8080/",
          "height": 492
        },
        "id": "8lpy2wzvgUur",
        "outputId": "f5cf3100-84ab-41f3-c71b-ec9729fe4866"
      },
      "source": [
        "fig,ax = plt.subplots(figsize=(10, 6))\n",
        "ax.set_title('Model Forecast VS Actual Forecast')\n",
        "ax.plot(time_valid[window_size:], y_valid[window_size:],label='Actual Forecast')\n",
        "ax.plot(time_valid[window_size:], results[window_size:],label='RNN Forecast')\n",
        "ax.set_xlabel('Data/Time')\n",
        "ax.set_ylabel('\tTemp (°C)')\n",
        "ax.legend()"
      ],
      "execution_count": null,
      "outputs": [
        {
          "data": {
            "text/plain": [
              "<matplotlib.legend.Legend at 0x7f2a59ac62d0>"
            ]
          },
          "execution_count": 160,
          "metadata": {},
          "output_type": "execute_result"
        },
        {
          "name": "stderr",
          "output_type": "stream",
          "text": [
            "/usr/local/lib/python3.7/dist-packages/matplotlib/backends/backend_agg.py:214: RuntimeWarning: Glyph 9 missing from current font.\n",
            "  font.set_text(s, 0.0, flags=flags)\n",
            "/usr/local/lib/python3.7/dist-packages/matplotlib/backends/backend_agg.py:183: RuntimeWarning: Glyph 9 missing from current font.\n",
            "  font.set_text(s, 0, flags=flags)\n"
          ]
        },
        {
          "data": {
            "image/png": "[encoded data removed]",
            "text/plain": [
              "<Figure size 720x432 with 1 Axes>"
            ]
          },
          "metadata": {},
          "output_type": "display_data"
        }
      ]
    },
    {
      "cell_type": "code",
      "metadata": {
        "colab": {
          "base_uri": "https://localhost:8080/",
          "height": 492
        },
        "id": "qrRKVKcRaF1C",
        "outputId": "6a702cb4-c692-4fab-ed66-8bd57d3b6238"
      },
      "source": [
        "fig,ax = plt.subplots(figsize=(10, 6))\n",
        "ax.set_title('Model Forecast VS Actual Forecast')\n",
        "ax.plot(time_valid[window_size:], y_valid[window_size:],label='Actual Forecast')\n",
        "ax.plot(time_valid[window_size:], rnn_forecast,label='RNN Forecast')\n",
        "ax.set_xlabel('Data/Time')\n",
        "ax.set_ylabel('\tTemp (°C)')\n",
        "ax.legend()"
      ],
      "execution_count": null,
      "outputs": [
        {
          "data": {
            "text/plain": [
              "<matplotlib.legend.Legend at 0x7ff2f8c5dc50>"
            ]
          },
          "execution_count": 86,
          "metadata": {},
          "output_type": "execute_result"
        },
        {
          "name": "stderr",
          "output_type": "stream",
          "text": [
            "/usr/local/lib/python3.7/dist-packages/matplotlib/backends/backend_agg.py:214: RuntimeWarning: Glyph 9 missing from current font.\n",
            "  font.set_text(s, 0.0, flags=flags)\n",
            "/usr/local/lib/python3.7/dist-packages/matplotlib/backends/backend_agg.py:183: RuntimeWarning: Glyph 9 missing from current font.\n",
            "  font.set_text(s, 0, flags=flags)\n"
          ]
        },
        {
          "data": {
            "image/png": "[encoded data removed]",
            "text/plain": [
              "<Figure size 720x432 with 1 Axes>"
            ]
          },
          "metadata": {},
          "output_type": "display_data"
        }
      ]
    },
    {
      "cell_type": "markdown",
      "metadata": {
        "id": "u5v2TReyMoS_"
      },
      "source": [
        "## Looking at the prediction plot of the data above the RNN(LSTM) model performs well in forecasting future unseen temperature values, The actual future temperature value plot is in Blue while the RNN(LSTM) model Forecast Predictions is in orange"
      ]
    },
    {
      "cell_type": "code",
      "metadata": {
        "id": "qfgG1Wr7WazN"
      },
      "source": [
        "# plt.semilogx(history.history[\"lr\"], history.history[\"loss\"])\n",
        "# # plt.ylim(0,4)\n",
        "# # plt.axis([1e-10, 1e-4, 0, 30])"
      ],
      "execution_count": null,
      "outputs": []
    },
    {
      "cell_type": "markdown",
      "metadata": {
        "id": "YYiDTySVNoXi"
      },
      "source": [
        "## Trying Out the Univariate approach to see if better forecast can be generated"
      ]
    },
    {
      "cell_type": "markdown",
      "metadata": {
        "id": "OiSZvS5aN1QH"
      },
      "source": [
        "### Using the temperature data only for model training"
      ]
    },
    {
      "cell_type": "code",
      "metadata": {
        "id": "1yF7-HFqDpUJ"
      },
      "source": [
        "split_time = sum(test.index.year == 2015) + sum(test.index.year == 2016) + sum(test.index.year == 2017)\n",
        "time_train = test.index[:split_time]\n",
        "x_train = test.iloc[:split_time]\n",
        "time_valid = test.index[split_time:]\n",
        "x_valid = test.iloc[split_time:]\n",
        "\n",
        "window_size =14\n",
        "batch_size = 32\n",
        "shuffle_buffer = 11"
      ],
      "execution_count": null,
      "outputs": []
    },
    {
      "cell_type": "markdown",
      "metadata": {
        "id": "CZh4KDlXN8pM"
      },
      "source": [
        "#### Helper Function for preparing the data to a form acceptable by the model together with model building and training"
      ]
    },
    {
      "cell_type": "code",
      "metadata": {
        "colab": {
          "base_uri": "https://localhost:8080/"
        },
        "id": "UsYT5pUlWPGy",
        "outputId": "8dd79a1b-92c1-4f53-f389-f91900eb80a2"
      },
      "source": [
        "def window_dataset(series, window_size, batch_size, shuffle_buffer):\n",
        "  dataset = tf.data.Dataset.from_tensor_slices(series)\n",
        "  dataset = dataset.window(window_size + 1, shift=1, drop_remainder=True)\n",
        "  dataset = dataset.flat_map(lambda window: window.batch(window_size + 1))\n",
        "  dataset = dataset.shuffle(shuffle_buffer).map(lambda window: (window[:-1], window[-1]))\n",
        "  dataset = dataset.batch(batch_size).prefetch(1)\n",
        "  return dataset\n",
        "\n",
        "dataset = window_dataset(x_train, window_size, batch_size, shuffle_buffer)\n",
        "model = tf.keras.models.Sequential([\n",
        "  tf.keras.layers.Lambda(lambda x: tf.expand_dims(x, axis=-1),\n",
        "                    input_shape=[None]),\n",
        "  tf.keras.layers.Bidirectional(tf.keras.layers.LSTM(32,activation='relu', return_sequences=True)),\n",
        "  tf.keras.layers.Dropout(0.35),\n",
        "  tf.keras.layers.Bidirectional(tf.keras.layers.LSTM(32,activation='relu',return_sequences=True)),\n",
        "  tf.keras.layers.Bidirectional(tf.keras.layers.LSTM(16,activation='relu')),\n",
        "  tf.keras.layers.Dropout(0.2),\n",
        "  tf.keras.layers.Dense(8,activation='relu'),\n",
        "  tf.keras.layers.Dense(1)\n",
        "  # tf.keras.layers.Lambda(lambda x: x * 100.0)\n",
        "])\n",
        "\n",
        "# lr_schedule = tf.keras.callbacks.LearningRateScheduler(\n",
        "#     lambda epoch: 1e-8 * 10**(epoch / 20))\n",
        "optimizer = optimizer = tf.keras.optimizers.Adam(learning_rate=4e-4)\n",
        "model.compile(loss=tf.keras.losses.Huber(),\n",
        "              optimizer=optimizer,\n",
        "              metrics=[tf.keras.metrics.RootMeanSquaredError()])\n",
        "# Train model\n",
        "history = model.fit(dataset, epochs=100) #callbacks=[lr_schedule])"
      ],
      "execution_count": null,
      "outputs": [
        {
          "name": "stdout",
          "output_type": "stream",
          "text": [
            "Epoch 1/100\n",
            "801/801 [==============================] - 36s 36ms/step - loss: 2.5712 - root_mean_squared_error: 4.7406\n",
            "Epoch 2/100\n",
            "801/801 [==============================] - 28s 35ms/step - loss: 0.9572 - root_mean_squared_error: 2.5542\n",
            "Epoch 3/100\n",
            "801/801 [==============================] - 29s 36ms/step - loss: 0.7222 - root_mean_squared_error: 2.1342\n",
            "Epoch 4/100\n",
            "801/801 [==============================] - 29s 36ms/step - loss: 0.4761 - root_mean_squared_error: 1.3738\n",
            "Epoch 5/100\n",
            "801/801 [==============================] - 29s 36ms/step - loss: 0.4145 - root_mean_squared_error: 1.3091\n",
            "Epoch 6/100\n",
            "801/801 [==============================] - 29s 36ms/step - loss: 0.3552 - root_mean_squared_error: 1.2262\n",
            "Epoch 7/100\n",
            "801/801 [==============================] - 29s 36ms/step - loss: 0.3259 - root_mean_squared_error: 1.1427\n",
            "Epoch 8/100\n",
            "801/801 [==============================] - 29s 36ms/step - loss: 0.3106 - root_mean_squared_error: 1.1362\n",
            "Epoch 9/100\n",
            "801/801 [==============================] - 29s 36ms/step - loss: 0.2748 - root_mean_squared_error: 1.1017\n",
            "Epoch 10/100\n",
            "801/801 [==============================] - 29s 36ms/step - loss: 0.2476 - root_mean_squared_error: 1.0169\n",
            "Epoch 11/100\n",
            "801/801 [==============================] - 29s 37ms/step - loss: 0.2511 - root_mean_squared_error: 1.0383\n",
            "Epoch 12/100\n",
            "801/801 [==============================] - 29s 36ms/step - loss: 0.2381 - root_mean_squared_error: 1.0105\n",
            "Epoch 13/100\n",
            "801/801 [==============================] - 29s 36ms/step - loss: 0.2162 - root_mean_squared_error: 0.9610\n",
            "Epoch 14/100\n",
            "801/801 [==============================] - 29s 36ms/step - loss: 0.2112 - root_mean_squared_error: 0.9605\n",
            "Epoch 15/100\n",
            "801/801 [==============================] - 29s 36ms/step - loss: 0.1962 - root_mean_squared_error: 0.9498\n",
            "Epoch 16/100\n",
            "801/801 [==============================] - 29s 36ms/step - loss: 0.1919 - root_mean_squared_error: 0.9479\n",
            "Epoch 17/100\n",
            "801/801 [==============================] - 29s 36ms/step - loss: 0.1838 - root_mean_squared_error: 0.9603\n",
            "Epoch 18/100\n",
            "801/801 [==============================] - 29s 36ms/step - loss: 0.1749 - root_mean_squared_error: 0.8749\n",
            "Epoch 19/100\n",
            "801/801 [==============================] - 29s 36ms/step - loss: 0.1743 - root_mean_squared_error: 0.9132\n",
            "Epoch 20/100\n",
            "801/801 [==============================] - 30s 37ms/step - loss: 0.1640 - root_mean_squared_error: 0.8762\n",
            "Epoch 21/100\n",
            "801/801 [==============================] - 28s 35ms/step - loss: 0.1579 - root_mean_squared_error: 0.8863\n",
            "Epoch 22/100\n",
            "801/801 [==============================] - 29s 36ms/step - loss: 0.1545 - root_mean_squared_error: 0.8678\n",
            "Epoch 23/100\n",
            "801/801 [==============================] - 29s 36ms/step - loss: 0.1568 - root_mean_squared_error: 0.9069\n",
            "Epoch 24/100\n",
            "801/801 [==============================] - 29s 36ms/step - loss: 0.1526 - root_mean_squared_error: 0.8586\n",
            "Epoch 25/100\n",
            "801/801 [==============================] - 31s 39ms/step - loss: 0.1492 - root_mean_squared_error: 0.8371\n",
            "Epoch 26/100\n",
            "801/801 [==============================] - 32s 40ms/step - loss: 0.1416 - root_mean_squared_error: 0.8095\n",
            "Epoch 27/100\n",
            "801/801 [==============================] - 29s 36ms/step - loss: 0.1334 - root_mean_squared_error: 0.8072\n",
            "Epoch 28/100\n",
            "801/801 [==============================] - 29s 36ms/step - loss: 0.1406 - root_mean_squared_error: 0.7628\n",
            "Epoch 29/100\n",
            "801/801 [==============================] - 30s 37ms/step - loss: 0.1337 - root_mean_squared_error: 0.7538\n",
            "Epoch 30/100\n",
            "801/801 [==============================] - 29s 36ms/step - loss: 0.1286 - root_mean_squared_error: 0.7689\n",
            "Epoch 31/100\n",
            "801/801 [==============================] - 30s 37ms/step - loss: 0.1286 - root_mean_squared_error: 0.7335\n",
            "Epoch 32/100\n",
            "801/801 [==============================] - 29s 36ms/step - loss: 0.1316 - root_mean_squared_error: 0.7553\n",
            "Epoch 33/100\n",
            "801/801 [==============================] - 29s 36ms/step - loss: 0.1243 - root_mean_squared_error: 0.7075\n",
            "Epoch 34/100\n",
            "801/801 [==============================] - 29s 36ms/step - loss: 0.1223 - root_mean_squared_error: 0.6755\n",
            "Epoch 35/100\n",
            "801/801 [==============================] - 29s 36ms/step - loss: 0.1207 - root_mean_squared_error: 0.6889\n",
            "Epoch 36/100\n",
            "801/801 [==============================] - 29s 36ms/step - loss: 0.1136 - root_mean_squared_error: 0.6637\n",
            "Epoch 37/100\n",
            "801/801 [==============================] - 29s 36ms/step - loss: 0.1131 - root_mean_squared_error: 0.6706\n",
            "Epoch 38/100\n",
            "801/801 [==============================] - 28s 35ms/step - loss: 0.1149 - root_mean_squared_error: 0.6452\n",
            "Epoch 39/100\n",
            "801/801 [==============================] - 29s 36ms/step - loss: 0.1032 - root_mean_squared_error: 0.6522\n",
            "Epoch 40/100\n",
            "801/801 [==============================] - 29s 37ms/step - loss: 0.1155 - root_mean_squared_error: 0.6697\n",
            "Epoch 41/100\n",
            "801/801 [==============================] - 29s 36ms/step - loss: 0.0919 - root_mean_squared_error: 0.6058\n",
            "Epoch 42/100\n",
            "801/801 [==============================] - 29s 36ms/step - loss: 0.1154 - root_mean_squared_error: 0.6660\n",
            "Epoch 43/100\n",
            "801/801 [==============================] - 29s 37ms/step - loss: 0.1019 - root_mean_squared_error: 0.6289\n",
            "Epoch 44/100\n",
            "801/801 [==============================] - 29s 36ms/step - loss: 0.0916 - root_mean_squared_error: 0.5956\n",
            "Epoch 45/100\n",
            "801/801 [==============================] - 29s 36ms/step - loss: 0.1007 - root_mean_squared_error: 0.6042\n",
            "Epoch 46/100\n",
            "801/801 [==============================] - 30s 37ms/step - loss: 0.0906 - root_mean_squared_error: 0.5753\n",
            "Epoch 47/100\n",
            "801/801 [==============================] - 30s 38ms/step - loss: 0.0983 - root_mean_squared_error: 0.5909\n",
            "Epoch 48/100\n",
            "801/801 [==============================] - 29s 36ms/step - loss: 0.0975 - root_mean_squared_error: 0.5986\n",
            "Epoch 49/100\n",
            "801/801 [==============================] - 29s 36ms/step - loss: 0.0849 - root_mean_squared_error: 0.5593\n",
            "Epoch 50/100\n",
            "801/801 [==============================] - 32s 39ms/step - loss: 0.0956 - root_mean_squared_error: 0.5824\n",
            "Epoch 51/100\n",
            "801/801 [==============================] - 31s 39ms/step - loss: 0.0808 - root_mean_squared_error: 0.5417\n",
            "Epoch 52/100\n",
            "801/801 [==============================] - 29s 36ms/step - loss: 0.0826 - root_mean_squared_error: 0.5485\n",
            "Epoch 53/100\n",
            "801/801 [==============================] - 29s 36ms/step - loss: 0.0833 - root_mean_squared_error: 0.5599\n",
            "Epoch 54/100\n",
            "801/801 [==============================] - 29s 36ms/step - loss: 0.0864 - root_mean_squared_error: 0.5687\n",
            "Epoch 55/100\n",
            "801/801 [==============================] - 30s 37ms/step - loss: 0.0888 - root_mean_squared_error: 0.5570\n",
            "Epoch 56/100\n",
            "801/801 [==============================] - 30s 37ms/step - loss: 0.0739 - root_mean_squared_error: 0.5251\n",
            "Epoch 57/100\n",
            "801/801 [==============================] - 30s 37ms/step - loss: 0.0921 - root_mean_squared_error: 0.5831\n",
            "Epoch 58/100\n",
            "801/801 [==============================] - 29s 37ms/step - loss: 0.0826 - root_mean_squared_error: 0.5699\n",
            "Epoch 59/100\n",
            "801/801 [==============================] - 29s 36ms/step - loss: 0.0865 - root_mean_squared_error: 0.5614\n",
            "Epoch 60/100\n",
            "801/801 [==============================] - 29s 36ms/step - loss: 0.0752 - root_mean_squared_error: 0.5203\n",
            "Epoch 61/100\n",
            "801/801 [==============================] - 29s 36ms/step - loss: 0.0813 - root_mean_squared_error: 0.5513\n",
            "Epoch 62/100\n",
            "801/801 [==============================] - 30s 37ms/step - loss: 0.0738 - root_mean_squared_error: 0.5232\n",
            "Epoch 63/100\n",
            "801/801 [==============================] - 30s 37ms/step - loss: 0.0783 - root_mean_squared_error: 0.5289\n",
            "Epoch 64/100\n",
            "801/801 [==============================] - 30s 37ms/step - loss: 0.0722 - root_mean_squared_error: 0.5099\n",
            "Epoch 65/100\n",
            "801/801 [==============================] - 30s 37ms/step - loss: 0.0756 - root_mean_squared_error: 0.5230\n",
            "Epoch 66/100\n",
            "801/801 [==============================] - 30s 37ms/step - loss: 0.0718 - root_mean_squared_error: 0.5130\n",
            "Epoch 67/100\n",
            "801/801 [==============================] - 29s 37ms/step - loss: 0.0774 - root_mean_squared_error: 0.5383\n",
            "Epoch 68/100\n",
            "801/801 [==============================] - 29s 36ms/step - loss: 0.0730 - root_mean_squared_error: 0.5433\n",
            "Epoch 69/100\n",
            "801/801 [==============================] - 29s 36ms/step - loss: 0.0835 - root_mean_squared_error: 0.5668\n",
            "Epoch 70/100\n",
            "801/801 [==============================] - 29s 37ms/step - loss: 0.0673 - root_mean_squared_error: 0.5039\n",
            "Epoch 71/100\n",
            "801/801 [==============================] - 29s 36ms/step - loss: 0.0726 - root_mean_squared_error: 0.5224\n",
            "Epoch 72/100\n",
            "801/801 [==============================] - 29s 36ms/step - loss: 0.0722 - root_mean_squared_error: 0.5334\n",
            "Epoch 73/100\n",
            "801/801 [==============================] - 29s 36ms/step - loss: 0.0757 - root_mean_squared_error: 0.5288\n",
            "Epoch 74/100\n",
            "801/801 [==============================] - 29s 36ms/step - loss: 0.0748 - root_mean_squared_error: 0.5291\n",
            "Epoch 75/100\n",
            "801/801 [==============================] - 29s 36ms/step - loss: 0.0746 - root_mean_squared_error: 0.5286\n",
            "Epoch 76/100\n",
            "801/801 [==============================] - 29s 37ms/step - loss: 0.0686 - root_mean_squared_error: 0.4977\n",
            "Epoch 77/100\n",
            "801/801 [==============================] - 29s 36ms/step - loss: 0.0682 - root_mean_squared_error: 0.5306\n",
            "Epoch 78/100\n",
            "801/801 [==============================] - 29s 36ms/step - loss: 0.0694 - root_mean_squared_error: 0.5184\n",
            "Epoch 79/100\n",
            "801/801 [==============================] - 29s 36ms/step - loss: 0.0682 - root_mean_squared_error: 0.5051\n",
            "Epoch 80/100\n",
            "801/801 [==============================] - 29s 37ms/step - loss: 0.0714 - root_mean_squared_error: 0.5075\n",
            "Epoch 81/100\n",
            "801/801 [==============================] - 29s 37ms/step - loss: 0.0703 - root_mean_squared_error: 0.5260\n",
            "Epoch 82/100\n",
            "801/801 [==============================] - 29s 36ms/step - loss: 0.0723 - root_mean_squared_error: 0.5398\n",
            "Epoch 83/100\n",
            "801/801 [==============================] - 29s 36ms/step - loss: 0.0699 - root_mean_squared_error: 0.5055\n",
            "Epoch 84/100\n",
            "801/801 [==============================] - 31s 39ms/step - loss: 0.0593 - root_mean_squared_error: 0.4771\n",
            "Epoch 85/100\n",
            "801/801 [==============================] - 29s 36ms/step - loss: 0.0701 - root_mean_squared_error: 0.5018\n",
            "Epoch 86/100\n",
            "801/801 [==============================] - 29s 36ms/step - loss: 0.0637 - root_mean_squared_error: 0.4850\n",
            "Epoch 87/100\n",
            "801/801 [==============================] - 29s 36ms/step - loss: 0.0681 - root_mean_squared_error: 0.4934\n",
            "Epoch 88/100\n",
            "801/801 [==============================] - 29s 37ms/step - loss: 0.0667 - root_mean_squared_error: 0.5006\n",
            "Epoch 89/100\n",
            "801/801 [==============================] - 29s 36ms/step - loss: 0.0628 - root_mean_squared_error: 0.4797\n",
            "Epoch 90/100\n",
            "801/801 [==============================] - 29s 37ms/step - loss: 0.0630 - root_mean_squared_error: 0.4853\n",
            "Epoch 91/100\n",
            "801/801 [==============================] - 29s 36ms/step - loss: 0.0630 - root_mean_squared_error: 0.4775\n",
            "Epoch 92/100\n",
            "801/801 [==============================] - 29s 37ms/step - loss: 0.0601 - root_mean_squared_error: 0.4778\n",
            "Epoch 93/100\n",
            "801/801 [==============================] - 29s 36ms/step - loss: 0.0673 - root_mean_squared_error: 0.5043\n",
            "Epoch 94/100\n",
            "801/801 [==============================] - 29s 37ms/step - loss: 0.0592 - root_mean_squared_error: 0.4666\n",
            "Epoch 95/100\n",
            "801/801 [==============================] - 30s 37ms/step - loss: 0.0618 - root_mean_squared_error: 0.4875\n",
            "Epoch 96/100\n",
            "801/801 [==============================] - 29s 37ms/step - loss: 0.0642 - root_mean_squared_error: 0.4630\n",
            "Epoch 97/100\n",
            "801/801 [==============================] - 30s 37ms/step - loss: 0.0563 - root_mean_squared_error: 0.4619\n",
            "Epoch 98/100\n",
            "801/801 [==============================] - 30s 37ms/step - loss: 0.0615 - root_mean_squared_error: 0.4647\n",
            "Epoch 99/100\n",
            "801/801 [==============================] - 29s 36ms/step - loss: 0.0600 - root_mean_squared_error: 0.4764\n",
            "Epoch 100/100\n",
            "801/801 [==============================] - 29s 36ms/step - loss: 0.0607 - root_mean_squared_error: 0.4745\n"
          ]
        }
      ]
    },
    {
      "cell_type": "markdown",
      "metadata": {
        "id": "Xddk4Q67Ogp_"
      },
      "source": [
        "### Model Evaluation"
      ]
    },
    {
      "cell_type": "code",
      "metadata": {
        "colab": {
          "base_uri": "https://localhost:8080/",
          "height": 455
        },
        "id": "eS672AhKMSm4",
        "outputId": "18a20da6-47e4-4e0c-a833-98689990449b"
      },
      "source": [
        "epochs =  range(100)\n",
        "plt.figure(figsize=(12,8))\n",
        "plt.plot(epochs, history.history[\"root_mean_squared_error\"],color='r')"
      ],
      "execution_count": null,
      "outputs": [
        {
          "data": {
            "text/plain": [
              "[<matplotlib.lines.Line2D at 0x7f843fbd3090>]"
            ]
          },
          "execution_count": 119,
          "metadata": {},
          "output_type": "execute_result"
        },
        {
          "data": {
            "image/png": "[encoded data removed]",
            "text/plain": [
              "<Figure size 864x576 with 1 Axes>"
            ]
          },
          "metadata": {},
          "output_type": "display_data"
        }
      ]
    },
    {
      "cell_type": "markdown",
      "metadata": {
        "id": "ZOohKJjFOqWs"
      },
      "source": [
        "### Forecast and Prediction"
      ]
    },
    {
      "cell_type": "code",
      "metadata": {
        "id": "eKPR3MDGTe5d"
      },
      "source": [
        "def model_forecast(model, series, window_size):\n",
        "    ds = tf.data.Dataset.from_tensor_slices(series)\n",
        "    ds = ds.window(window_size + 1, shift=1, drop_remainder=True)\n",
        "    ds = ds.flat_map(lambda w: w.batch(window_size + 1))\n",
        "    ds = ds.batch(32).prefetch(1)\n",
        "    forecast = model.predict(ds)\n",
        "    return forecast"
      ],
      "execution_count": null,
      "outputs": []
    },
    {
      "cell_type": "code",
      "metadata": {
        "id": "M10B1UfwTetd"
      },
      "source": [
        "rnn_forecast = model_forecast(model, x_valid.values[..., np.newaxis], window_size)\n",
        "rnn_forecast = rnn_forecast[:,0]"
      ],
      "execution_count": null,
      "outputs": []
    },
    {
      "cell_type": "code",
      "metadata": {
        "colab": {
          "base_uri": "https://localhost:8080/",
          "height": 492
        },
        "id": "A-UWOAalMSL7",
        "outputId": "9dcd804c-b057-42e3-fddd-b9532d87d536"
      },
      "source": [
        "fig,ax = plt.subplots(figsize=(10, 6))\n",
        "ax.set_title('Model Forecast VS Actual Forecast')\n",
        "ax.plot(time_valid[window_size:], x_valid.values[window_size:],label='Actual Forecast')\n",
        "ax.plot(time_valid[window_size:], rnn_forecast,label='RNN Forecast')\n",
        "ax.set_xlabel('Data/Time')\n",
        "ax.set_ylabel('\tTemp (°C)')\n",
        "ax.legend()"
      ],
      "execution_count": null,
      "outputs": [
        {
          "data": {
            "text/plain": [
              "<matplotlib.legend.Legend at 0x7f843aaaea50>"
            ]
          },
          "execution_count": 161,
          "metadata": {},
          "output_type": "execute_result"
        },
        {
          "name": "stderr",
          "output_type": "stream",
          "text": [
            "/usr/local/lib/python3.7/dist-packages/matplotlib/backends/backend_agg.py:214: RuntimeWarning: Glyph 9 missing from current font.\n",
            "  font.set_text(s, 0.0, flags=flags)\n",
            "/usr/local/lib/python3.7/dist-packages/matplotlib/backends/backend_agg.py:183: RuntimeWarning: Glyph 9 missing from current font.\n",
            "  font.set_text(s, 0, flags=flags)\n"
          ]
        },
        {
          "data": {
            "image/png": "[encoded data removed]",
            "text/plain": [
              "<Figure size 720x432 with 1 Axes>"
            ]
          },
          "metadata": {},
          "output_type": "display_data"
        }
      ]
    },
    {
      "cell_type": "markdown",
      "metadata": {
        "id": "x0cO-xO-Oyeu"
      },
      "source": [
        "#### Looking at the plot, it is clear that the Temperature alone is sufficient to forecast future temperature as the data is auto-correlated and the model can generate patterns from it,however the Predictions are not as optimal as that of the multi-variate approach"
      ]
    }
  ]
}